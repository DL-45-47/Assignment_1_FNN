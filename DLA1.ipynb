{
 "cells": [
  {
   "cell_type": "code",
   "execution_count": null,
   "metadata": {
    "colab": {
     "base_uri": "https://localhost:8080/"
    },
    "id": "smrMEd2JTm6d",
    "outputId": "a8254e17-ec77-4483-d951-0e3d72250488"
   },
   "outputs": [
    {
     "name": "stdout",
     "output_type": "stream",
     "text": [
      "Requirement already satisfied: wandb in /usr/local/lib/python3.7/dist-packages (0.10.22)\n",
      "Requirement already satisfied: subprocess32>=3.5.3 in /usr/local/lib/python3.7/dist-packages (from wandb) (3.5.4)\n",
      "Requirement already satisfied: psutil>=5.0.0 in /usr/local/lib/python3.7/dist-packages (from wandb) (5.4.8)\n",
      "Requirement already satisfied: pathtools in /usr/local/lib/python3.7/dist-packages (from wandb) (0.1.2)\n",
      "Requirement already satisfied: docker-pycreds>=0.4.0 in /usr/local/lib/python3.7/dist-packages (from wandb) (0.4.0)\n",
      "Requirement already satisfied: python-dateutil>=2.6.1 in /usr/local/lib/python3.7/dist-packages (from wandb) (2.8.1)\n",
      "Requirement already satisfied: GitPython>=1.0.0 in /usr/local/lib/python3.7/dist-packages (from wandb) (3.1.14)\n",
      "Requirement already satisfied: six>=1.13.0 in /usr/local/lib/python3.7/dist-packages (from wandb) (1.15.0)\n",
      "Requirement already satisfied: protobuf>=3.12.0 in /usr/local/lib/python3.7/dist-packages (from wandb) (3.12.4)\n",
      "Requirement already satisfied: PyYAML in /usr/local/lib/python3.7/dist-packages (from wandb) (3.13)\n",
      "Requirement already satisfied: Click>=7.0 in /usr/local/lib/python3.7/dist-packages (from wandb) (7.1.2)\n",
      "Requirement already satisfied: configparser>=3.8.1 in /usr/local/lib/python3.7/dist-packages (from wandb) (5.0.2)\n",
      "Requirement already satisfied: requests<3,>=2.0.0 in /usr/local/lib/python3.7/dist-packages (from wandb) (2.23.0)\n",
      "Requirement already satisfied: promise<3,>=2.0 in /usr/local/lib/python3.7/dist-packages (from wandb) (2.3)\n",
      "Requirement already satisfied: shortuuid>=0.5.0 in /usr/local/lib/python3.7/dist-packages (from wandb) (1.0.1)\n",
      "Requirement already satisfied: sentry-sdk>=0.4.0 in /usr/local/lib/python3.7/dist-packages (from wandb) (1.0.0)\n",
      "Requirement already satisfied: gitdb<5,>=4.0.1 in /usr/local/lib/python3.7/dist-packages (from GitPython>=1.0.0->wandb) (4.0.5)\n",
      "Requirement already satisfied: setuptools in /usr/local/lib/python3.7/dist-packages (from protobuf>=3.12.0->wandb) (54.0.0)\n",
      "Requirement already satisfied: idna<3,>=2.5 in /usr/local/lib/python3.7/dist-packages (from requests<3,>=2.0.0->wandb) (2.10)\n",
      "Requirement already satisfied: certifi>=2017.4.17 in /usr/local/lib/python3.7/dist-packages (from requests<3,>=2.0.0->wandb) (2020.12.5)\n",
      "Requirement already satisfied: chardet<4,>=3.0.2 in /usr/local/lib/python3.7/dist-packages (from requests<3,>=2.0.0->wandb) (3.0.4)\n",
      "Requirement already satisfied: urllib3!=1.25.0,!=1.25.1,<1.26,>=1.21.1 in /usr/local/lib/python3.7/dist-packages (from requests<3,>=2.0.0->wandb) (1.24.3)\n",
      "Requirement already satisfied: smmap<4,>=3.0.1 in /usr/local/lib/python3.7/dist-packages (from gitdb<5,>=4.0.1->GitPython>=1.0.0->wandb) (3.0.5)\n"
     ]
    }
   ],
   "source": [
    "! pip install wandb"
   ]
  },
  {
   "cell_type": "code",
   "execution_count": null,
   "metadata": {
    "id": "bd4JYgtoTu17"
   },
   "outputs": [],
   "source": [
    "import wandb\n",
    "from wandb.keras import WandbCallback\n",
    "import numpy as np\n",
    "import pandas as pd\n",
    "from PIL import Image as im\n",
    "from keras.datasets import fashion_mnist\n",
    "import matplotlib.pyplot as plt\n",
    "import seaborn as sn"
   ]
  },
  {
   "cell_type": "code",
   "execution_count": null,
   "metadata": {
    "id": "CJVidUcvVCkM"
   },
   "outputs": [],
   "source": [
    "from keras.models import Sequential\n",
    "from keras.layers import Conv2D, MaxPooling2D, Dropout, Dense, Flatten\n",
    "from keras.utils import np_utils\n",
    "from keras.optimizers import SGD\n",
    "from keras.optimizers import RMSprop, SGD, Adam, Nadam\n",
    "from keras.callbacks import ReduceLROnPlateau, ModelCheckpoint, Callback, EarlyStopping"
   ]
  },
  {
   "cell_type": "code",
   "execution_count": null,
   "metadata": {
    "id": "pk2kW8G8VRqo"
   },
   "outputs": [],
   "source": [
    "(x_train, y_train), (x_test, y_test) = fashion_mnist.load_data()"
   ]
  },
  {
   "cell_type": "code",
   "execution_count": null,
   "metadata": {
    "id": "9MIy0GIYKZSl"
   },
   "outputs": [],
   "source": [
    "showed=np.zeros(10)\n",
    "i=0\n",
    "images=[]\n",
    "classes=[]\n",
    "while (0 in showed):\n",
    "  i=np.random.randint(0,len(y_train))\n",
    "  if showed[y_train[i]]==0:\n",
    "    images.append(im.fromarray(x_train[i]))\n",
    "    classes.append(y_train[i])\n",
    "    showed[y_train[i]]=1\n",
    "  i=i+1"
   ]
  },
  {
   "cell_type": "code",
   "execution_count": null,
   "metadata": {
    "colab": {
     "base_uri": "https://localhost:8080/",
     "height": 477
    },
    "id": "AsYDwquSKcWq",
    "outputId": "456117fc-c17b-4e41-8334-ed4d85932a76"
   },
   "outputs": [
    {
     "data": {
      "text/html": [
       "\n",
       "                Tracking run with wandb version 0.10.22<br/>\n",
       "                Syncing run <strong style=\"color:#cdcd00\">zany-sweep-5</strong> to <a href=\"https://wandb.ai\" target=\"_blank\">Weights & Biases</a> <a href=\"https://docs.wandb.com/integrations/jupyter.html\" target=\"_blank\">(Documentation)</a>.<br/>\n",
       "                Project page: <a href=\"https://wandb.ai/prachisahu47/Feed_Forward_Neural_Network_modules\" target=\"_blank\">https://wandb.ai/prachisahu47/Feed_Forward_Neural_Network_modules</a><br/>\n",
       "                Sweep page: <a href=\"https://wandb.ai/prachisahu47/Feed_Forward_Neural_Network_modules/sweeps/oescqz35\" target=\"_blank\">https://wandb.ai/prachisahu47/Feed_Forward_Neural_Network_modules/sweeps/oescqz35</a><br/>\n",
       "Run page: <a href=\"https://wandb.ai/prachisahu47/Feed_Forward_Neural_Network_modules/runs/9zsr3h74\" target=\"_blank\">https://wandb.ai/prachisahu47/Feed_Forward_Neural_Network_modules/runs/9zsr3h74</a><br/>\n",
       "                Run data is saved locally in <code>/content/wandb/run-20210314_122317-9zsr3h74</code><br/><br/>\n",
       "            "
      ],
      "text/plain": [
       "<IPython.core.display.HTML object>"
      ]
     },
     "metadata": {
      "tags": []
     },
     "output_type": "display_data"
    },
    {
     "data": {
      "image/png": "[encoded data removed]",
      "text/plain": [
       "<Figure size 720x720 with 10 Axes>"
      ]
     },
     "metadata": {
      "tags": []
     },
     "output_type": "display_data"
    }
   ],
   "source": [
    "wandb.init()\n",
    "plt.figure(figsize=(10, 10))\n",
    "for i, image in enumerate(images):\n",
    "  img=plt.subplot(3, 5,i+1)\n",
    "  img.set_title(classes[i])\n",
    "  im=plt.imshow(image,cmap='gray')\n",
    "  wandb.log({\"img\": [wandb.Image(im, caption=\"Cafe\")]})"
   ]
  },
  {
   "cell_type": "code",
   "execution_count": null,
   "metadata": {
    "colab": {
     "base_uri": "https://localhost:8080/"
    },
    "id": "r2dlzeqrFxMw",
    "outputId": "bb195c72-fb2d-4431-8764-9543a786eba5"
   },
   "outputs": [
    {
     "name": "stdout",
     "output_type": "stream",
     "text": [
      "(54000, 28, 28) (6000, 28, 28)\n"
     ]
    }
   ],
   "source": [
    "samples=int(len(x_train)-0.1*len(x_train))\n",
    "X_train=x_train[0:samples]\n",
    "Y_train=y_train[0:samples]\n",
    "X_val=x_train[samples:len(x_train)]\n",
    "Y_val=y_train[samples:len(x_train)]\n",
    "print(X_train.shape,X_val.shape)"
   ]
  },
  {
   "cell_type": "code",
   "execution_count": null,
   "metadata": {
    "id": "yifdMJ6MVTfn"
   },
   "outputs": [],
   "source": [
    "labels=[\"T-shirt/top\",\"Trouser\",\"Pullover\",\"Dress\",\"Coat\", \"Sandal\",\"Shirt\",\"Sneaker\",\"Bag\",\"Ankle boot\"]\n",
    "# img_width=28\n",
    "# img_height=28\n",
    "# y_train"
   ]
  },
  {
   "cell_type": "code",
   "execution_count": null,
   "metadata": {
    "id": "7xgLZhzJVljW"
   },
   "outputs": [],
   "source": [
    "# X_train = X_train.astype('float32') / 255.\n",
    "# X_test = X_test.astype('float32') / 255.\n",
    "\n",
    "# # reshape input data\n",
    "# X_train = X_train.reshape(X_train.shape[0], img_width, img_height, 1)\n",
    "# X_test = X_test.reshape(X_test.shape[0], img_width, img_height, 1)\n",
    "\n",
    "# # one hot encode outputs\n",
    "# y_train = np_utils.to_categorical(y_train)\n",
    "# y_test = np_utils.to_categorical(y_test)\n",
    "# num_classes = y_test.shape[1]"
   ]
  },
  {
   "cell_type": "code",
   "execution_count": null,
   "metadata": {
    "id": "u5YJqeeXaxpP"
   },
   "outputs": [],
   "source": [
    "# # Configure the sweep – specify the parameters to search through, the search strategy, the optimization metric et all.\n",
    "sweep_config = {\n",
    "    'method': 'random', #grid, random\n",
    "    'metric': {\n",
    "      'name': 'accuracy',\n",
    "      'goal': 'maximize'   \n",
    "    },\n",
    "    'parameters': {\n",
    "        'epochs': {\n",
    "            'values': [5, 10]\n",
    "        },\n",
    "        'no_of_hidden_layers': { \n",
    "            'values': [1,2]\n",
    "            # 'values': [3]\n",
    "        },\n",
    "        'hidden_layer_size': {\n",
    "            'values': [64, 128, 512]\n",
    "            # 'values': [16]\n",
    "        },\n",
    "        'weight_decay':{\n",
    "            'values': [0, 0.0005, 0.5]\n",
    "        },\n",
    "        'learning_rate': {\n",
    "            'values': [0.0001, 0.000999]\n",
    "            # 'values': [1e-3]\n",
    "        },\n",
    "        'optimizer': {\n",
    "            'values': ['adam', 'nadam', 'sgd', 'rmsprop', 'momentum', 'nesterov']\n",
    "            # 'values': ['gd']\n",
    "        },\n",
    "        'batch_size': {\n",
    "            'values': [32,64,128]\n",
    "            # 'values': [32]\n",
    "        },       \n",
    "        'weight_initialisation':{\n",
    "            'values': ['random', 'Xavier','Xavier','Xavier', 'Xavier']\n",
    "        },\n",
    "        'activation': {\n",
    "            # 'values': ['relu', 'elu', 'selu', 'softmax']\n",
    "            'values': ['sigmoid','tanh','ReLu']\n",
    "        }\n",
    "        \n",
    "        \n",
    "    }\n",
    "}\n",
    "# Configure the sweep – specify the parameters to search through, the search strategy, the optimization metric et all.\n"
   ]
  },
  {
   "cell_type": "code",
   "execution_count": null,
   "metadata": {
    "colab": {
     "base_uri": "https://localhost:8080/"
    },
    "id": "tuh2mZwKUFHP",
    "outputId": "30842ba6-63f4-41ff-ac1e-0d5ecdf4882f"
   },
   "outputs": [
    {
     "name": "stderr",
     "output_type": "stream",
     "text": [
      "\u001b[34m\u001b[1mwandb\u001b[0m: \u001b[33mWARNING\u001b[0m Calling wandb.login() after wandb.init() has no effect.\n"
     ]
    },
    {
     "name": "stdout",
     "output_type": "stream",
     "text": [
      "Create sweep with ID: xhqmq89s\n",
      "Sweep URL: https://wandb.ai/prachisahu47/Feed_Forward_Neural_Network_modules/sweeps/xhqmq89s\n"
     ]
    }
   ],
   "source": [
    "sweep_id = wandb.sweep(sweep_config, project=\"Feed_Forward_Neural_Network_modules\")"
   ]
  },
  {
   "cell_type": "code",
   "execution_count": null,
   "metadata": {
    "id": "Q8GL1Bk2a85p"
   },
   "outputs": [],
   "source": [
    "\n",
    "# config = wandb.config.parameters['epochs']\n",
    "# config"
   ]
  },
  {
   "cell_type": "code",
   "execution_count": null,
   "metadata": {
    "id": "2vuTt8btKZfD"
   },
   "outputs": [],
   "source": [
    "def init_w_and_b(config):\n",
    "  # print('b')\n",
    "  layers=config.no_of_hidden_layers+1\n",
    "  neurons=[len(X_train[0].reshape(784))]\n",
    "  for i in range(1,layers): neurons.append(config.hidden_layer_size)\n",
    "  neurons.append(10)\n",
    "  #print(neurons)\n",
    "  w=[]\n",
    "  b=[]\n",
    "  if(config.weight_initialisation== 'random'):\n",
    "    for i in range(1,layers+1):\n",
    "      wx=np.random.rand(neurons[i],neurons[i-1])\n",
    "      w.append(wx)\n",
    "    for i in range(1,layers+1):\n",
    "      bx=np.random.rand(neurons[i])\n",
    "      b.append(bx)\n",
    "\n",
    "  if(config.weight_initialisation== 'Xavier'):\n",
    "    var=2/(neurons[0]+neurons[layers])\n",
    "    mu=0\n",
    "    for i in range(1,layers+1):\n",
    "      wx=np.random.normal(mu,var,(neurons[i],neurons[i-1]))\n",
    "      w.append(wx)\n",
    "    for i in range(1,layers+1):\n",
    "      bx=np.random.normal(mu,var,neurons[i])\n",
    "      b.append(bx)\n",
    "  \n",
    "  return neurons, w, b"
   ]
  },
  {
   "cell_type": "code",
   "execution_count": null,
   "metadata": {
    "id": "154S0_GVxPsI"
   },
   "outputs": [],
   "source": [
    "def activation_func(a1, choice):\n",
    "    if(choice == 'sigmoid'):\n",
    "      return (1/(1+np.exp(-a1)))\n",
    "    if(choice=='tanh'):\n",
    "      return (2/(1+np.exp(-2*a1))-1)\n",
    "    if(choice=='ReLu'):\n",
    "      return np.multiply(1*(a1>=0),a1)"
   ]
  },
  {
   "cell_type": "code",
   "execution_count": null,
   "metadata": {
    "id": "pnebSbhXo-9w"
   },
   "outputs": [],
   "source": [
    "def activation_func_derivative(a,choice):\n",
    "  if(choice == 'sigmoid'):\n",
    "      return activation_func(a,choice)*(1-activation_func(a,choice))\n",
    "  if(choice=='tanh'):\n",
    "    return 1-np.square(activation_func(a,choice))\n",
    "  if(choice=='ReLu'):\n",
    "    return 1*(a>=0)"
   ]
  },
  {
   "cell_type": "code",
   "execution_count": null,
   "metadata": {
    "id": "HM3GO8de9toq"
   },
   "outputs": [],
   "source": [
    "def get_val_accuracy(w,b,config):\n",
    "  match=0\n",
    "  for i in range(len(Y_val)):\n",
    "    yhat=predict(w,b,X_val[i].reshape(784),config)\n",
    "    if yhat[Y_val[i]]==max(yhat):\n",
    "      match+=1\n",
    "  return match/len(Y_val)"
   ]
  },
  {
   "cell_type": "code",
   "execution_count": null,
   "metadata": {
    "id": "pERh389hkgvo"
   },
   "outputs": [],
   "source": [
    "def get_accuracy(w,b,config):\n",
    "  match=0\n",
    "  for i in range(len(Y_train)):\n",
    "    yhat=predict(w,b,X_train[i].reshape(784),config)\n",
    "    if yhat[Y_train[i]]==max(yhat):\n",
    "      match+=1\n",
    "  return match/len(Y_train)"
   ]
  },
  {
   "cell_type": "code",
   "execution_count": null,
   "metadata": {
    "id": "LZByvE91znZZ"
   },
   "outputs": [],
   "source": [
    "def mean_squared_error(w,b,config):\n",
    "  err=0\n",
    "  for i in range(len(Y_train)):\n",
    "    yhat=predict(w,b,X_train[i].reshape(784),config)\n",
    "    err+=np.square(yhat[Y_train[i]] - 1)\n",
    "    \n",
    "  err=np.sqrt(err)\n",
    "  l2norm=0\n",
    "  for i in range(len(w)):\n",
    "    l2norm+=np.linalg.norm(w[i])\n",
    "\n",
    "  return err/len(Y_train)+l2norm*config.weight_decay/(2*len(Y_train))"
   ]
  },
  {
   "cell_type": "code",
   "execution_count": null,
   "metadata": {
    "id": "ZwxbWrA7znpc"
   },
   "outputs": [],
   "source": [
    "def val_mean_squared_error(w,b,config):\n",
    "  err=0\n",
    "  for i in range(len(Y_val)):\n",
    "    yhat=predict(w,b,X_val[i].reshape(784),config)\n",
    "    err+=np.square(yhat[Y_val[i]] - 1)\n",
    "    \n",
    "  err=np.sqrt(err)\n",
    "  l2norm=0\n",
    "  for i in range(len(w)):\n",
    "    l2norm+=np.linalg.norm(w[i])\n",
    "\n",
    "  return err/len(Y_val)+l2norm*config.weight_decay/(2*len(Y_val))"
   ]
  },
  {
   "cell_type": "code",
   "execution_count": null,
   "metadata": {
    "id": "7J9pAv1vsmHf"
   },
   "outputs": [],
   "source": [
    "def cross_entropy(w,b,config):\n",
    "  err=0\n",
    "  for i in range(len(Y_train)):\n",
    "    yhat=predict(w,b,X_train[i].reshape(784),config)\n",
    "    err+=-np.log(yhat[Y_train[i]])\n",
    "  l2norm=0\n",
    "  for i in range(len(w)):\n",
    "    l2norm+=np.linalg.norm(w[i])\n",
    "\n",
    "  return err/len(Y_train)+l2norm*config.weight_decay/(2*len(Y_train))"
   ]
  },
  {
   "cell_type": "code",
   "execution_count": null,
   "metadata": {
    "id": "X9QyaK1TlPTi"
   },
   "outputs": [],
   "source": [
    "def val_cross_entropy(w,b,config):\n",
    "  err=0\n",
    "  for i in range(len(Y_val)):\n",
    "    yhat=predict(w,b,X_val[i].reshape(784),config)\n",
    "    err+=-np.log(yhat[Y_val[i]])\n",
    "  l2norm=0\n",
    "  for i in range(len(w)):\n",
    "    l2norm+=np.linalg.norm(w[i])\n",
    "\n",
    "  return err/len(Y_val)+l2norm*config.weight_decay/(2*len(Y_val))"
   ]
  },
  {
   "cell_type": "code",
   "execution_count": null,
   "metadata": {
    "id": "x6IAWCXFt0BP"
   },
   "outputs": [],
   "source": [
    "def predict(w,b,img,config):\n",
    "  a=b[0]+np.dot(w[0],img)\n",
    "  h=activation_func(a, config.activation) \n",
    "\n",
    "  layers=config.no_of_hidden_layers+1\n",
    "  for i in range(1,layers-1):\n",
    "    a=b[i]+np.dot(w[i],h)\n",
    "    h=activation_func(a, config.activation)   \n",
    "  lastLayer=b[layers-1]+np.dot(w[layers-1],h)\n",
    "  y=softmax(lastLayer)\n",
    "  return y"
   ]
  },
  {
   "cell_type": "code",
   "execution_count": null,
   "metadata": {
    "id": "zpo52GMkFCdn"
   },
   "outputs": [],
   "source": [
    "def softmax(a):\n",
    "  return np.exp(a)/sum(np.exp(a))"
   ]
  },
  {
   "cell_type": "code",
   "execution_count": null,
   "metadata": {
    "id": "HpwB7P56uJWn"
   },
   "outputs": [],
   "source": [
    "def forward_prop(w,b,p,config):\n",
    "  # print('c')\n",
    "  layers = config.no_of_hidden_layers+1\n",
    "  h=[]\n",
    "  a=[]\n",
    "  a1=b[0]+np.dot(w[0],X_train[p].reshape(784))\n",
    "  a.append(a1)\n",
    "  h1 = activation_func(a1, config.activation)\n",
    "  h.append(h1)\n",
    "  for i in range(1,layers-1):\n",
    "    a1=b[i]+np.dot(w[i],h[i-1])\n",
    "    a.append(a1)\n",
    "    h1=activation_func(a1, config.activation) \n",
    "    h.append(h1)\n",
    "  a1=b[layers-1]+np.dot(w[layers-1],h[layers-2])######Repeat\n",
    "  a.append(a1)\n",
    "  y=softmax(a1)\n",
    "  return h,a,y"
   ]
  },
  {
   "cell_type": "code",
   "execution_count": null,
   "metadata": {
    "id": "kzaD2NlRuMsr"
   },
   "outputs": [],
   "source": [
    "def backward_prop(h,a,y,p,config,w,b):\n",
    "  # print('e')\n",
    "  layers = config.no_of_hidden_layers+1\n",
    "  wdash=[]\n",
    "  bdash=[]\n",
    "  actualY=np.zeros(10)\n",
    "  actualY[Y_train[p]]=1\n",
    "  dela=y-actualY\n",
    "\n",
    "  for i in range(0,layers-1):\n",
    "    delw=np.outer(dela,h[layers-2-i])\n",
    "    wdash.append(delw)\n",
    "    bdash.append(dela)\n",
    "    delh=np.dot(w[layers-1-i].T,dela)\n",
    "    #g=(1/(1+np.exp(-a[layers-1-i-1])))   #chnge to actvatn derivative ???????????????????????\n",
    "    gdash=activation_func_derivative(a[layers-1-i-1],config.activation)\n",
    "    dela=np.multiply(delh,gdash)\n",
    "  \n",
    "  delw=np.outer(dela,X_train[p])\n",
    "  wdash.append(delw)\n",
    "  bdash.append(dela)\n",
    "  wdash.reverse()\n",
    "  bdash.reverse()\n",
    "  return wdash,bdash\n"
   ]
  },
  {
   "cell_type": "code",
   "execution_count": null,
   "metadata": {
    "id": "a4JWW2pTKgnT"
   },
   "outputs": [],
   "source": [
    "def gradient_descent(config):\n",
    "  # print('a')\n",
    "  # print(config.no_of_hidden_layers, config.hidden_layer_size, config.batch_size, config.learning_rate, config.activation)\n",
    "  maxitr = config.epochs\n",
    "  neurons, w, b = init_w_and_b(config)\n",
    "  #s=len(X_train)\n",
    "  error=[]\n",
    "  val_error=[]\n",
    "  accuracy=[]\n",
    "  val_accuracy=[]\n",
    "  mse=[]\n",
    "  val_mse=[]\n",
    "  for i in range(0,maxitr):\n",
    "    wgrad=[]\n",
    "    bgrad=[]\n",
    "    bs=0\n",
    "    for j in range(0,samples):\n",
    "      bs+=1\n",
    "      h,a,y=forward_prop(w,b,j,config)\n",
    "      wdash,bdash=backward_prop(h,a,y,j,config,w,b)\n",
    "      wgrad.append(wdash)\n",
    "      bgrad.append(bdash)\n",
    "      if bs%config.batch_size==0:\n",
    "        w=np.subtract(w,config.learning_rate*np.sum(wgrad,axis=0))\n",
    "        b=np.subtract(b,config.learning_rate*np.sum(bgrad,axis=0))\n",
    "        wgrad.clear()\n",
    "        bgrad.clear()\n",
    "    error.append(cross_entropy(w,b,config))\n",
    "    val_error.append(val_cross_entropy(w,b,config))\n",
    "    accuracy.append(get_accuracy(w,b,config))\n",
    "    val_accuracy.append(get_val_accuracy(w,b,config))\n",
    "    mse.append(mean_squared_error(w,b,config))\n",
    "    val_mse.append(val_mean_squared_error(w,b,config))\n",
    "\n",
    "  return w,b,error,val_error,accuracy,val_accuracy,mse,val_mse"
   ]
  },
  {
   "cell_type": "code",
   "execution_count": null,
   "metadata": {
    "id": "tGjepXLRkmPG"
   },
   "outputs": [],
   "source": [
    "def stocastic_gd(config):\n",
    "  layers=config.no_of_hidden_layers+1\n",
    "  epoch=config.epochs\n",
    "  eta=config.learning_rate\n",
    "  batch_size=config.batch_size\n",
    "\n",
    "  neurons, w, b = init_w_and_b(config)\n",
    "\n",
    "  #s=len(x_train)\n",
    "  error=[]\n",
    "  val_error=[]\n",
    "  accuracy=[]\n",
    "  val_accuracy=[]\n",
    "  mse=[]\n",
    "  val_mse=[]\n",
    "  for i in range(0,epoch):\n",
    "    wgrad=[]\n",
    "    bgrad=[]\n",
    "    bs=0\n",
    "    for j in range(0,samples):\n",
    "      bs+=1\n",
    "      h,a,y=forward_prop(w,b,j,config)\n",
    "      wdash,bdash=backward_prop(h,a,y,j,config,w,b)\n",
    "      wgrad.append(wdash)\n",
    "      bgrad.append(bdash)\n",
    "      if bs%batch_size==0:\n",
    "        w=np.subtract(w,eta*np.sum(wgrad,axis=0))\n",
    "        b=np.subtract(b,eta*np.sum(bgrad,axis=0))\n",
    "        wgrad.clear()\n",
    "        bgrad.clear()\n",
    "    error.append(cross_entropy(w,b,config))\n",
    "    val_error.append(val_cross_entropy(w,b,config))\n",
    "    accuracy.append(get_accuracy(w,b,config))\n",
    "    val_accuracy.append(get_val_accuracy(w,b,config))\n",
    "    mse.append(mean_squared_error(w,b,config))\n",
    "    val_mse.append(val_mean_squared_error(w,b,config))\n",
    "  return w,b,error,val_error,accuracy,val_accuracy,mse,val_mse\n",
    "  # img_num=np.random.randint(0,len(y_test))\n",
    "  # y_hat=predict(w,b,x_test[img_num])\n",
    "  # print(\"probabilities of each class:\",y_hat)"
   ]
  },
  {
   "cell_type": "code",
   "execution_count": null,
   "metadata": {
    "id": "w3QW3NbZH9cM"
   },
   "outputs": [],
   "source": [
    "def momentum_gd(config):\n",
    "  layers=config.no_of_hidden_layers+1\n",
    "  epoch=config.epochs\n",
    "  gamma=0.9\n",
    "  eta=config.learning_rate\n",
    "  batch_size=config.batch_size\n",
    "\n",
    "  neurons, w, b = init_w_and_b(config)\n",
    "\n",
    "  #s=len(x_train)\n",
    "  pre_updt_w=[]\n",
    "  for i in range(1,layers+1):\n",
    "    pwx=np.zeros((neurons[i],neurons[i-1]))\n",
    "    pre_updt_w.append(pwx)\n",
    "\n",
    "  pre_updt_b=[]\n",
    "  for i in range(1,layers+1):\n",
    "    pbx=np.zeros(neurons[i])\n",
    "    pre_updt_b.append(pbx)\n",
    "  error=[]\n",
    "  val_error=[]\n",
    "  accuracy=[]\n",
    "  val_accuracy=[]\n",
    "  mse=[]\n",
    "  val_mse=[]\n",
    "  for i in range(0,epoch):\n",
    "    wgrad=[]\n",
    "    bgrad=[]\n",
    "    bs=0\n",
    "    for j in range(0,samples):\n",
    "      bs+=1\n",
    "      h,a,y=forward_prop(w,b,j,config)\n",
    "      wdash,bdash=backward_prop(h,a,y,j,config,w,b)\n",
    "      wgrad.append(wdash)\n",
    "      bgrad.append(bdash)\n",
    "      if bs%batch_size==0:\n",
    "        updt_w = np.add((gamma*np.array(pre_updt_w)), (eta*np.sum(wgrad,axis=0)))\n",
    "        updt_b = np.add((gamma*np.array(pre_updt_b)), (eta*np.sum(bgrad,axis=0)))\n",
    "        w=np.subtract(w,updt_w)\n",
    "        b=np.subtract(b,updt_b)\n",
    "        pre_updt_w = updt_w\n",
    "        pre_updt_b = updt_b\n",
    "        wgrad.clear()\n",
    "        bgrad.clear()\n",
    "    error.append(cross_entropy(w,b,config))\n",
    "    val_error.append(val_cross_entropy(w,b,config))\n",
    "    accuracy.append(get_accuracy(w,b,config))\n",
    "    val_accuracy.append(get_val_accuracy(w,b,config))\n",
    "    mse.append(mean_squared_error(w,b,config))\n",
    "    val_mse.append(val_mean_squared_error(w,b,config))\n",
    "  return w,b,error,val_error,accuracy,val_accuracy,mse,val_mse"
   ]
  },
  {
   "cell_type": "code",
   "execution_count": null,
   "metadata": {
    "id": "Hgu9pvtPeE4l"
   },
   "outputs": [],
   "source": [
    "def Nesterov_gd(config):\n",
    "  layers=config.no_of_hidden_layers+1\n",
    "  epoch=config.epochs\n",
    "  gamma=0.9\n",
    "  eta=config.learning_rate\n",
    "  batch_size=config.batch_size\n",
    "  # epoch=10 \n",
    "  # eta=0.001\n",
    "  # gamma =0.9\n",
    "  # batch_size=1\n",
    "\n",
    "  neurons, w, b = init_w_and_b(config)\n",
    "\n",
    "  #s=len(x_train)\n",
    "  updt_w=[]\n",
    "  for i in range(1,layers+1):\n",
    "    pwx=np.zeros((neurons[i],neurons[i-1]))\n",
    "    updt_w.append(pwx)\n",
    "  \n",
    "  updt_b=[]\n",
    "  for i in range(1,layers+1):\n",
    "    pbx=np.zeros(neurons[i])\n",
    "    updt_b.append(pbx)\n",
    "  \n",
    "  # img_num=np.random.randint(0,len(y_test))\n",
    "  error=[]\n",
    "  val_error=[]\n",
    "  accuracy=[]\n",
    "  val_accuracy=[]\n",
    "  mse=[]\n",
    "  val_mse=[]\n",
    "  for i in range(0,epoch):\n",
    "    wgrad=[]\n",
    "    bgrad=[]\n",
    "    w_la=np.subtract(w,gamma*np.array(updt_w))\n",
    "    b_la=np.subtract(b,gamma*np.array(updt_b))\n",
    "    bs=0\n",
    "    for j in range(0,samples):\n",
    "      bs+=1\n",
    "      h,a,y=forward_prop(w_la,b_la,j,config)\n",
    "      wdash,bdash=backward_prop(h,a,y,j,config,w_la,b_la)\n",
    "      wgrad.append(wdash)\n",
    "      bgrad.append(bdash)\n",
    "      if bs%batch_size==0:\n",
    "        updt_w = np.add((gamma*np.array(updt_w)), (eta*np.sum(wgrad,axis=0)))\n",
    "        updt_b = np.add((gamma*np.array(updt_b)), (eta*np.sum(bgrad,axis=0)))\n",
    "\n",
    "        w=np.subtract(w,updt_w)\n",
    "        b=np.subtract(b,updt_b)\n",
    "\n",
    "        w_la=np.subtract(w,gamma*np.array(updt_w))\n",
    "        b_la=np.subtract(b,gamma*np.array(updt_b))\n",
    "\n",
    "        wgrad.clear()\n",
    "        bgrad.clear()\n",
    "    error.append(cross_entropy(w,b,config))#----------\n",
    "    val_error.append(val_cross_entropy(w,b,config))\n",
    "    accuracy.append(get_accuracy(w,b,config))\n",
    "    val_accuracy.append(get_val_accuracy(w,b,config))\n",
    "    mse.append(mean_squared_error(w,b,config))\n",
    "    val_mse.append(val_mean_squared_error(w,b,config))\n",
    "  return w,b,error,val_error,accuracy,val_accuracy,mse,val_mse\n",
    "    # y_hat=predict(w,b,x_test[img_num])\n",
    "    # print(\"probabilities of each class:\",y_hat)\n",
    "    # print(\"actual label:\",y_test[img_num],\"predicted label:\",np.argmax(y_hat))"
   ]
  },
  {
   "cell_type": "code",
   "execution_count": null,
   "metadata": {
    "id": "LDpjOU0cJIA2"
   },
   "outputs": [],
   "source": [
    "def RMS_prop(config):\n",
    "  layers=config.no_of_hidden_layers+1\n",
    "  epoch_size=config.epochs\n",
    "  eta=config.learning_rate\n",
    "  epsilon=0.00000001\n",
    "  beta=0.9\n",
    "  #s=len(x_train)-6000\n",
    "  batch_size=config.batch_size\n",
    "\n",
    "  neurons, w, b = init_w_and_b(config)\n",
    "\n",
    "  vb=[]\n",
    "  for i in range(1,layers+1):\n",
    "    bx=np.zeros(neurons[i])\n",
    "    vb.append(bx)\n",
    "\n",
    "  vw=[]\n",
    "  for i in range(1,layers+1):\n",
    "    wx=np.zeros((neurons[i],neurons[i-1]))\n",
    "    vw.append(wx)\n",
    "  error=[]\n",
    "  val_error=[]\n",
    "  accuracy=[]\n",
    "  val_accuracy=[]\n",
    "  mse=[]\n",
    "  val_mse=[]\n",
    "  for i in range(epoch_size):\n",
    "    wgrad=[]\n",
    "    bgrad=[]\n",
    "    bs=0\n",
    "    for j in range(0,samples):\n",
    "      bs+=1\n",
    "      h,a,y=forward_prop(w,b,j,config)\n",
    "      wdash,bdash=backward_prop(h,a,y,j,config,w,b)\n",
    "      wgrad.append(wdash)\n",
    "      bgrad.append(bdash)\n",
    "      if bs%batch_size==0:\n",
    "        vw=np.add(beta*np.array(vw),(1-beta)*np.square(np.sum(wgrad,axis=0)))\n",
    "        vb=np.add(beta*np.array(vb),(1-beta)*np.square(np.sum(bgrad,axis=0)))\n",
    "        w = np.subtract(w, np.multiply(np.divide(eta, np.add(vw,epsilon)), np.sum(wgrad,axis=0)))\n",
    "        b = np.subtract(b, np.multiply(np.divide(eta, np.add(vb,epsilon)), np.sum(bgrad,axis=0)))\n",
    "        wgrad.clear()\n",
    "        bgrad.clear()\n",
    "    error.append(cross_entropy(w,b,config))\n",
    "    val_error.append(val_cross_entropy(w,b,config))\n",
    "    accuracy.append(get_accuracy(w,b,config))\n",
    "    val_accuracy.append(get_val_accuracy(w,b,config))\n",
    "    mse.append(mean_squared_error(w,b,config))\n",
    "    val_mse.append(val_mean_squared_error(w,b,config))\n",
    "  return w,b,error,val_error,accuracy,val_accuracy,mse,val_mse"
   ]
  },
  {
   "cell_type": "code",
   "execution_count": null,
   "metadata": {
    "id": "FrnLYBYPNRUh"
   },
   "outputs": [],
   "source": [
    "def Adam(config):\n",
    "  layers=config.no_of_hidden_layers+1\n",
    "  epoch=config.epochs\n",
    "  eta=config.learning_rate\n",
    "  beta1=0.9\n",
    "  beta2=0.999\n",
    "  epsilon=0.00000001\n",
    "  batch_size=config.batch_size\n",
    "  #s=len(x_train)-6000\n",
    "  \n",
    "  neurons, w, b = init_w_and_b(config)\n",
    "\n",
    "  mw=[]\n",
    "  vw=[]\n",
    "  for i in range(1,layers+1):\n",
    "    wx=np.zeros((neurons[i],neurons[i-1]))\n",
    "    mw.append(wx)\n",
    "    vw.append(wx)\n",
    "  \n",
    "  mb=[]\n",
    "  vb=[]\n",
    "  error=[]\n",
    "  val_error=[]\n",
    "  accuracy=[]\n",
    "  val_accuracy=[]\n",
    "  mse=[]\n",
    "  val_mse=[]\n",
    "  for i in range(1,layers+1):\n",
    "    bx=np.zeros(neurons[i])\n",
    "    mb.append(bx)\n",
    "    vb.append(bx)\n",
    "\n",
    "\n",
    "  for i in range(0,epoch):\n",
    "    wgrad=[]\n",
    "    bgrad=[]\n",
    "    bs=0\n",
    "    for j in range(0,samples):\n",
    "      bs+=1\n",
    "      h,a,y=forward_prop(w,b,j,config)\n",
    "      wdash,bdash=backward_prop(h,a,y,j,config,w,b)\n",
    "      wgrad.append(wdash)\n",
    "      bgrad.append(bdash)\n",
    "      if bs%batch_size==0:\n",
    "        mw = np.add(beta1*np.array(mw), (1-beta1)*np.sum(wgrad,axis=0))\n",
    "        mb = np.add(beta1*np.array(mb), (1-beta1)*np.sum(bgrad,axis=0))\n",
    "\n",
    "        vw = np.add(beta2*np.array(vw), (1-beta2)*np.square(np.sum(wgrad,axis=0)))\n",
    "        vb = np.add(beta2*np.array(vb), (1-beta2)*np.square(np.sum(bgrad,axis=0)))\n",
    "\n",
    "        m_w_hat = np.divide(mw, (1-(beta1**(bs/batch_size))))\n",
    "        m_b_hat = np.divide(mb, (1-(beta1**(bs/batch_size))))\n",
    "\n",
    "        v_w_hat = np.divide(vw, (1-(beta2**(bs/batch_size))))\n",
    "        v_b_hat = np.divide(vb, (1-(beta2**(bs/batch_size))))\n",
    "\n",
    "        w = np.subtract(w, np.multiply(np.divide(eta, np.add(v_w_hat,epsilon)), m_w_hat))\n",
    "        b = np.subtract(b, np.multiply(np.divide(eta, np.add(v_b_hat,epsilon)), m_b_hat))\n",
    "\n",
    "        wgrad.clear()\n",
    "        bgrad.clear()\n",
    "    error.append(cross_entropy(w,b,config))#----------\n",
    "    val_error.append(val_cross_entropy(w,b,config))\n",
    "    accuracy.append(get_accuracy(w,b,config))\n",
    "    val_accuracy.append(get_val_accuracy(w,b,config))\n",
    "    mse.append(mean_squared_error(w,b,config))\n",
    "    val_mse.append(val_mean_squared_error(w,b,config))\n",
    "  return w,b,error,val_error,accuracy,val_accuracy,mse,val_mse"
   ]
  },
  {
   "cell_type": "code",
   "execution_count": null,
   "metadata": {
    "id": "oP2DrGYFnbAq"
   },
   "outputs": [],
   "source": [
    "def NADAM(config):\n",
    "\n",
    "  layers=config.no_of_hidden_layers+1\n",
    "  epoch=config.epochs\n",
    "  eta=config.learning_rate\n",
    "  beta1=0.9\n",
    "  beta2=0.999\n",
    "  epsilon=0.00000001\n",
    "  batch_size=config.batch_size\n",
    "  #s=len(x_train)-6000\n",
    "  \n",
    "  neurons, w, b = init_w_and_b(config)\n",
    "\n",
    "  mw=[]\n",
    "  vw=[]\n",
    "  for i in range(1,layers+1):\n",
    "    wx=np.zeros((neurons[i],neurons[i-1]))\n",
    "    mw.append(wx)\n",
    "    vw.append(wx)\n",
    "\n",
    "  mb=[]\n",
    "  vb=[]\n",
    "  for i in range(1,layers+1):\n",
    "    bx=np.zeros(neurons[i])\n",
    "    mb.append(bx)\n",
    "    vb.append(bx)\n",
    "  \n",
    "  error=[]\n",
    "  val_error=[]\n",
    "  accuracy=[]\n",
    "  val_accuracy=[]\n",
    "  mse=[]\n",
    "  val_mse=[]\n",
    "  for i in range(0,epoch):\n",
    "    wgrad=[]\n",
    "    bgrad=[]\n",
    "    w_la=np.subtract(w,beta1*np.array(mw))\n",
    "    b_la=np.subtract(b,beta1*np.array(mb))\n",
    "    bs=0\n",
    "    for j in range(0,samples):\n",
    "      bs+=1\n",
    "      h,a,y=forward_prop(w_la,b_la,j,config)\n",
    "      wdash,bdash=backward_prop(h,a,y,j,config,w_la,b_la)\n",
    "      wgrad.append(wdash)\n",
    "      bgrad.append(bdash)\n",
    "      if bs%batch_size==0:\n",
    "        mw = np.add((beta1*np.array(mw)), ((1-beta1)*np.sum(wgrad,axis=0)))\n",
    "        mb = np.add((beta1*np.array(mb)), ((1-beta1)*np.sum(bgrad,axis=0)))\n",
    "\n",
    "        vw = np.add(beta2*np.array(vw), (1-beta2)*np.square(np.sum(wgrad,axis=0)))\n",
    "        vb = np.add(beta2*np.array(vb), (1-beta2)*np.square(np.sum(bgrad,axis=0)))\n",
    "\n",
    "        m_w_hat = np.divide(mw, (1-(beta1**(bs/batch_size))))\n",
    "        m_b_hat = np.divide(mb, (1-(beta1**(bs/batch_size))))\n",
    "\n",
    "        v_w_hat = np.divide(vw, (1-(beta2**(bs/batch_size))))\n",
    "        v_b_hat = np.divide(vb, (1-(beta2**(bs/batch_size))))\n",
    "\n",
    "        w = np.subtract(w, np.multiply(np.divide(eta, np.add(v_w_hat,epsilon)), m_w_hat))\n",
    "        b = np.subtract(b, np.multiply(np.divide(eta, np.add(v_b_hat,epsilon)), m_b_hat))\n",
    "\n",
    "        w_la=np.subtract(w,beta1*np.array(mw))\n",
    "        b_la=np.subtract(b,beta1*np.array(mb))\n",
    "\n",
    "        wgrad.clear()\n",
    "        bgrad.clear()\n",
    "    error.append(cross_entropy(w,b,config))#----------\n",
    "    val_error.append(val_cross_entropy(w,b,config))\n",
    "    accuracy.append(get_accuracy(w,b,config))\n",
    "    val_accuracy.append(get_val_accuracy(w,b,config))\n",
    "    mse.append(mean_squared_error(w,b,config))\n",
    "    val_mse.append(val_mean_squared_error(w,b,config))\n",
    "  return w,b,error,val_error,accuracy,val_accuracy,mse,val_mse   "
   ]
  },
  {
   "cell_type": "code",
   "execution_count": null,
   "metadata": {
    "id": "ETfK9U8hbQ23"
   },
   "outputs": [],
   "source": [
    "# The sweep calls this function with each set of hyperparameters\n",
    "def train():\n",
    "  # Default values for hyper-parameters we're going to sweep over\n",
    "    config_defaults = {\n",
    "        'epochs': 5,\n",
    "        'batch_size': 128,\n",
    "        'no_of_hidden_layers': 3,\n",
    "        # 'weight_decay': 0.0005,\n",
    "        'hidden_layer_size' : 32,\n",
    "        'learning_rate': 1e-3,\n",
    "        'activation': 'sigmoid',\n",
    "        'optimizer': 'sgd',\n",
    "        'weight_initialisation':'random',\n",
    "        'weight_decay':0,\n",
    "        'gamma':0.9\n",
    "    }\n",
    "    # Initialize a new wandb run\n",
    "    wandb.init(config=config_defaults)\n",
    "    \n",
    "    # Config is a variable that holds and saves hyperparameters and inputs\n",
    "    # config = wandb.config\n",
    "    if wandb.config.optimizer == 'gd':\n",
    "      w,b,error,val_error,accuracy,val_accuracy,mse,val_mse = gradient_descent(wandb.config)\n",
    "      \n",
    "    elif wandb.config.optimizer == 'sgd':\n",
    "      w,b,error,val_error,accuracy,val_accuracy,mse,val_mse = stocastic_gd(wandb.config)\n",
    "     \n",
    "    elif wandb.config.optimizer == 'momentum':\n",
    "      w,b,error,val_error,accuracy,val_accuracy,mse,val_mse = momentum_gd(wandb.config)\n",
    "      \n",
    "    elif wandb.config.optimizer == 'nesterov':\n",
    "      w,b,error,val_error,accuracy,val_accuracy,mse,val_mse = Nesterov_gd(wandb.config)\n",
    "\n",
    "    elif wandb.config.optimizer == 'rmsprop':\n",
    "      w,b,error,val_error,accuracy,val_accuracy,mse,val_mse = RMS_prop(wandb.config)\n",
    "     \n",
    "    elif wandb.config.optimizer == 'nadam':\n",
    "      w,b,error,val_error,accuracy,val_accuracy,mse,val_mse = NADAM(wandb.config)\n",
    "      \n",
    "    elif wandb.config.optimizer == 'adam':\n",
    "      w,b,error,val_error,accuracy,val_accuracy,mse,val_mse = Adam(wandb.config)\n",
    "\n",
    "    print(\"error :\",error)\n",
    "    print(\"val_error :\",val_error)\n",
    "    print(\"accuracy :\",accuracy)\n",
    "    print(\"val_accuracy :\",val_accuracy)\n",
    "    print(\"mse :\",mse)\n",
    "    print(\"val_mse :\",val_mse)\n",
    "\n",
    "    arr_conf = np.array([[0 for _ in range(10)] for _ in range(10)])\n",
    "\n",
    "    y_val_predict = []\n",
    "    acc_test_set = 0\n",
    "    for i in range(len(y_test)):\n",
    "      y_hat = predict(w,b,x_test[i].reshape(784),wandb.config)\n",
    "      y_val_predict.append(np.argmax(y_hat))\n",
    "      if(y_hat[y_test[i]] == max(y_hat)): acc_test_set +=1\n",
    "    # print(y_val_predict)\n",
    "\n",
    "    acc_test_set /= len(y_test)\n",
    "\n",
    "    for i in range(len(y_val_predict)):\n",
    "        arr_conf[y_test[i]][y_val_predict[i]] +=1\n",
    "        # print(Y_val[i], y_val_predict[i])\n",
    "    print(arr_conf)\n",
    "    \n",
    "    df_conf = pd.DataFrame(arr_conf, index = labels, columns = labels)\n",
    "    df_conf.index.name = 'Actual'\n",
    "    df_conf.columns.name = 'Predicted'\n",
    "\n",
    "    # ax = plt.axes()\n",
    "    # plt.subplots(figsize = (18,12))\n",
    "    # sn.set(font_scale=1.2)#for label size\n",
    "    # ax.set_title('Accuracy on test data set : %i' %acc_test_set)\n",
    "    # plt.show()\n",
    "    confusion_matrix_heatmap = sn.heatmap(df_conf, annot=True,annot_kws={\"size\": 13})# font size\n",
    "\n",
    "    for i in range(wandb.config.epochs):\n",
    "      wandb.log({'val_loss' : val_error[i], 'val_accuracy': val_accuracy[i],'loss' : error[i], 'accuracy': accuracy[i], 'mse': mse[i], 'val_mse': val_mse[i], 'epoch': i})\n",
    "\n",
    "    wandb.log({\"conf_mat\" : confusion_matrix_heatmap})\n",
    "\n",
    "    \n",
    "    #error=cross_entropy(w,b,wandb.config)\n",
    "    #wandb.log()\n",
    "    # print(w)\n",
    "    # print(b)\n",
    "    # wandb.finish()"
   ]
  },
  {
   "cell_type": "code",
   "execution_count": null,
   "metadata": {
    "id": "xFSQEPZl7vCy"
   },
   "outputs": [],
   "source": [
    "# Initialize a new sweep\n",
    "# Arguments:\n",
    "#     – sweep_id: the sweep_id to run - this was returned above by wandb.sweep()\n",
    "#     – function: function that defines your model architecture and trains it\n",
    "wandb.agent(sweep_id, train)\n",
    "# wandb.agent('lkej0hdw', train)"
   ]
  }
 ],
 "metadata": {
  "accelerator": "GPU",
  "colab": {
   "collapsed_sections": [],
   "name": "DLA1Q4_updated.ipynb",
   "provenance": []
  },
  "kernelspec": {
   "display_name": "Python 3",
   "language": "python",
   "name": "python3"
  },
  "language_info": {
   "codemirror_mode": {
    "name": "ipython",
    "version": 3
   },
   "file_extension": ".py",
   "mimetype": "text/x-python",
   "name": "python",
   "nbconvert_exporter": "python",
   "pygments_lexer": "ipython3",
   "version": "3.6.9"
  }
 },
 "nbformat": 4,
 "nbformat_minor": 1
}
