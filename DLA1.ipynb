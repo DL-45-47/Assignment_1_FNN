{
 "cells": [
  {
   "cell_type": "markdown",
   "metadata": {
    "id": "u3XoVgdQjqCw"
   },
   "source": [
    "**Question 1 (2 Marks)**\n",
    "Download the fashion-MNIST dataset and plot 1 sample image for each class as shown in the grid below. Use \"from keras.datasets import fashion_mnist\" for getting the fashion mnist dataset."
   ]
  },
  {
   "cell_type": "code",
   "execution_count": null,
   "metadata": {
    "id": "66qWcgyaSfT5"
   },
   "outputs": [],
   "source": [
    "import numpy as np\n",
    "import matplotlib.pyplot as plt\n",
    "from PIL import Image as im\n",
    "from keras.datasets import fashion_mnist"
   ]
  },
  {
   "cell_type": "code",
   "execution_count": null,
   "metadata": {
    "colab": {
     "base_uri": "https://localhost:8080/"
    },
    "id": "B0FkxFl-SvNF",
    "outputId": "b6e3069f-208d-4a46-cc2c-4095bb4f5ee8"
   },
   "outputs": [
    {
     "name": "stdout",
     "output_type": "stream",
     "text": [
      "Downloading data from https://storage.googleapis.com/tensorflow/tf-keras-datasets/train-labels-idx1-ubyte.gz\n",
      "32768/29515 [=================================] - 0s 0us/step\n",
      "Downloading data from https://storage.googleapis.com/tensorflow/tf-keras-datasets/train-images-idx3-ubyte.gz\n",
      "26427392/26421880 [==============================] - 0s 0us/step\n",
      "Downloading data from https://storage.googleapis.com/tensorflow/tf-keras-datasets/t10k-labels-idx1-ubyte.gz\n",
      "8192/5148 [===============================================] - 0s 0us/step\n",
      "Downloading data from https://storage.googleapis.com/tensorflow/tf-keras-datasets/t10k-images-idx3-ubyte.gz\n",
      "4423680/4422102 [==============================] - 0s 0us/step\n"
     ]
    }
   ],
   "source": [
    "(x_train,y_train),(x_test,y_test)=fashion_mnist.load_data()"
   ]
  },
  {
   "cell_type": "code",
   "execution_count": null,
   "metadata": {
    "id": "6cH3NDAAQ6Mv"
   },
   "outputs": [],
   "source": [
    "showed=np.zeros(10)\n",
    "i=0\n",
    "images=[]\n",
    "classes=[]\n",
    "while (0 in showed):\n",
    "  i=np.random.randint(0,len(y_train))\n",
    "  if showed[y_train[i]]==0:\n",
    "    images.append(im.fromarray(x_train[i]))\n",
    "    classes.append(y_train[i])\n",
    "    showed[y_train[i]]=1\n",
    "  i=i+1"
   ]
  },
  {
   "cell_type": "code",
   "execution_count": null,
   "metadata": {
    "colab": {
     "base_uri": "https://localhost:8080/",
     "height": 352
    },
    "id": "cheAs9wMS9Xv",
    "outputId": "191b0435-e464-4531-a5ae-3613eb9a427f"
   },
   "outputs": [
    {
     "data": {
      "image/png": "[encoded data removed]",
      "text/plain": [
       "<Figure size 720x720 with 10 Axes>"
      ]
     },
     "metadata": {
      "needs_background": "light",
      "tags": []
     },
     "output_type": "display_data"
    }
   ],
   "source": [
    "plt.figure(figsize=(10, 10))\n",
    "for i, image in enumerate(images):\n",
    "  img=plt.subplot(3, 5,i+1)\n",
    "  img.set_title(classes[i])\n",
    "  plt.imshow(image,cmap='gray')"
   ]
  },
  {
   "cell_type": "markdown",
   "metadata": {
    "id": "RuklG5oREOfe"
   },
   "source": [
    "## **FeedForward Neural Network**"
   ]
  },
  {
   "cell_type": "code",
   "execution_count": 1,
   "metadata": {
    "id": "6UBZqdBKEN0N"
   },
   "outputs": [],
   "source": [
    "def forward_prop(w,b,p):\n",
    "  h=[]\n",
    "  a=[]\n",
    "  a1=b[0]+np.dot(w[0],x_train[p].reshape(784))\n",
    "  a.append(a1)\n",
    "  h1=1/(1+np.exp(-a1))\n",
    "  h.append(h1)\n",
    "\n",
    "  for i in range(1,layers-1):\n",
    "    a1=b[i]+np.dot(w[i],h[i-1])\n",
    "    a.append(a1)\n",
    "    h1=1/(1+np.exp(-a1))\n",
    "    h.append(h1)\n",
    "  lastLayer=b[layers-1]+np.dot(w[layers-1],h[layers-2])\n",
    "  a.append(lastLayer)\n",
    "  y=np.exp(lastLayer)/sum(np.exp(lastLayer))\n",
    "  return h,a,y"
   ]
  },
  {
   "cell_type": "code",
   "execution_count": 2,
   "metadata": {
    "id": "u6TncIKfEoAW"
   },
   "outputs": [],
   "source": [
    "def backward_prop(w,b,h,a,y,p):\n",
    "  wdash=[]\n",
    "  bdash=[]\n",
    "  actualY=np.zeros(10)\n",
    "  actualY[y_train[p]]=1\n",
    "  dela=y-actualY\n",
    "\n",
    "  for i in range(0,layers-1):\n",
    "    delw=np.outer(dela,h[layers-2-i])\n",
    "    wdash.append(delw)\n",
    "    bdash.append(dela)\n",
    "    delh=np.dot(w[layers-1-i].T,dela)\n",
    "    g=(1/(1+np.exp(-a[layers-1-i-1])))  \n",
    "    gdash=np.multiply(g,1-g)\n",
    "    dela=np.multiply(delh,gdash)\n",
    "  delw=np.outer(dela,x_train[p].reshape(784).T)\n",
    "  wdash.append(delw)\n",
    "  bdash.append(dela)\n",
    "  wdash.reverse()\n",
    "  bdash.reverse()\n",
    "  return wdash,bdash"
   ]
  },
  {
   "cell_type": "markdown",
   "metadata": {
    "id": "vWoH_irCipRn"
   },
   "source": [
    "# **Prediction Function**"
   ]
  },
  {
   "cell_type": "code",
   "execution_count": 2,
   "metadata": {
    "id": "Fnb7Fn2kijfc"
   },
   "outputs": [],
   "source": [
    "def predict(w,b,img):\n",
    "  a=b[0]+np.dot(w[0],img.reshape(784))\n",
    "  h=1/(1+np.exp(-a))\n",
    "\n",
    "  for i in range(1,layers-1):\n",
    "    a=b[i]+np.dot(w[i],h)\n",
    "    h=1/(1+np.exp(-a))\n",
    "  lastLayer=b[layers-1]+np.dot(w[layers-1],h)\n",
    "  y=np.exp(lastLayer)/sum(np.exp(lastLayer))\n",
    "  return y"
   ]
  },
  {
   "cell_type": "markdown",
   "metadata": {
    "id": "0w8DWU50iSON"
   },
   "source": [
    "### Stocastic Gradient Descent"
   ]
  },
  {
   "cell_type": "code",
   "execution_count": 1,
   "metadata": {
    "id": "LUC_BpdzEr7o"
   },
   "outputs": [],
   "source": [
    "def stocastic_gd():\n",
    "  epoch_size=10\n",
    "  eta=0.0001\n",
    "  s=len(x_train)-6000\n",
    "  batch_size=10\n",
    "\n",
    "  b=[]\n",
    "  for i in range(1,layers+1):\n",
    "    bx=np.zeros(neurons[i])\n",
    "    b.append(bx)\n",
    "\n",
    "  w=[]\n",
    "  for i in range(1,layers+1):\n",
    "    wx=np.zeros((neurons[i],neurons[i-1]))\n",
    "    w.append(wx)\n",
    "\n",
    "  for i in range(epoch_size):\n",
    "    wgrad=[]\n",
    "    bgrad=[]\n",
    "    bs=0\n",
    "    for j in range(0,s):\n",
    "      bs+=1\n",
    "      h,a,y=forward_prop(w,b,j)\n",
    "      wdash,bdash=backward_prop(w,b,h,a,y,j)\n",
    "      wgrad.append(wdash)\n",
    "      bgrad.append(bdash)\n",
    "      if bs%batch_size==0:\n",
    "        w=np.subtract(w,eta*np.sum(wgrad,axis=0))\n",
    "        b=np.subtract(b,eta*np.sum(bgrad,axis=0))\n",
    "        wgrad.clear()\n",
    "        bgrad.clear()\n",
    "\n",
    "  img_num=np.random.randint(0,len(y_test))\n",
    "  y_hat=predict(w,b,x_test[img_num])\n",
    "  print(\"probabilities of each class:\",y_hat)"
   ]
  },
  {
   "cell_type": "markdown",
   "metadata": {},
   "source": [
    "### Momentum Gradient Descent "
   ]
  },
  {
   "cell_type": "code",
   "execution_count": null,
   "metadata": {},
   "outputs": [],
   "source": [
    "def momentum_gd():\n",
    "  epoch=10 \n",
    "  eta=0.0001\n",
    "  gamma =1-eta\n",
    "  batch_size=1\n",
    "  s=len(x_train)-6000\n",
    "  w=[]\n",
    "  for i in range(1,layers+1):\n",
    "    wx=np.zeros((neurons[i],neurons[i-1]))\n",
    "    w.append(wx)\n",
    "  pre_updt_w=[]\n",
    "  for i in range(1,layers+1):\n",
    "    pwx=np.zeros((neurons[i],neurons[i-1]))\n",
    "    pre_updt_w.append(pwx)\n",
    "  b=[]\n",
    "  for i in range(1,layers+1):\n",
    "    bx=np.zeros(neurons[i])\n",
    "    b.append(bx)\n",
    "  pre_updt_b=[]\n",
    "  for i in range(1,layers+1):\n",
    "    pbx=np.zeros(neurons[i])\n",
    "    pre_updt_b.append(pbx)\n",
    "\n",
    "  img_num=np.random.randint(0,len(y_test))\n",
    "\n",
    "  for i in range(0,epoch):\n",
    "    wgrad=[]\n",
    "    bgrad=[]\n",
    "    bs=0\n",
    "    for j in range(0,s):\n",
    "      bs+=1\n",
    "      h,a,y=forward_prop(w,b,j)\n",
    "      wdash,bdash=backward_prop(w,b,h,a,y,j)\n",
    "      wgrad.append(wdash)\n",
    "      bgrad.append(bdash)\n",
    "      if bs%batch_size==0:\n",
    "        updt_w = np.add((gamma*np.array(pre_updt_w)), (eta*np.sum(wgrad,axis=0)))\n",
    "        updt_b = np.add((gamma*np.array(pre_updt_b)), (eta*np.sum(bgrad,axis=0)))\n",
    "        w=np.subtract(w,updt_w)\n",
    "        b=np.subtract(b,updt_b)\n",
    "        pre_updt_w = updt_w\n",
    "        pre_updt_b = updt_b\n",
    "        wgrad.clear()\n",
    "        bgrad.clear()\n",
    "    y_hat=predict(w,b,x_test[img_num])\n",
    "    print(\"probabilities of each class:\",y_hat)\n",
    "    print(\"actual label:\",y_test[img_num],\"predicted label:\",np.argmax(y_hat))"
   ]
  },
  {
   "cell_type": "markdown",
   "metadata": {},
   "source": [
    "###  Nesterov Accelerated Gradient Descent"
   ]
  },
  {
   "cell_type": "code",
   "execution_count": null,
   "metadata": {},
   "outputs": [],
   "source": [
    "def Nesterov_gd():\n",
    "  epoch=10 \n",
    "  eta=0.001\n",
    "  gamma =0.9\n",
    "  batch_size=1\n",
    "  s=len(x_train)-6000\n",
    "  w=[]\n",
    "  for i in range(1,layers+1):\n",
    "    wx=np.zeros((neurons[i],neurons[i-1]))\n",
    "    w.append(wx)\n",
    "  updt_w=[]\n",
    "  for i in range(1,layers+1):\n",
    "    pwx=np.zeros((neurons[i],neurons[i-1]))\n",
    "    updt_w.append(pwx)\n",
    "  b=[]\n",
    "  for i in range(1,layers+1):\n",
    "    bx=np.zeros(neurons[i])\n",
    "    b.append(bx)\n",
    "  updt_b=[]\n",
    "  for i in range(1,layers+1):\n",
    "    pbx=np.zeros(neurons[i])\n",
    "    updt_b.append(pbx)\n",
    "\n",
    "  img_num=np.random.randint(0,len(y_test))\n",
    "\n",
    "  for i in range(0,epoch):\n",
    "    wgrad=[]\n",
    "    bgrad=[]\n",
    "    w_la=np.subtract(w,gamma*np.array(updt_w))\n",
    "    b_la=np.subtract(b,gamma*np.array(updt_b))\n",
    "    bs=0\n",
    "    for j in range(0,s):\n",
    "      bs+=1\n",
    "      h,a,y=forward_prop(w_la,b_la,j)\n",
    "      wdash,bdash=backward_prop(w_la,b_la,h,a,y,j)\n",
    "      wgrad.append(wdash)\n",
    "      bgrad.append(bdash)\n",
    "      if bs%batch_size==0:\n",
    "        updt_w = np.add((gamma*np.array(updt_w)), (eta*np.sum(wgrad,axis=0)))\n",
    "        updt_b = np.add((gamma*np.array(updt_b)), (eta*np.sum(bgrad,axis=0)))\n",
    "\n",
    "        w=np.subtract(w,updt_w)\n",
    "        b=np.subtract(b,updt_b)\n",
    "\n",
    "        w_la=np.subtract(w,gamma*np.array(updt_w))\n",
    "        b_la=np.subtract(b,gamma*np.array(updt_b))\n",
    "\n",
    "        wgrad.clear()\n",
    "        bgrad.clear()\n",
    "    y_hat=predict(w,b,x_test[img_num])\n",
    "    print(\"probabilities of each class:\",y_hat)\n",
    "    print(\"actual label:\",y_test[img_num],\"predicted label:\",np.argmax(y_hat))"
   ]
  },
  {
   "cell_type": "markdown",
   "metadata": {},
   "source": [
    "### RMSProp Gradient Descent "
   ]
  },
  {
   "cell_type": "code",
   "execution_count": null,
   "metadata": {},
   "outputs": [],
   "source": [
    "def RMS_prop():\n",
    "  epoch_size=5\n",
    "  eta=0.0003\n",
    "  epsilon=0.00000001\n",
    "  beta=0.9\n",
    "  s=len(x_train)-6000\n",
    "  batch_size=1\n",
    "\n",
    "  b=[]\n",
    "  vb=[]\n",
    "  for i in range(1,layers+1):\n",
    "    bx=np.zeros(neurons[i])\n",
    "    b.append(bx)\n",
    "    vb.append(bx)\n",
    "\n",
    "  w=[]\n",
    "  vw=[]\n",
    "  for i in range(1,layers+1):\n",
    "    wx=np.zeros((neurons[i],neurons[i-1]))\n",
    "    w.append(wx)\n",
    "    vw.append(wx)\n",
    "  img_num=np.random.randint(0,len(y_test))\n",
    "\n",
    "  for i in range(epoch_size):\n",
    "    wgrad=[]\n",
    "    bgrad=[]\n",
    "    bs=0\n",
    "    for j in range(0,s):\n",
    "      bs+=1\n",
    "      h,a,y=forward_prop(w,b,j)\n",
    "      wdash,bdash=backward_prop(w,b,h,a,y,j)\n",
    "      wgrad.append(wdash)\n",
    "      bgrad.append(bdash)\n",
    "      if bs%batch_size==0:\n",
    "        vw=np.add(beta*np.array(vw),(1-beta)*np.square(np.sum(wgrad,axis=0)))\n",
    "        vb=np.add(beta*np.array(vb),(1-beta)*np.square(np.sum(bgrad,axis=0)))\n",
    "        w = np.subtract(w, np.multiply(np.divide(eta, np.add(vw,epsilon)), np.sum(wgrad,axis=0))) ### Not included sqrt ???\n",
    "        b = np.subtract(b, np.multiply(np.divide(eta, np.add(vb,epsilon)), np.sum(bgrad,axis=0))) ### Not included sqrt ???\n",
    "        wgrad.clear()\n",
    "        bgrad.clear()\n",
    "    y_hat=predict(w,b,x_test[img_num])\n",
    "    print(\"probabilities of each class:\",y_hat)\n",
    "    print(\"actual label:\",y_test[img_num],\"predicted label:\",np.argmax(y_hat))"
   ]
  },
  {
   "cell_type": "markdown",
   "metadata": {},
   "source": [
    "### Adam Gradient Descent"
   ]
  },
  {
   "cell_type": "code",
   "execution_count": null,
   "metadata": {},
   "outputs": [],
   "source": [
    "def Adam():\n",
    "  epoch=10 \n",
    "  eta=0.0003\n",
    "  beta1=0.9\n",
    "  beta2=0.999\n",
    "  epsilon=0.00000001\n",
    "  batch_size=10\n",
    "  s=len(x_train)-6000\n",
    "  w=[]\n",
    "  mw=[]\n",
    "  vw=[]\n",
    "  for i in range(1,layers+1):\n",
    "    wx=np.zeros((neurons[i],neurons[i-1]))\n",
    "    w.append(wx)\n",
    "    mw.append(wx)\n",
    "    vw.append(wx)\n",
    "  \n",
    "  b=[]\n",
    "  mb=[]\n",
    "  vb=[]\n",
    "  for i in range(1,layers+1):\n",
    "    bx=np.zeros(neurons[i])\n",
    "    b.append(bx)\n",
    "    mb.append(bx)\n",
    "    vb.append(bx)\n",
    "\n",
    "  img_num=np.random.randint(0,len(y_test))\n",
    "\n",
    "  for i in range(0,epoch):\n",
    "    wgrad=[]\n",
    "    bgrad=[]\n",
    "    bs=0\n",
    "    for j in range(0,s):\n",
    "      bs+=1\n",
    "      h,a,y=forward_prop(w,b,j)\n",
    "      wdash,bdash=backward_prop(w,b,h,a,y,j)\n",
    "      wgrad.append(wdash)\n",
    "      bgrad.append(bdash)\n",
    "      if bs%batch_size==0:\n",
    "        mw = np.add(beta1*np.array(mw), (1-beta1)*np.sum(wgrad,axis=0))\n",
    "        mb = np.add(beta1*np.array(mb), (1-beta1)*np.sum(bgrad,axis=0))\n",
    "\n",
    "        vw = np.add(beta2*np.array(vw), (1-beta2)*np.square(np.sum(wgrad,axis=0)))\n",
    "        vb = np.add(beta2*np.array(vb), (1-beta2)*np.square(np.sum(bgrad,axis=0)))\n",
    "\n",
    "        m_w_hat = np.divide(mw, (1-(beta1**(bs/batch_size))))\n",
    "        m_b_hat = np.divide(mb, (1-(beta1**(bs/batch_size))))\n",
    "\n",
    "        v_w_hat = np.divide(vw, (1-(beta2**(bs/batch_size))))\n",
    "        v_b_hat = np.divide(vb, (1-(beta2**(bs/batch_size))))\n",
    "\n",
    "        w = np.subtract(w, np.multiply(np.divide(eta, np.add(v_w_hat,epsilon)), m_w_hat)) ### Not included sqrt ???\n",
    "        b = np.subtract(b, np.multiply(np.divide(eta, np.add(v_b_hat,epsilon)), m_b_hat))\n",
    "\n",
    "        wgrad.clear()\n",
    "        bgrad.clear()\n",
    "    y_hat=predict(w,b,x_test[img_num])\n",
    "    print(\"probabilities of each class:\",y_hat)\n",
    "    print(\"actual label:\",y_test[img_num],\"predicted label:\",np.argmax(y_hat))"
   ]
  },
  {
   "cell_type": "code",
   "execution_count": null,
   "metadata": {},
   "outputs": [],
   "source": [
    "stocastic_gd()"
   ]
  },
  {
   "cell_type": "code",
   "execution_count": null,
   "metadata": {},
   "outputs": [],
   "source": [
    "momentum_gd()"
   ]
  },
  {
   "cell_type": "code",
   "execution_count": null,
   "metadata": {},
   "outputs": [],
   "source": [
    "Nesterov_gd()"
   ]
  },
  {
   "cell_type": "code",
   "execution_count": null,
   "metadata": {},
   "outputs": [],
   "source": [
    "RMS_prop()"
   ]
  },
  {
   "cell_type": "code",
   "execution_count": null,
   "metadata": {},
   "outputs": [],
   "source": [
    "Adam()"
   ]
  }
 ],
 "metadata": {
  "colab": {
   "collapsed_sections": [],
   "name": "DLA1.ipynb",
   "provenance": []
  },
  "kernelspec": {
   "display_name": "Python 3",
   "language": "python",
   "name": "python3"
  },
  "language_info": {
   "codemirror_mode": {
    "name": "ipython",
    "version": 3
   },
   "file_extension": ".py",
   "mimetype": "text/x-python",
   "name": "python",
   "nbconvert_exporter": "python",
   "pygments_lexer": "ipython3",
   "version": "3.6.9"
  }
 },
 "nbformat": 4,
 "nbformat_minor": 1
}
