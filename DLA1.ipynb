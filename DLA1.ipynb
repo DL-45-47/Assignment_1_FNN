{
  "nbformat": 4,
  "nbformat_minor": 0,
  "metadata": {
    "colab": {
      "name": "DLA1.ipynb",
      "provenance": [],
      "collapsed_sections": []
    },
    "kernelspec": {
      "display_name": "Python 3",
      "language": "python",
      "name": "python3"
    },
    "language_info": {
      "codemirror_mode": {
        "name": "ipython",
        "version": 3
      },
      "file_extension": ".py",
      "mimetype": "text/x-python",
      "name": "python",
      "nbconvert_exporter": "python",
      "pygments_lexer": "ipython3",
      "version": "3.6.9"
    },
    "accelerator": "GPU",
    "widgets": {
      "application/vnd.jupyter.widget-state+json": {
        "12e4d647595e48a69e96c564baa8ab0c": {
          "model_module": "@jupyter-widgets/controls",
          "model_name": "VBoxModel",
          "state": {
            "_view_name": "VBoxView",
            "_dom_classes": [],
            "_model_name": "VBoxModel",
            "_view_module": "@jupyter-widgets/controls",
            "_model_module_version": "1.5.0",
            "_view_count": null,
            "_view_module_version": "1.5.0",
            "box_style": "",
            "layout": "IPY_MODEL_ada3d7522b61465abfb390fb5f0ae804",
            "_model_module": "@jupyter-widgets/controls",
            "children": [
              "IPY_MODEL_0308be8c3cb2449f93a01eeead191d92",
              "IPY_MODEL_fb679f1b1f2e4d6ca6bc947a4a679190"
            ]
          }
        },
        "ada3d7522b61465abfb390fb5f0ae804": {
          "model_module": "@jupyter-widgets/base",
          "model_name": "LayoutModel",
          "state": {
            "_view_name": "LayoutView",
            "grid_template_rows": null,
            "right": null,
            "justify_content": null,
            "_view_module": "@jupyter-widgets/base",
            "overflow": null,
            "_model_module_version": "1.2.0",
            "_view_count": null,
            "flex_flow": null,
            "width": null,
            "min_width": null,
            "border": null,
            "align_items": null,
            "bottom": null,
            "_model_module": "@jupyter-widgets/base",
            "top": null,
            "grid_column": null,
            "overflow_y": null,
            "overflow_x": null,
            "grid_auto_flow": null,
            "grid_area": null,
            "grid_template_columns": null,
            "flex": null,
            "_model_name": "LayoutModel",
            "justify_items": null,
            "grid_row": null,
            "max_height": null,
            "align_content": null,
            "visibility": null,
            "align_self": null,
            "height": null,
            "min_height": null,
            "padding": null,
            "grid_auto_rows": null,
            "grid_gap": null,
            "max_width": null,
            "order": null,
            "_view_module_version": "1.2.0",
            "grid_template_areas": null,
            "object_position": null,
            "object_fit": null,
            "grid_auto_columns": null,
            "margin": null,
            "display": null,
            "left": null
          }
        },
        "0308be8c3cb2449f93a01eeead191d92": {
          "model_module": "@jupyter-widgets/controls",
          "model_name": "LabelModel",
          "state": {
            "_view_name": "LabelView",
            "style": "IPY_MODEL_d0b5e6c88961459bb28d6b54dc4d3379",
            "_dom_classes": [],
            "description": "",
            "_model_name": "LabelModel",
            "placeholder": "​",
            "_view_module": "@jupyter-widgets/controls",
            "_model_module_version": "1.5.0",
            "value": " 0.01MB of 0.01MB uploaded (0.00MB deduped)\r",
            "_view_count": null,
            "_view_module_version": "1.5.0",
            "description_tooltip": null,
            "_model_module": "@jupyter-widgets/controls",
            "layout": "IPY_MODEL_4da7cc653ccc497195b12e6bb8fb4814"
          }
        },
        "fb679f1b1f2e4d6ca6bc947a4a679190": {
          "model_module": "@jupyter-widgets/controls",
          "model_name": "FloatProgressModel",
          "state": {
            "_view_name": "ProgressView",
            "style": "IPY_MODEL_a1f21d2ee4764a649277b63ab991dd9a",
            "_dom_classes": [],
            "description": "",
            "_model_name": "FloatProgressModel",
            "bar_style": "",
            "max": 1,
            "_view_module": "@jupyter-widgets/controls",
            "_model_module_version": "1.5.0",
            "value": 1,
            "_view_count": null,
            "_view_module_version": "1.5.0",
            "orientation": "horizontal",
            "min": 0,
            "description_tooltip": null,
            "_model_module": "@jupyter-widgets/controls",
            "layout": "IPY_MODEL_1e151fa6e9e546f9aba031a7ff2cd763"
          }
        },
        "d0b5e6c88961459bb28d6b54dc4d3379": {
          "model_module": "@jupyter-widgets/controls",
          "model_name": "DescriptionStyleModel",
          "state": {
            "_view_name": "StyleView",
            "_model_name": "DescriptionStyleModel",
            "description_width": "",
            "_view_module": "@jupyter-widgets/base",
            "_model_module_version": "1.5.0",
            "_view_count": null,
            "_view_module_version": "1.2.0",
            "_model_module": "@jupyter-widgets/controls"
          }
        },
        "4da7cc653ccc497195b12e6bb8fb4814": {
          "model_module": "@jupyter-widgets/base",
          "model_name": "LayoutModel",
          "state": {
            "_view_name": "LayoutView",
            "grid_template_rows": null,
            "right": null,
            "justify_content": null,
            "_view_module": "@jupyter-widgets/base",
            "overflow": null,
            "_model_module_version": "1.2.0",
            "_view_count": null,
            "flex_flow": null,
            "width": null,
            "min_width": null,
            "border": null,
            "align_items": null,
            "bottom": null,
            "_model_module": "@jupyter-widgets/base",
            "top": null,
            "grid_column": null,
            "overflow_y": null,
            "overflow_x": null,
            "grid_auto_flow": null,
            "grid_area": null,
            "grid_template_columns": null,
            "flex": null,
            "_model_name": "LayoutModel",
            "justify_items": null,
            "grid_row": null,
            "max_height": null,
            "align_content": null,
            "visibility": null,
            "align_self": null,
            "height": null,
            "min_height": null,
            "padding": null,
            "grid_auto_rows": null,
            "grid_gap": null,
            "max_width": null,
            "order": null,
            "_view_module_version": "1.2.0",
            "grid_template_areas": null,
            "object_position": null,
            "object_fit": null,
            "grid_auto_columns": null,
            "margin": null,
            "display": null,
            "left": null
          }
        },
        "a1f21d2ee4764a649277b63ab991dd9a": {
          "model_module": "@jupyter-widgets/controls",
          "model_name": "ProgressStyleModel",
          "state": {
            "_view_name": "StyleView",
            "_model_name": "ProgressStyleModel",
            "description_width": "",
            "_view_module": "@jupyter-widgets/base",
            "_model_module_version": "1.5.0",
            "_view_count": null,
            "_view_module_version": "1.2.0",
            "bar_color": null,
            "_model_module": "@jupyter-widgets/controls"
          }
        },
        "1e151fa6e9e546f9aba031a7ff2cd763": {
          "model_module": "@jupyter-widgets/base",
          "model_name": "LayoutModel",
          "state": {
            "_view_name": "LayoutView",
            "grid_template_rows": null,
            "right": null,
            "justify_content": null,
            "_view_module": "@jupyter-widgets/base",
            "overflow": null,
            "_model_module_version": "1.2.0",
            "_view_count": null,
            "flex_flow": null,
            "width": null,
            "min_width": null,
            "border": null,
            "align_items": null,
            "bottom": null,
            "_model_module": "@jupyter-widgets/base",
            "top": null,
            "grid_column": null,
            "overflow_y": null,
            "overflow_x": null,
            "grid_auto_flow": null,
            "grid_area": null,
            "grid_template_columns": null,
            "flex": null,
            "_model_name": "LayoutModel",
            "justify_items": null,
            "grid_row": null,
            "max_height": null,
            "align_content": null,
            "visibility": null,
            "align_self": null,
            "height": null,
            "min_height": null,
            "padding": null,
            "grid_auto_rows": null,
            "grid_gap": null,
            "max_width": null,
            "order": null,
            "_view_module_version": "1.2.0",
            "grid_template_areas": null,
            "object_position": null,
            "object_fit": null,
            "grid_auto_columns": null,
            "margin": null,
            "display": null,
            "left": null
          }
        }
      }
    }
  },
  "cells": [
    {
      "cell_type": "code",
      "metadata": {
        "colab": {
          "base_uri": "https://localhost:8080/"
        },
        "id": "MC4LmFM0hHVy",
        "outputId": "156e6461-eac7-43ad-d6c8-e777bb69fb12"
      },
      "source": [
        "! pip install wandb"
      ],
      "execution_count": null,
      "outputs": [
        {
          "output_type": "stream",
          "text": [
            "Collecting wandb\n",
            "\u001b[?25l  Downloading https://files.pythonhosted.org/packages/33/ae/79374d2b875e638090600eaa2a423479865b7590c53fb78e8ccf6a64acb1/wandb-0.10.22-py2.py3-none-any.whl (2.0MB)\n",
            "\u001b[K     |████████████████████████████████| 2.0MB 7.1MB/s \n",
            "\u001b[?25hRequirement already satisfied: Click>=7.0 in /usr/local/lib/python3.7/dist-packages (from wandb) (7.1.2)\n",
            "Requirement already satisfied: psutil>=5.0.0 in /usr/local/lib/python3.7/dist-packages (from wandb) (5.4.8)\n",
            "Requirement already satisfied: requests<3,>=2.0.0 in /usr/local/lib/python3.7/dist-packages (from wandb) (2.23.0)\n",
            "Collecting docker-pycreds>=0.4.0\n",
            "  Downloading https://files.pythonhosted.org/packages/f5/e8/f6bd1eee09314e7e6dee49cbe2c5e22314ccdb38db16c9fc72d2fa80d054/docker_pycreds-0.4.0-py2.py3-none-any.whl\n",
            "Requirement already satisfied: promise<3,>=2.0 in /usr/local/lib/python3.7/dist-packages (from wandb) (2.3)\n",
            "Collecting shortuuid>=0.5.0\n",
            "  Downloading https://files.pythonhosted.org/packages/25/a6/2ecc1daa6a304e7f1b216f0896b26156b78e7c38e1211e9b798b4716c53d/shortuuid-1.0.1-py3-none-any.whl\n",
            "Requirement already satisfied: protobuf>=3.12.0 in /usr/local/lib/python3.7/dist-packages (from wandb) (3.12.4)\n",
            "Collecting pathtools\n",
            "  Downloading https://files.pythonhosted.org/packages/e7/7f/470d6fcdf23f9f3518f6b0b76be9df16dcc8630ad409947f8be2eb0ed13a/pathtools-0.1.2.tar.gz\n",
            "Requirement already satisfied: six>=1.13.0 in /usr/local/lib/python3.7/dist-packages (from wandb) (1.15.0)\n",
            "Requirement already satisfied: python-dateutil>=2.6.1 in /usr/local/lib/python3.7/dist-packages (from wandb) (2.8.1)\n",
            "Collecting subprocess32>=3.5.3\n",
            "\u001b[?25l  Downloading https://files.pythonhosted.org/packages/32/c8/564be4d12629b912ea431f1a50eb8b3b9d00f1a0b1ceff17f266be190007/subprocess32-3.5.4.tar.gz (97kB)\n",
            "\u001b[K     |████████████████████████████████| 102kB 12.4MB/s \n",
            "\u001b[?25hRequirement already satisfied: PyYAML in /usr/local/lib/python3.7/dist-packages (from wandb) (3.13)\n",
            "Collecting GitPython>=1.0.0\n",
            "\u001b[?25l  Downloading https://files.pythonhosted.org/packages/a6/99/98019716955ba243657daedd1de8f3a88ca1f5b75057c38e959db22fb87b/GitPython-3.1.14-py3-none-any.whl (159kB)\n",
            "\u001b[K     |████████████████████████████████| 163kB 34.3MB/s \n",
            "\u001b[?25hCollecting sentry-sdk>=0.4.0\n",
            "\u001b[?25l  Downloading https://files.pythonhosted.org/packages/f3/92/5a33be64990ba815364a8f2dd9e6f51de60d23dfddafb4f1fc5577d4dc64/sentry_sdk-1.0.0-py2.py3-none-any.whl (131kB)\n",
            "\u001b[K     |████████████████████████████████| 133kB 33.5MB/s \n",
            "\u001b[?25hCollecting configparser>=3.8.1\n",
            "  Downloading https://files.pythonhosted.org/packages/fd/01/ff260a18caaf4457eb028c96eeb405c4a230ca06c8ec9c1379f813caa52e/configparser-5.0.2-py3-none-any.whl\n",
            "Requirement already satisfied: urllib3!=1.25.0,!=1.25.1,<1.26,>=1.21.1 in /usr/local/lib/python3.7/dist-packages (from requests<3,>=2.0.0->wandb) (1.24.3)\n",
            "Requirement already satisfied: idna<3,>=2.5 in /usr/local/lib/python3.7/dist-packages (from requests<3,>=2.0.0->wandb) (2.10)\n",
            "Requirement already satisfied: chardet<4,>=3.0.2 in /usr/local/lib/python3.7/dist-packages (from requests<3,>=2.0.0->wandb) (3.0.4)\n",
            "Requirement already satisfied: certifi>=2017.4.17 in /usr/local/lib/python3.7/dist-packages (from requests<3,>=2.0.0->wandb) (2020.12.5)\n",
            "Requirement already satisfied: setuptools in /usr/local/lib/python3.7/dist-packages (from protobuf>=3.12.0->wandb) (54.0.0)\n",
            "Collecting gitdb<5,>=4.0.1\n",
            "\u001b[?25l  Downloading https://files.pythonhosted.org/packages/48/11/d1800bca0a3bae820b84b7d813ad1eff15a48a64caea9c823fc8c1b119e8/gitdb-4.0.5-py3-none-any.whl (63kB)\n",
            "\u001b[K     |████████████████████████████████| 71kB 10.9MB/s \n",
            "\u001b[?25hCollecting smmap<4,>=3.0.1\n",
            "  Downloading https://files.pythonhosted.org/packages/d5/1e/6130925131f639b2acde0f7f18b73e33ce082ff2d90783c436b52040af5a/smmap-3.0.5-py2.py3-none-any.whl\n",
            "Building wheels for collected packages: pathtools, subprocess32\n",
            "  Building wheel for pathtools (setup.py) ... \u001b[?25l\u001b[?25hdone\n",
            "  Created wheel for pathtools: filename=pathtools-0.1.2-cp37-none-any.whl size=8786 sha256=504884149b1c12a1692454d5b68ae335de35da352808a5be4c000b2e27d7aa53\n",
            "  Stored in directory: /root/.cache/pip/wheels/0b/04/79/c3b0c3a0266a3cb4376da31e5bfe8bba0c489246968a68e843\n",
            "  Building wheel for subprocess32 (setup.py) ... \u001b[?25l\u001b[?25hdone\n",
            "  Created wheel for subprocess32: filename=subprocess32-3.5.4-cp37-none-any.whl size=6489 sha256=4fed5d931c8f353ccf6fc8ebc81250e140271937643a71042b83ed72a3ad6896\n",
            "  Stored in directory: /root/.cache/pip/wheels/68/39/1a/5e402bdfdf004af1786c8b853fd92f8c4a04f22aad179654d1\n",
            "Successfully built pathtools subprocess32\n",
            "Installing collected packages: docker-pycreds, shortuuid, pathtools, subprocess32, smmap, gitdb, GitPython, sentry-sdk, configparser, wandb\n",
            "Successfully installed GitPython-3.1.14 configparser-5.0.2 docker-pycreds-0.4.0 gitdb-4.0.5 pathtools-0.1.2 sentry-sdk-1.0.0 shortuuid-1.0.1 smmap-3.0.5 subprocess32-3.5.4 wandb-0.10.22\n"
          ],
          "name": "stdout"
        }
      ]
    },
    {
      "cell_type": "markdown",
      "metadata": {
        "id": "u3XoVgdQjqCw"
      },
      "source": [
        "**Question 1 (2 Marks)**\n",
        "Download the fashion-MNIST dataset and plot 1 sample image for each class as shown in the grid below. Use \"from keras.datasets import fashion_mnist\" for getting the fashion mnist dataset."
      ]
    },
    {
      "cell_type": "code",
      "metadata": {
        "id": "66qWcgyaSfT5"
      },
      "source": [
        "import wandb\n",
        "import numpy as np\n",
        "import matplotlib.pyplot as plt\n",
        "from PIL import Image as im\n",
        "from keras.datasets import fashion_mnist"
      ],
      "execution_count": null,
      "outputs": []
    },
    {
      "cell_type": "code",
      "metadata": {
        "colab": {
          "base_uri": "https://localhost:8080/"
        },
        "id": "B0FkxFl-SvNF",
        "outputId": "4765d809-284e-4536-f029-f7db50788dab"
      },
      "source": [
        "(x_train,y_train),(x_test,y_test)=fashion_mnist.load_data()"
      ],
      "execution_count": null,
      "outputs": [
        {
          "output_type": "stream",
          "text": [
            "Downloading data from https://storage.googleapis.com/tensorflow/tf-keras-datasets/train-labels-idx1-ubyte.gz\n",
            "32768/29515 [=================================] - 0s 0us/step\n",
            "Downloading data from https://storage.googleapis.com/tensorflow/tf-keras-datasets/train-images-idx3-ubyte.gz\n",
            "26427392/26421880 [==============================] - 0s 0us/step\n",
            "Downloading data from https://storage.googleapis.com/tensorflow/tf-keras-datasets/t10k-labels-idx1-ubyte.gz\n",
            "8192/5148 [===============================================] - 0s 0us/step\n",
            "Downloading data from https://storage.googleapis.com/tensorflow/tf-keras-datasets/t10k-images-idx3-ubyte.gz\n",
            "4423680/4422102 [==============================] - 0s 0us/step\n"
          ],
          "name": "stdout"
        }
      ]
    },
    {
      "cell_type": "code",
      "metadata": {
        "id": "6cH3NDAAQ6Mv"
      },
      "source": [
        "showed=np.zeros(10)\n",
        "i=0\n",
        "images=[]\n",
        "classes=[]\n",
        "while (0 in showed):\n",
        "  i=np.random.randint(0,len(y_train))\n",
        "  if showed[y_train[i]]==0:\n",
        "    images.append(im.fromarray(x_train[i]))\n",
        "    classes.append(y_train[i])\n",
        "    showed[y_train[i]]=1\n",
        "  i=i+1"
      ],
      "execution_count": null,
      "outputs": []
    },
    {
      "cell_type": "code",
      "metadata": {
        "colab": {
          "base_uri": "https://localhost:8080/",
          "height": 491
        },
        "id": "cheAs9wMS9Xv",
        "outputId": "6bd9246e-621b-4486-8756-58dd14fe4e9c"
      },
      "source": [
        "wandb.init()\n",
        "plt.figure(figsize=(10, 10))\n",
        "for i, image in enumerate(images):\n",
        "  img=plt.subplot(3, 5,i+1)\n",
        "  img.set_title(classes[i])\n",
        "  im = plt.imshow(image,cmap='gray')\n",
        "  wandb.log({\"img\": [wandb.Image(im, caption=\"Cafe\")]})"
      ],
      "execution_count": null,
      "outputs": [
        {
          "output_type": "display_data",
          "data": {
            "application/javascript": [
              "\n",
              "        window._wandbApiKey = new Promise((resolve, reject) => {\n",
              "            function loadScript(url) {\n",
              "            return new Promise(function(resolve, reject) {\n",
              "                let newScript = document.createElement(\"script\");\n",
              "                newScript.onerror = reject;\n",
              "                newScript.onload = resolve;\n",
              "                document.body.appendChild(newScript);\n",
              "                newScript.src = url;\n",
              "            });\n",
              "            }\n",
              "            loadScript(\"https://cdn.jsdelivr.net/npm/postmate/build/postmate.min.js\").then(() => {\n",
              "            const iframe = document.createElement('iframe')\n",
              "            iframe.style.cssText = \"width:0;height:0;border:none\"\n",
              "            document.body.appendChild(iframe)\n",
              "            const handshake = new Postmate({\n",
              "                container: iframe,\n",
              "                url: 'https://wandb.ai/authorize'\n",
              "            });\n",
              "            const timeout = setTimeout(() => reject(\"Couldn't auto authenticate\"), 5000)\n",
              "            handshake.then(function(child) {\n",
              "                child.on('authorize', data => {\n",
              "                    clearTimeout(timeout)\n",
              "                    resolve(data)\n",
              "                });\n",
              "            });\n",
              "            })\n",
              "        });\n",
              "    "
            ],
            "text/plain": [
              "<IPython.core.display.Javascript object>"
            ]
          },
          "metadata": {
            "tags": []
          }
        },
        {
          "output_type": "stream",
          "text": [
            "\u001b[34m\u001b[1mwandb\u001b[0m: Appending key for api.wandb.ai to your netrc file: /root/.netrc\n"
          ],
          "name": "stderr"
        },
        {
          "output_type": "display_data",
          "data": {
            "text/html": [
              "\n",
              "                Tracking run with wandb version 0.10.22<br/>\n",
              "                Syncing run <strong style=\"color:#cdcd00\">hershey-meringue-11</strong> to <a href=\"https://wandb.ai\" target=\"_blank\">Weights & Biases</a> <a href=\"https://docs.wandb.com/integrations/jupyter.html\" target=\"_blank\">(Documentation)</a>.<br/>\n",
              "                Project page: <a href=\"https://wandb.ai/piyushac123/uncategorized\" target=\"_blank\">https://wandb.ai/piyushac123/uncategorized</a><br/>\n",
              "                Run page: <a href=\"https://wandb.ai/piyushac123/uncategorized/runs/29djcg7q\" target=\"_blank\">https://wandb.ai/piyushac123/uncategorized/runs/29djcg7q</a><br/>\n",
              "                Run data is saved locally in <code>/content/wandb/run-20210314_073018-29djcg7q</code><br/><br/>\n",
              "            "
            ],
            "text/plain": [
              "<IPython.core.display.HTML object>"
            ]
          },
          "metadata": {
            "tags": []
          }
        },
        {
          "output_type": "display_data",
          "data": {
            "image/png": "[encoded data removed]",
            "text/plain": [
              "<Figure size 720x720 with 10 Axes>"
            ]
          },
          "metadata": {
            "tags": [],
            "needs_background": "light"
          }
        }
      ]
    },
    {
      "cell_type": "markdown",
      "metadata": {
        "id": "RuklG5oREOfe"
      },
      "source": [
        "## FeedForward Neural Network"
      ]
    },
    {
      "cell_type": "code",
      "metadata": {
        "colab": {
          "base_uri": "https://localhost:8080/"
        },
        "id": "gk-M-nTkhHWd",
        "outputId": "e46df9a7-2055-460e-f4eb-5452d5c426fe"
      },
      "source": [
        "samples=int(len(x_train)-0.1*len(x_train))\n",
        "X_train=x_train[0:samples]\n",
        "Y_train=y_train[0:samples]\n",
        "X_val=x_train[samples:len(x_train)]\n",
        "Y_val=y_train[samples:len(x_train)]\n",
        "print(X_train.shape,X_val.shape)"
      ],
      "execution_count": null,
      "outputs": [
        {
          "output_type": "stream",
          "text": [
            "(54000, 28, 28) (6000, 28, 28)\n"
          ],
          "name": "stdout"
        }
      ]
    },
    {
      "cell_type": "markdown",
      "metadata": {
        "id": "-Tsp6DMrhHWe"
      },
      "source": [
        "### Sweep functionality "
      ]
    },
    {
      "cell_type": "code",
      "metadata": {
        "id": "dGHjjGUKhHWe"
      },
      "source": [
        "# Configure the sweep – specify the parameters to search through, the search strategy, the optimization metric et all.\n",
        "sweep_config = {\n",
        "    'method': 'random', #grid, random\n",
        "    'metric': {\n",
        "      'name': 'accuracy',\n",
        "      'goal': 'maximize'   \n",
        "    },\n",
        "    'parameters': {\n",
        "        'epochs': {\n",
        "            'values': [5, 10]\n",
        "        },\n",
        "        'no_of_hidden_layers': { \n",
        "            'values': [3, 4, 5]\n",
        "            # 'values': [3]\n",
        "        },\n",
        "        'hidden_layer_size': {\n",
        "            'values': [32, 64, 128]\n",
        "            # 'values': [16]\n",
        "        },\n",
        "        'weight_decay':{\n",
        "            'values': [0, 0.0005, 0.5]\n",
        "        },\n",
        "        'learning_rate': {\n",
        "            'values': [1e-3, 1e-4]\n",
        "            # 'values': [1e-3]\n",
        "        },\n",
        "        'optimizer': {\n",
        "            'values': ['adam', 'nadam', 'sgd', 'rmsprop', 'momentum', 'nesterov']\n",
        "            # 'values': ['gd']\n",
        "        },\n",
        "        'batch_size': {\n",
        "            'values': [16,32,64]\n",
        "            # 'values': [32]\n",
        "        },       \n",
        "        'weight_initialisation':{\n",
        "            'values': ['random', 'Xavier']\n",
        "        },\n",
        "        'activation': {\n",
        "            # 'values': ['relu', 'elu', 'selu', 'softmax']\n",
        "            'values': ['sigmoid','tanh','ReLu']\n",
        "        }\n",
        "        \n",
        "        \n",
        "    }\n",
        "}"
      ],
      "execution_count": null,
      "outputs": []
    },
    {
      "cell_type": "markdown",
      "metadata": {
        "id": "p4hegAbjhHWg"
      },
      "source": [
        "### Initiate sweep function and get sweep id "
      ]
    },
    {
      "cell_type": "code",
      "metadata": {
        "colab": {
          "base_uri": "https://localhost:8080/"
        },
        "id": "dxpkrCY1hHWt",
        "outputId": "b67ae1f8-704d-4e69-ec59-b4757cdd2333"
      },
      "source": [
        "sweep_id = wandb.sweep(sweep_config, entity=\"prachisahu47\", project=\"Feed_Forward_Neural_Network_modules\")"
      ],
      "execution_count": null,
      "outputs": [
        {
          "output_type": "stream",
          "text": [
            "\u001b[34m\u001b[1mwandb\u001b[0m: \u001b[33mWARNING\u001b[0m Calling wandb.login() after wandb.init() has no effect.\n"
          ],
          "name": "stderr"
        },
        {
          "output_type": "stream",
          "text": [
            "Create sweep with ID: k9bepg6m\n",
            "Sweep URL: https://wandb.ai/piyushac123/Feed_Forward_Neural_Network_modules/sweeps/k9bepg6m\n"
          ],
          "name": "stdout"
        }
      ]
    },
    {
      "cell_type": "code",
      "metadata": {
        "id": "S1MuJBD7hHWu"
      },
      "source": [
        "def init_w_and_b(config):\n",
        "  # print('b')\n",
        "  layers=config.no_of_hidden_layers+1\n",
        "  neurons=[len(X_train[0].reshape(784))]\n",
        "  for i in range(1,layers): neurons.append(config.hidden_layer_size)\n",
        "  neurons.append(10)\n",
        "  #print(neurons)\n",
        "  w=[]\n",
        "  b=[]\n",
        "  if(config.weight_initialisation== 'random'):\n",
        "    for i in range(1,layers+1):\n",
        "      wx=np.random.rand(neurons[i],neurons[i-1])\n",
        "      w.append(wx)\n",
        "    for i in range(1,layers+1):\n",
        "      bx=np.random.rand(neurons[i])\n",
        "      b.append(bx)\n",
        "\n",
        "  if(config.weight_initialisation== 'Xavier'):\n",
        "    var=2/(neurons[0]+neurons[layers])\n",
        "    mu=0\n",
        "    for i in range(1,layers+1):\n",
        "      wx=np.random.normal(mu,var,(neurons[i],neurons[i-1]))\n",
        "      w.append(wx)\n",
        "    for i in range(1,layers+1):\n",
        "      bx=np.random.normal(mu,var,neurons[i])\n",
        "      b.append(bx)\n",
        "  \n",
        "  return neurons, w, b"
      ],
      "execution_count": null,
      "outputs": []
    },
    {
      "cell_type": "code",
      "metadata": {
        "id": "WEFyODhBhHWv"
      },
      "source": [
        "def activation_func(a1, choice):\n",
        "    if(choice == 'sigmoid'):\n",
        "      return (1/(1+np.exp(-a1)))\n",
        "    if(choice=='tanh'):\n",
        "      return (2/(1+np.exp(-2*a1))-1)\n",
        "    if(choice=='ReLu'):\n",
        "      return np.multiply(1*(a1>=0),a1)"
      ],
      "execution_count": null,
      "outputs": []
    },
    {
      "cell_type": "code",
      "metadata": {
        "id": "Ga787spnhHWv"
      },
      "source": [
        "def activation_func_derivative(a,choice):\n",
        "  if(choice == 'sigmoid'):\n",
        "      return activation_func(a,choice)*(1-activation_func(a,choice))\n",
        "  if(choice=='tanh'):\n",
        "    return 1-np.square(activation_func(a,choice))\n",
        "  if(choice=='ReLu'):\n",
        "    return 1*(a>=0)"
      ],
      "execution_count": null,
      "outputs": []
    },
    {
      "cell_type": "code",
      "metadata": {
        "id": "cWkQE3XwhHWw"
      },
      "source": [
        "def get_val_accuracy(w,b,config):\n",
        "  match=0\n",
        "  for i in range(len(Y_val)):\n",
        "    yhat=predict(w,b,X_val[i].reshape(784),config)\n",
        "    if(np.argmax(yhat)==Y_val[i]):\n",
        "      match+=1\n",
        "  return match/len(Y_val)"
      ],
      "execution_count": null,
      "outputs": []
    },
    {
      "cell_type": "code",
      "metadata": {
        "id": "xa5c6z_qhHWx"
      },
      "source": [
        "def get_accuracy(w,b,config):\n",
        "  match=0\n",
        "  for i in range(len(Y_train)):\n",
        "    yhat=predict(w,b,X_train[i].reshape(784),config)\n",
        "    if(np.argmax(yhat)==Y_train[i]):\n",
        "      match+=1\n",
        "  return match/len(Y_train)"
      ],
      "execution_count": null,
      "outputs": []
    },
    {
      "cell_type": "code",
      "metadata": {
        "id": "XrolEv_RhHWx"
      },
      "source": [
        "def val_cross_entropy(w,b,config):\n",
        "  err=0\n",
        "  for i in range(len(Y_val)):\n",
        "    yhat=predict(w,b,X_val[i].reshape(784),config)\n",
        "    err+=-np.log(yhat[Y_val[i]])\n",
        "  l2norm=0\n",
        "  for i in range(len(w)):\n",
        "    l2norm+=np.linalg.norm(w[i])\n",
        "\n",
        "  return err/len(Y_val)+l2norm*config.weight_decay/(2*len(Y_val))"
      ],
      "execution_count": null,
      "outputs": []
    },
    {
      "cell_type": "code",
      "metadata": {
        "id": "YKYFVqoGhHWy"
      },
      "source": [
        "def cross_entropy(w,b,config):\n",
        "  err=0\n",
        "  for i in range(len(Y_train)):\n",
        "    yhat=predict(w,b,X_train[i].reshape(784),config)\n",
        "    err+=-np.log(yhat[Y_train[i]])\n",
        "  l2norm=0\n",
        "  for i in range(len(w)):\n",
        "    l2norm+=np.linalg.norm(w[i])\n",
        "\n",
        "  return err/len(Y_train)+l2norm*config.weight_decay/(2*len(Y_train))"
      ],
      "execution_count": null,
      "outputs": []
    },
    {
      "cell_type": "code",
      "metadata": {
        "id": "v4wgexwlhHWy"
      },
      "source": [
        "def predict(w,b,img,config):\n",
        "  a=b[0]+np.dot(w[0],img)\n",
        "  h=activation_func(a, config.activation) \n",
        "\n",
        "  layers=config.no_of_hidden_layers+1\n",
        "  for i in range(1,layers-1):\n",
        "    a=b[i]+np.dot(w[i],h)\n",
        "    h=activation_func(a, config.activation)   \n",
        "  lastLayer=b[layers-1]+np.dot(w[layers-1],h)\n",
        "  y=softmax(lastLayer)\n",
        "  return y"
      ],
      "execution_count": null,
      "outputs": []
    },
    {
      "cell_type": "code",
      "metadata": {
        "id": "30fGWKAVhHWz"
      },
      "source": [
        "def softmax(a):\n",
        "  return np.exp(a)/sum(np.exp(a))"
      ],
      "execution_count": null,
      "outputs": []
    },
    {
      "cell_type": "code",
      "metadata": {
        "id": "6UBZqdBKEN0N"
      },
      "source": [
        "def forward_prop(w,b,p,config):\n",
        "  # print('c')\n",
        "  layers = config.no_of_hidden_layers+1\n",
        "  h=[]\n",
        "  a=[]\n",
        "  a1=b[0]+np.dot(w[0],X_train[p].reshape(784))\n",
        "  a.append(a1)\n",
        "  h1 = activation_func(a1, config.activation)\n",
        "  h.append(h1)\n",
        "  for i in range(1,layers-1):\n",
        "    a1=b[i]+np.dot(w[i],h[i-1])\n",
        "    a.append(a1)\n",
        "    h1=activation_func(a1, config.activation) \n",
        "    h.append(h1)\n",
        "  a1=b[layers-1]+np.dot(w[layers-1],h[layers-2])######Repeat\n",
        "  a.append(a1)\n",
        "  y=softmax(a1)\n",
        "  return h,a,y"
      ],
      "execution_count": null,
      "outputs": []
    },
    {
      "cell_type": "code",
      "metadata": {
        "id": "u6TncIKfEoAW"
      },
      "source": [
        "def backward_prop(h,a,y,p,config,w,b):\n",
        "  # print('e')\n",
        "  layers = config.no_of_hidden_layers+1\n",
        "  wdash=[]\n",
        "  bdash=[]\n",
        "  actualY=np.zeros(10)\n",
        "  actualY[Y_train[p]]=1\n",
        "  dela=y-actualY\n",
        "\n",
        "  for i in range(0,layers-1):\n",
        "    delw=np.outer(dela,h[layers-2-i])\n",
        "    wdash.append(delw)\n",
        "    bdash.append(dela)\n",
        "    delh=np.dot(w[layers-1-i].T,dela)\n",
        "    #g=(1/(1+np.exp(-a[layers-1-i-1])))   #chnge to actvatn derivative ???????????????????????\n",
        "    gdash=activation_func_derivative(a[layers-1-i-1],config.activation)\n",
        "    dela=np.multiply(delh,gdash)\n",
        "  \n",
        "  delw=np.outer(dela,X_train[p])\n",
        "  wdash.append(delw)\n",
        "  bdash.append(dela)\n",
        "  wdash.reverse()\n",
        "  bdash.reverse()\n",
        "  return wdash,bdash\n"
      ],
      "execution_count": null,
      "outputs": []
    },
    {
      "cell_type": "markdown",
      "metadata": {
        "id": "0w8DWU50iSON"
      },
      "source": [
        "### Gradient Descent"
      ]
    },
    {
      "cell_type": "code",
      "metadata": {
        "id": "LUC_BpdzEr7o"
      },
      "source": [
        "def gradient_descent(config):\n",
        "  # print('a')\n",
        "  # print(config.no_of_hidden_layers, config.hidden_layer_size, config.batch_size, config.learning_rate, config.activation)\n",
        "  maxitr = config.epochs\n",
        "  neurons, w, b = init_w_and_b(config)\n",
        "  #s=len(X_train)\n",
        "  error=[]\n",
        "  val_error=[]\n",
        "  accuracy=[]\n",
        "  val_accuracy=[]\n",
        "  for i in range(0,maxitr):\n",
        "    wgrad=[]\n",
        "    bgrad=[]\n",
        "    bs=0\n",
        "    for j in range(0,samples):\n",
        "      bs+=1\n",
        "      h,a,y=forward_prop(w,b,j,config)\n",
        "      wdash,bdash=backward_prop(h,a,y,j,config,w,b)\n",
        "      wgrad.append(wdash)\n",
        "      bgrad.append(bdash)\n",
        "      if bs%config.batch_size==0:\n",
        "        w=np.subtract(w,config.learning_rate*np.sum(wgrad,axis=0))\n",
        "        b=np.subtract(b,config.learning_rate*np.sum(bgrad,axis=0))\n",
        "        wgrad.clear()\n",
        "        bgrad.clear()\n",
        "    error.append(cross_entropy(w,b,config))\n",
        "    val_error.append(val_cross_entropy(w,b,config))\n",
        "    accuracy.append(get_accuracy(w,b,config))\n",
        "    val_accuracy.append(get_val_accuracy(w,b,config))\n",
        "\n",
        "  return w,b,error,val_error,accuracy,val_accuracy"
      ],
      "execution_count": null,
      "outputs": []
    },
    {
      "cell_type": "markdown",
      "metadata": {
        "id": "P8TyJV2SjO1Q"
      },
      "source": [
        "### Stochastic Gradient Descent"
      ]
    },
    {
      "cell_type": "code",
      "metadata": {
        "id": "e2RKjruljPT7"
      },
      "source": [
        "def stocastic_gd(config):\n",
        "  layers=config.no_of_hidden_layers+1\n",
        "  epoch=config.epochs\n",
        "  eta=config.learning_rate\n",
        "  batch_size=config.batch_size\n",
        "\n",
        "  neurons, w, b = init_w_and_b(config)\n",
        "\n",
        "  #s=len(x_train)\n",
        "  error=[]\n",
        "  val_error=[]\n",
        "  accuracy=[]\n",
        "  val_accuracy=[]\n",
        "  for i in range(0,epoch):\n",
        "    wgrad=[]\n",
        "    bgrad=[]\n",
        "    bs=0\n",
        "    for j in range(0,samples):\n",
        "      bs+=1\n",
        "      h,a,y=forward_prop(w,b,j,config)\n",
        "      wdash,bdash=backward_prop(h,a,y,j,config,w,b)\n",
        "      wgrad.append(wdash)\n",
        "      bgrad.append(bdash)\n",
        "      if bs%batch_size==0:\n",
        "        w=np.subtract(w,eta*np.sum(wgrad,axis=0))\n",
        "        b=np.subtract(b,eta*np.sum(bgrad,axis=0))\n",
        "        wgrad.clear()\n",
        "        bgrad.clear()\n",
        "    error.append(cross_entropy(w,b,config))\n",
        "    val_error.append(val_cross_entropy(w,b,config))\n",
        "    accuracy.append(get_accuracy(w,b,config))\n",
        "    val_accuracy.append(get_val_accuracy(w,b,config))\n",
        "  return w,b,error,val_error,accuracy,val_accuracy\n",
        "  # img_num=np.random.randint(0,len(y_test))\n",
        "  # y_hat=predict(w,b,x_test[img_num])\n",
        "  # print(\"probabilities of each class:\",y_hat)"
      ],
      "execution_count": null,
      "outputs": []
    },
    {
      "cell_type": "markdown",
      "metadata": {
        "id": "ZuOa-kRzkFJ6"
      },
      "source": [
        "### Momentum Gradient Descent"
      ]
    },
    {
      "cell_type": "code",
      "metadata": {
        "id": "7Da-wovQkFcq"
      },
      "source": [
        "def momentum_gd(config):\n",
        "  layers=config.no_of_hidden_layers+1\n",
        "  epoch=config.epochs\n",
        "  gamma=0.9\n",
        "  eta=config.learning_rate\n",
        "  batch_size=config.batch_size\n",
        "\n",
        "  neurons, w, b = init_w_and_b(config)\n",
        "\n",
        "  #s=len(x_train)\n",
        "  \n",
        "  pre_updt_w=[]\n",
        "  for i in range(1,layers+1):\n",
        "    pwx=np.zeros((neurons[i],neurons[i-1]))\n",
        "    pre_updt_w.append(pwx)\n",
        "\n",
        "  pre_updt_b=[]\n",
        "  for i in range(1,layers+1):\n",
        "    pbx=np.zeros(neurons[i])\n",
        "    pre_updt_b.append(pbx)\n",
        "  error=[]\n",
        "  val_error=[]\n",
        "  accuracy=[]\n",
        "  val_accuracy=[]\n",
        "  for i in range(0,epoch):\n",
        "    wgrad=[]\n",
        "    bgrad=[]\n",
        "    bs=0\n",
        "    for j in range(0,samples):\n",
        "      bs+=1\n",
        "      h,a,y=forward_prop(w,b,j,config)\n",
        "      wdash,bdash=backward_prop(h,a,y,j,config,w,b)\n",
        "      wgrad.append(wdash)\n",
        "      bgrad.append(bdash)\n",
        "      if bs%batch_size==0:\n",
        "        updt_w = np.add((gamma*np.array(pre_updt_w)), (eta*np.sum(wgrad,axis=0)))\n",
        "        updt_b = np.add((gamma*np.array(pre_updt_b)), (eta*np.sum(bgrad,axis=0)))\n",
        "        w=np.subtract(w,updt_w)\n",
        "        b=np.subtract(b,updt_b)\n",
        "        pre_updt_w = updt_w\n",
        "        pre_updt_b = updt_b\n",
        "        wgrad.clear()\n",
        "        bgrad.clear()\n",
        "    error.append(cross_entropy(w,b,config))\n",
        "    val_error.append(val_cross_entropy(w,b,config))\n",
        "    accuracy.append(get_accuracy(w,b,config))\n",
        "    val_accuracy.append(get_val_accuracy(w,b,config))\n",
        "  return w,b,error,val_error,accuracy,val_accuracy"
      ],
      "execution_count": null,
      "outputs": []
    },
    {
      "cell_type": "markdown",
      "metadata": {
        "id": "7tGlcNNckj91"
      },
      "source": [
        "### Nesterov Accelerated Gradient Descent"
      ]
    },
    {
      "cell_type": "code",
      "metadata": {
        "id": "a1YtVLulkkLQ"
      },
      "source": [
        "def Nesterov_gd(config):\n",
        "  layers=config.no_of_hidden_layers+1\n",
        "  epoch=config.epochs\n",
        "  gamma=0.9\n",
        "  eta=config.learning_rate\n",
        "  batch_size=config.batch_size\n",
        "\n",
        "  neurons, w, b = init_w_and_b(config)\n",
        "\n",
        "  updt_w=[]\n",
        "  for i in range(1,layers+1):\n",
        "    pwx=np.zeros((neurons[i],neurons[i-1]))\n",
        "    updt_w.append(pwx)\n",
        "  \n",
        "  updt_b=[]\n",
        "  for i in range(1,layers+1):\n",
        "    pbx=np.zeros(neurons[i])\n",
        "    updt_b.append(pbx)\n",
        "  \n",
        "  error=[]\n",
        "  val_error=[]\n",
        "  accuracy=[]\n",
        "  val_accuracy=[]\n",
        "  for i in range(0,epoch):\n",
        "    wgrad=[]\n",
        "    bgrad=[]\n",
        "    w_la=np.subtract(w,gamma*np.array(updt_w))\n",
        "    b_la=np.subtract(b,gamma*np.array(updt_b))\n",
        "    bs=0\n",
        "    for j in range(0,samples):\n",
        "      bs+=1\n",
        "      h,a,y=forward_prop(w_la,b_la,j,config)\n",
        "      wdash,bdash=backward_prop(h,a,y,j,config,w_la,b_la)\n",
        "      wgrad.append(wdash)\n",
        "      bgrad.append(bdash)\n",
        "      if bs%batch_size==0:\n",
        "        updt_w = np.add((gamma*np.array(updt_w)), (eta*np.sum(wgrad,axis=0)))\n",
        "        updt_b = np.add((gamma*np.array(updt_b)), (eta*np.sum(bgrad,axis=0)))\n",
        "\n",
        "        w=np.subtract(w,updt_w)\n",
        "        b=np.subtract(b,updt_b)\n",
        "\n",
        "        w_la=np.subtract(w,gamma*np.array(updt_w))\n",
        "        b_la=np.subtract(b,gamma*np.array(updt_b))\n",
        "\n",
        "        wgrad.clear()\n",
        "        bgrad.clear()\n",
        "    error.append(cross_entropy(w,b,config))\n",
        "    val_error.append(val_cross_entropy(w,b,config))\n",
        "    accuracy.append(get_accuracy(w,b,config))\n",
        "    val_accuracy.append(get_val_accuracy(w,b,config))\n",
        "  return w,b,error,val_error,accuracy,val_accuracy"
      ],
      "execution_count": null,
      "outputs": []
    },
    {
      "cell_type": "markdown",
      "metadata": {
        "id": "7prp_ukWk8Ds"
      },
      "source": [
        "### RMSProp Gradient Descent\n",
        "\n"
      ]
    },
    {
      "cell_type": "code",
      "metadata": {
        "id": "KnRW-Xvnk8PO"
      },
      "source": [
        "def RMS_prop(config):\n",
        "  layers=config.no_of_hidden_layers+1\n",
        "  epoch_size=config.epochs\n",
        "  eta=config.learning_rate\n",
        "  epsilon=0.00000001\n",
        "  beta=0.9\n",
        "  #s=len(x_train)-6000\n",
        "  batch_size=config.batch_size\n",
        "\n",
        "  neurons, w, b = init_w_and_b(config)\n",
        "\n",
        "  vb=[]\n",
        "  for i in range(1,layers+1):\n",
        "    bx=np.zeros(neurons[i])\n",
        "    vb.append(bx)\n",
        "\n",
        "  vw=[]\n",
        "  for i in range(1,layers+1):\n",
        "    wx=np.zeros((neurons[i],neurons[i-1]))\n",
        "    vw.append(wx)\n",
        "  error=[]\n",
        "  val_error=[]\n",
        "  accuracy=[]\n",
        "  val_accuracy=[]\n",
        "  for i in range(epoch_size):\n",
        "    wgrad=[]\n",
        "    bgrad=[]\n",
        "    bs=0\n",
        "    for j in range(0,samples):\n",
        "      bs+=1\n",
        "      h,a,y=forward_prop(w,b,j,config)\n",
        "      wdash,bdash=backward_prop(h,a,y,j,config,w,b)\n",
        "      wgrad.append(wdash)\n",
        "      bgrad.append(bdash)\n",
        "      if bs%batch_size==0:\n",
        "        vw=np.add(beta*np.array(vw),(1-beta)*np.square(np.sum(wgrad,axis=0)))\n",
        "        vb=np.add(beta*np.array(vb),(1-beta)*np.square(np.sum(bgrad,axis=0)))\n",
        "        w = np.subtract(w, np.multiply(np.divide(eta, np.add(vw,epsilon)), np.sum(wgrad,axis=0)))\n",
        "        b = np.subtract(b, np.multiply(np.divide(eta, np.add(vb,epsilon)), np.sum(bgrad,axis=0)))\n",
        "        wgrad.clear()\n",
        "        bgrad.clear()\n",
        "    error.append(cross_entropy(w,b,config))\n",
        "    val_error.append(val_cross_entropy(w,b,config))\n",
        "    accuracy.append(get_accuracy(w,b,config))\n",
        "    val_accuracy.append(get_val_accuracy(w,b,config))\n",
        "  return w,b,error,val_error,accuracy,val_accuracy"
      ],
      "execution_count": null,
      "outputs": []
    },
    {
      "cell_type": "markdown",
      "metadata": {
        "id": "SuGcdhF-lMnK"
      },
      "source": [
        "### Adam Gradient Descent"
      ]
    },
    {
      "cell_type": "code",
      "metadata": {
        "id": "qmG4hWUjlMyF"
      },
      "source": [
        "def Adam(config):\n",
        "  layers=config.no_of_hidden_layers+1\n",
        "  epoch=config.epochs\n",
        "  eta=config.learning_rate\n",
        "  beta1=0.9\n",
        "  beta2=0.999\n",
        "  epsilon=0.00000001\n",
        "  batch_size=config.batch_size\n",
        "  #s=len(x_train)-6000\n",
        "  \n",
        "  neurons, w, b = init_w_and_b(config)\n",
        "\n",
        "  mw=[]\n",
        "  vw=[]\n",
        "  for i in range(1,layers+1):\n",
        "    wx=np.zeros((neurons[i],neurons[i-1]))\n",
        "    mw.append(wx)\n",
        "    vw.append(wx)\n",
        "  \n",
        "  mb=[]\n",
        "  vb=[]\n",
        "  error=[]\n",
        "  val_error=[]\n",
        "  accuracy=[]\n",
        "  val_accuracy=[]\n",
        "  for i in range(1,layers+1):\n",
        "    bx=np.zeros(neurons[i])\n",
        "    mb.append(bx)\n",
        "    vb.append(bx)\n",
        "\n",
        "\n",
        "  for i in range(0,epoch):\n",
        "    wgrad=[]\n",
        "    bgrad=[]\n",
        "    bs=0\n",
        "    for j in range(0,samples):\n",
        "      bs+=1\n",
        "      h,a,y=forward_prop(w,b,j,config)\n",
        "      wdash,bdash=backward_prop(h,a,y,j,config,w,b)\n",
        "      wgrad.append(wdash)\n",
        "      bgrad.append(bdash)\n",
        "      if bs%batch_size==0:\n",
        "        mw = np.add(beta1*np.array(mw), (1-beta1)*np.sum(wgrad,axis=0))\n",
        "        mb = np.add(beta1*np.array(mb), (1-beta1)*np.sum(bgrad,axis=0))\n",
        "\n",
        "        vw = np.add(beta2*np.array(vw), (1-beta2)*np.square(np.sum(wgrad,axis=0)))\n",
        "        vb = np.add(beta2*np.array(vb), (1-beta2)*np.square(np.sum(bgrad,axis=0)))\n",
        "\n",
        "        m_w_hat = np.divide(mw, (1-(beta1**(bs/batch_size))))\n",
        "        m_b_hat = np.divide(mb, (1-(beta1**(bs/batch_size))))\n",
        "\n",
        "        v_w_hat = np.divide(vw, (1-(beta2**(bs/batch_size))))\n",
        "        v_b_hat = np.divide(vb, (1-(beta2**(bs/batch_size))))\n",
        "\n",
        "        w = np.subtract(w, np.multiply(np.divide(eta, np.add(v_w_hat,epsilon)), m_w_hat))\n",
        "        b = np.subtract(b, np.multiply(np.divide(eta, np.add(v_b_hat,epsilon)), m_b_hat))\n",
        "\n",
        "        wgrad.clear()\n",
        "        bgrad.clear()\n",
        "    error.append(cross_entropy(w,b,config))\n",
        "    val_error.append(val_cross_entropy(w,b,config))\n",
        "    accuracy.append(get_accuracy(w,b,config))\n",
        "    val_accuracy.append(get_val_accuracy(w,b,config))\n",
        "  return w,b,error,val_error,accuracy,val_accuracy"
      ],
      "execution_count": null,
      "outputs": []
    },
    {
      "cell_type": "markdown",
      "metadata": {
        "id": "D-ZKwK6dldyJ"
      },
      "source": [
        "### Nadam Gradient Descent"
      ]
    },
    {
      "cell_type": "code",
      "metadata": {
        "id": "fAobQNdnld9D"
      },
      "source": [
        "def NADAM(config):\n",
        "\n",
        "  layers=config.no_of_hidden_layers+1\n",
        "  epoch=config.epochs\n",
        "  eta=config.learning_rate\n",
        "  beta1=0.9\n",
        "  beta2=0.999\n",
        "  epsilon=0.00000001\n",
        "  batch_size=config.batch_size\n",
        "  #s=len(x_train)-6000\n",
        "  \n",
        "  neurons, w, b = init_w_and_b(config)\n",
        "\n",
        "  mw=[]\n",
        "  vw=[]\n",
        "  for i in range(1,layers+1):\n",
        "    wx=np.zeros((neurons[i],neurons[i-1]))\n",
        "    mw.append(wx)\n",
        "    vw.append(wx)\n",
        "\n",
        "  mb=[]\n",
        "  vb=[]\n",
        "  for i in range(1,layers+1):\n",
        "    bx=np.zeros(neurons[i])\n",
        "    mb.append(bx)\n",
        "    vb.append(bx)\n",
        "  \n",
        "  error=[]\n",
        "  val_error=[]\n",
        "  accuracy=[]\n",
        "  val_accuracy=[]\n",
        "  for i in range(0,epoch):\n",
        "    wgrad=[]\n",
        "    bgrad=[]\n",
        "    w_la=np.subtract(w,beta1*np.array(mw))\n",
        "    b_la=np.subtract(b,beta1*np.array(mb))\n",
        "    bs=0\n",
        "    for j in range(0,samples):\n",
        "      bs+=1\n",
        "      h,a,y=forward_prop(w_la,b_la,j,config)\n",
        "      wdash,bdash=backward_prop(h,a,y,j,config,w_la,b_la)\n",
        "      wgrad.append(wdash)\n",
        "      bgrad.append(bdash)\n",
        "      if bs%batch_size==0:\n",
        "        mw = np.add((beta1*np.array(mw)), ((1-beta1)*np.sum(wgrad,axis=0)))\n",
        "        mb = np.add((beta1*np.array(mb)), ((1-beta1)*np.sum(bgrad,axis=0)))\n",
        "\n",
        "        vw = np.add(beta2*np.array(vw), (1-beta2)*np.square(np.sum(wgrad,axis=0)))\n",
        "        vb = np.add(beta2*np.array(vb), (1-beta2)*np.square(np.sum(bgrad,axis=0)))\n",
        "\n",
        "        m_w_hat = np.divide(mw, (1-(beta1**(bs/batch_size))))\n",
        "        m_b_hat = np.divide(mb, (1-(beta1**(bs/batch_size))))\n",
        "\n",
        "        v_w_hat = np.divide(vw, (1-(beta2**(bs/batch_size))))\n",
        "        v_b_hat = np.divide(vb, (1-(beta2**(bs/batch_size))))\n",
        "\n",
        "        w = np.subtract(w, np.multiply(np.divide(eta, np.add(v_w_hat,epsilon)), m_w_hat))\n",
        "        b = np.subtract(b, np.multiply(np.divide(eta, np.add(v_b_hat,epsilon)), m_b_hat))\n",
        "\n",
        "        w_la=np.subtract(w,beta1*np.array(mw))\n",
        "        b_la=np.subtract(b,beta1*np.array(mb))\n",
        "\n",
        "        wgrad.clear()\n",
        "        bgrad.clear()\n",
        "    error.append(cross_entropy(w,b,config))\n",
        "    val_error.append(val_cross_entropy(w,b,config))\n",
        "    accuracy.append(get_accuracy(w,b,config))\n",
        "    val_accuracy.append(get_val_accuracy(w,b,config))\n",
        "  return w,b,error,val_error,accuracy,val_accuracy "
      ],
      "execution_count": null,
      "outputs": []
    },
    {
      "cell_type": "code",
      "metadata": {
        "id": "xvtA2qbChHW2"
      },
      "source": [
        "# The sweep calls this function with each set of hyperparameters\n",
        "def train():\n",
        "  # Default values for hyper-parameters we're going to sweep over\n",
        "    config_defaults = {\n",
        "        'epochs': 5,\n",
        "        'batch_size': 128,\n",
        "        'no_of_hidden_layers': 3,\n",
        "        # 'weight_decay': 0.0005,\n",
        "        'hidden_layer_size' : 32,\n",
        "        'learning_rate': 1e-3,\n",
        "        'activation': 'sigmoid',\n",
        "        'optimizer': 'sgd',\n",
        "        'weight_initialisation':'random',\n",
        "        'weight_decay':0,\n",
        "        'gamma':0.9\n",
        "    }\n",
        "    # Initialize a new wandb run\n",
        "    wandb.init(config=config_defaults)\n",
        "    \n",
        "    # Config is a variable that holds and saves hyperparameters and inputs\n",
        "    # config = wandb.config\n",
        "    if wandb.config.optimizer == 'gd':\n",
        "      w,b,error,val_error,accuracy,val_accuracy = gradient_descent(wandb.config)\n",
        "      \n",
        "    elif wandb.config.optimizer == 'sgd':\n",
        "      w,b,error,val_error,accuracy,val_accuracy = stocastic_gd(wandb.config)\n",
        "     \n",
        "    elif wandb.config.optimizer == 'momentum':\n",
        "      w,b,error,val_error,accuracy,val_accuracy = momentum_gd(wandb.config)\n",
        "      \n",
        "    elif wandb.config.optimizer == 'nesterov':\n",
        "      w,b,error,val_error,accuracy,val_accuracy = Nesterov_gd(wandb.config)\n",
        "\n",
        "    elif wandb.config.optimizer == 'rmsprop':\n",
        "      w,b,error,val_error,accuracy,val_accuracy = RMS_prop(wandb.config)\n",
        "     \n",
        "    elif wandb.config.optimizer == 'nadam':\n",
        "      w,b,error,val_error,accuracy,val_accuracy = NADAM(wandb.config)\n",
        "      \n",
        "    elif wandb.config.optimizer == 'adam':\n",
        "      w,b,error,val_error,accuracy,val_accuracy = Adam(wandb.config)\n",
        "\n",
        "    print(\"error :\",error)\n",
        "    print(\"val_error :\",val_error)\n",
        "    print(\"accuracy :\",accuracy)\n",
        "    print(\"val_accuracy :\",val_accuracy)\n",
        "    \n",
        "    for i in range(wandb.config.epochs):\n",
        "      wandb.log({'val_loss' : val_error[i], 'val_accuracy': val_accuracy[i],'loss' : error[i], 'accuracy': accuracy[i], 'epoch': i})\n",
        "    \n",
        "    # y_val_predict = []\n",
        "    # for i in range(len(Y_val)):\n",
        "    #   y_val_predict.append(predict(w,b,X_val[i].reshape(784),wandb.config))\n",
        "    # # print(y_val_predict)\n",
        "    # y_val_probs = [0 for _ in range(0,10)]\n",
        "    # for i in range(len(Y_val)):\n",
        "    #   y_val_probs[y_val_predict[i]] +=1\n",
        "    # np.divide(y_val_probs,len(Y_val))\n",
        "    # # print(y_val_probs) \n",
        "\n",
        "    # wandb.log({\"conf_mat\" : wandb.sklearn.plot_confusion_matrix(Y_val, y_val_probs, labels)})\n",
        "\n",
        "    \n",
        "    #error=cross_entropy(w,b,wandb.config)\n",
        "    #wandb.log()\n",
        "    # print(w)\n",
        "    # print(b)\n",
        "    # wandb.finish()"
      ],
      "execution_count": null,
      "outputs": []
    },
    {
      "cell_type": "code",
      "metadata": {
        "colab": {
          "base_uri": "https://localhost:8080/",
          "height": 1000,
          "referenced_widgets": [
            "12e4d647595e48a69e96c564baa8ab0c",
            "ada3d7522b61465abfb390fb5f0ae804",
            "0308be8c3cb2449f93a01eeead191d92",
            "fb679f1b1f2e4d6ca6bc947a4a679190",
            "d0b5e6c88961459bb28d6b54dc4d3379",
            "4da7cc653ccc497195b12e6bb8fb4814",
            "a1f21d2ee4764a649277b63ab991dd9a",
            "1e151fa6e9e546f9aba031a7ff2cd763"
          ]
        },
        "id": "bmDX-pvihHW3",
        "outputId": "7bf0bbcf-ef51-4f18-d0ac-adbf1d790188"
      },
      "source": [
        "wandb.agent(sweep_id, train)"
      ],
      "execution_count": null,
      "outputs": [
        {
          "output_type": "stream",
          "text": [
            "\u001b[34m\u001b[1mwandb\u001b[0m: \u001b[33mWARNING\u001b[0m Calling wandb.login() after wandb.init() has no effect.\n",
            "\u001b[34m\u001b[1mwandb\u001b[0m: Agent Starting Run: 5ny42xaa with config:\n",
            "\u001b[34m\u001b[1mwandb\u001b[0m: \tactivation: sigmoid\n",
            "\u001b[34m\u001b[1mwandb\u001b[0m: \tbatch_size: 16\n",
            "\u001b[34m\u001b[1mwandb\u001b[0m: \tepochs: 5\n",
            "\u001b[34m\u001b[1mwandb\u001b[0m: \thidden_layer_size: 128\n",
            "\u001b[34m\u001b[1mwandb\u001b[0m: \tlearning_rate: 0.001\n",
            "\u001b[34m\u001b[1mwandb\u001b[0m: \tno_of_hidden_layers: 5\n",
            "\u001b[34m\u001b[1mwandb\u001b[0m: \toptimizer: adam\n",
            "\u001b[34m\u001b[1mwandb\u001b[0m: \tweight_decay: 0\n",
            "\u001b[34m\u001b[1mwandb\u001b[0m: \tweight_initialisation: random\n"
          ],
          "name": "stderr"
        },
        {
          "output_type": "display_data",
          "data": {
            "text/html": [
              "\n",
              "                Tracking run with wandb version 0.10.22<br/>\n",
              "                Syncing run <strong style=\"color:#cdcd00\">swept-sweep-1</strong> to <a href=\"https://wandb.ai\" target=\"_blank\">Weights & Biases</a> <a href=\"https://docs.wandb.com/integrations/jupyter.html\" target=\"_blank\">(Documentation)</a>.<br/>\n",
              "                Project page: <a href=\"https://wandb.ai/piyushac123/Feed_Forward_Neural_Network_modules\" target=\"_blank\">https://wandb.ai/piyushac123/Feed_Forward_Neural_Network_modules</a><br/>\n",
              "                Sweep page: <a href=\"https://wandb.ai/piyushac123/Feed_Forward_Neural_Network_modules/sweeps/k9bepg6m\" target=\"_blank\">https://wandb.ai/piyushac123/Feed_Forward_Neural_Network_modules/sweeps/k9bepg6m</a><br/>\n",
              "Run page: <a href=\"https://wandb.ai/piyushac123/Feed_Forward_Neural_Network_modules/runs/5ny42xaa\" target=\"_blank\">https://wandb.ai/piyushac123/Feed_Forward_Neural_Network_modules/runs/5ny42xaa</a><br/>\n",
              "                Run data is saved locally in <code>/content/wandb/run-20210314_073038-5ny42xaa</code><br/><br/>\n",
              "            "
            ],
            "text/plain": [
              "<IPython.core.display.HTML object>"
            ]
          },
          "metadata": {
            "tags": []
          }
        },
        {
          "output_type": "stream",
          "text": [
            "/usr/local/lib/python3.7/dist-packages/ipykernel_launcher.py:43: VisibleDeprecationWarning: Creating an ndarray from ragged nested sequences (which is a list-or-tuple of lists-or-tuples-or ndarrays with different lengths or shapes) is deprecated. If you meant to do this, you must specify 'dtype=object' when creating the ndarray\n",
            "/usr/local/lib/python3.7/dist-packages/numpy/core/fromnumeric.py:87: VisibleDeprecationWarning: Creating an ndarray from ragged nested sequences (which is a list-or-tuple of lists-or-tuples-or ndarrays with different lengths or shapes) is deprecated. If you meant to do this, you must specify 'dtype=object' when creating the ndarray\n",
            "  return ufunc.reduce(obj, axis, dtype, out, **passkwargs)\n",
            "/usr/local/lib/python3.7/dist-packages/ipykernel_launcher.py:44: VisibleDeprecationWarning: Creating an ndarray from ragged nested sequences (which is a list-or-tuple of lists-or-tuples-or ndarrays with different lengths or shapes) is deprecated. If you meant to do this, you must specify 'dtype=object' when creating the ndarray\n",
            "/usr/local/lib/python3.7/dist-packages/ipykernel_launcher.py:46: VisibleDeprecationWarning: Creating an ndarray from ragged nested sequences (which is a list-or-tuple of lists-or-tuples-or ndarrays with different lengths or shapes) is deprecated. If you meant to do this, you must specify 'dtype=object' when creating the ndarray\n",
            "/usr/local/lib/python3.7/dist-packages/ipykernel_launcher.py:47: VisibleDeprecationWarning: Creating an ndarray from ragged nested sequences (which is a list-or-tuple of lists-or-tuples-or ndarrays with different lengths or shapes) is deprecated. If you meant to do this, you must specify 'dtype=object' when creating the ndarray\n",
            "/usr/local/lib/python3.7/dist-packages/ipykernel_launcher.py:55: VisibleDeprecationWarning: Creating an ndarray from ragged nested sequences (which is a list-or-tuple of lists-or-tuples-or ndarrays with different lengths or shapes) is deprecated. If you meant to do this, you must specify 'dtype=object' when creating the ndarray\n",
            "/usr/local/lib/python3.7/dist-packages/ipykernel_launcher.py:56: VisibleDeprecationWarning: Creating an ndarray from ragged nested sequences (which is a list-or-tuple of lists-or-tuples-or ndarrays with different lengths or shapes) is deprecated. If you meant to do this, you must specify 'dtype=object' when creating the ndarray\n"
          ],
          "name": "stderr"
        },
        {
          "output_type": "stream",
          "text": [
            "error : [6.950592553974823, 2.316731745276841, 2.3168577565581123, 2.316862727604938, 2.3168628673449625]\n",
            "val_error : [7.090001452645033, 2.3152604494070466, 2.3153113790502315, 2.31531337293079, 2.315313422480011]\n",
            "accuracy : [0.09996296296296296, 0.09996296296296296, 0.09996296296296296, 0.09996296296296296, 0.09996296296296296]\n",
            "val_accuracy : [0.10033333333333333, 0.10033333333333333, 0.10033333333333333, 0.10033333333333333, 0.10033333333333333]\n"
          ],
          "name": "stdout"
        },
        {
          "output_type": "display_data",
          "data": {
            "text/html": [
              "<br/>Waiting for W&B process to finish, PID 179<br/>Program ended successfully."
            ],
            "text/plain": [
              "<IPython.core.display.HTML object>"
            ]
          },
          "metadata": {
            "tags": []
          }
        },
        {
          "output_type": "display_data",
          "data": {
            "application/vnd.jupyter.widget-view+json": {
              "model_id": "12e4d647595e48a69e96c564baa8ab0c",
              "version_minor": 0,
              "version_major": 2
            },
            "text/plain": [
              "VBox(children=(Label(value=' 0.00MB of 0.00MB uploaded (0.00MB deduped)\\r'), FloatProgress(value=1.0, max=1.0)…"
            ]
          },
          "metadata": {
            "tags": []
          }
        },
        {
          "output_type": "display_data",
          "data": {
            "text/html": [
              "Find user logs for this run at: <code>/content/wandb/run-20210314_073038-5ny42xaa/logs/debug.log</code>"
            ],
            "text/plain": [
              "<IPython.core.display.HTML object>"
            ]
          },
          "metadata": {
            "tags": []
          }
        },
        {
          "output_type": "display_data",
          "data": {
            "text/html": [
              "Find internal logs for this run at: <code>/content/wandb/run-20210314_073038-5ny42xaa/logs/debug-internal.log</code>"
            ],
            "text/plain": [
              "<IPython.core.display.HTML object>"
            ]
          },
          "metadata": {
            "tags": []
          }
        },
        {
          "output_type": "display_data",
          "data": {
            "text/html": [
              "<h3>Run summary:</h3><br/><style>\n",
              "    table.wandb td:nth-child(1) { padding: 0 10px; text-align: right }\n",
              "    </style><table class=\"wandb\">\n",
              "<tr><td>val_loss</td><td>2.31531</td></tr><tr><td>val_accuracy</td><td>0.10033</td></tr><tr><td>loss</td><td>2.31686</td></tr><tr><td>accuracy</td><td>0.09996</td></tr><tr><td>epoch</td><td>4</td></tr><tr><td>_runtime</td><td>638</td></tr><tr><td>_timestamp</td><td>1615707676</td></tr><tr><td>_step</td><td>4</td></tr></table>"
            ],
            "text/plain": [
              "<IPython.core.display.HTML object>"
            ]
          },
          "metadata": {
            "tags": []
          }
        },
        {
          "output_type": "display_data",
          "data": {
            "text/html": [
              "<h3>Run history:</h3><br/><style>\n",
              "    table.wandb td:nth-child(1) { padding: 0 10px; text-align: right }\n",
              "    </style><table class=\"wandb\">\n",
              "<tr><td>val_loss</td><td>█▁▁▁▁</td></tr><tr><td>val_accuracy</td><td>▁▁▁▁▁</td></tr><tr><td>loss</td><td>█▁▁▁▁</td></tr><tr><td>accuracy</td><td>▁▁▁▁▁</td></tr><tr><td>epoch</td><td>▁▃▅▆█</td></tr><tr><td>_runtime</td><td>▁▁▁▁▁</td></tr><tr><td>_timestamp</td><td>▁▁▁▁▁</td></tr><tr><td>_step</td><td>▁▃▅▆█</td></tr></table><br/>"
            ],
            "text/plain": [
              "<IPython.core.display.HTML object>"
            ]
          },
          "metadata": {
            "tags": []
          }
        },
        {
          "output_type": "display_data",
          "data": {
            "text/html": [
              "Synced 5 W&B file(s), 0 media file(s), 0 artifact file(s) and 0 other file(s)"
            ],
            "text/plain": [
              "<IPython.core.display.HTML object>"
            ]
          },
          "metadata": {
            "tags": []
          }
        },
        {
          "output_type": "display_data",
          "data": {
            "text/html": [
              "\n",
              "                    <br/>Synced <strong style=\"color:#cdcd00\">swept-sweep-1</strong>: <a href=\"https://wandb.ai/piyushac123/Feed_Forward_Neural_Network_modules/runs/5ny42xaa\" target=\"_blank\">https://wandb.ai/piyushac123/Feed_Forward_Neural_Network_modules/runs/5ny42xaa</a><br/>\n",
              "                "
            ],
            "text/plain": [
              "<IPython.core.display.HTML object>"
            ]
          },
          "metadata": {
            "tags": []
          }
        },
        {
          "output_type": "stream",
          "text": [
            "\u001b[34m\u001b[1mwandb\u001b[0m: Agent Starting Run: a927idx6 with config:\n",
            "\u001b[34m\u001b[1mwandb\u001b[0m: \tactivation: ReLu\n",
            "\u001b[34m\u001b[1mwandb\u001b[0m: \tbatch_size: 64\n",
            "\u001b[34m\u001b[1mwandb\u001b[0m: \tepochs: 5\n",
            "\u001b[34m\u001b[1mwandb\u001b[0m: \thidden_layer_size: 128\n",
            "\u001b[34m\u001b[1mwandb\u001b[0m: \tlearning_rate: 0.0001\n",
            "\u001b[34m\u001b[1mwandb\u001b[0m: \tno_of_hidden_layers: 5\n",
            "\u001b[34m\u001b[1mwandb\u001b[0m: \toptimizer: momentum\n",
            "\u001b[34m\u001b[1mwandb\u001b[0m: \tweight_decay: 0.0005\n",
            "\u001b[34m\u001b[1mwandb\u001b[0m: \tweight_initialisation: random\n",
            "\u001b[34m\u001b[1mwandb\u001b[0m: Currently logged in as: \u001b[33mpiyushac123\u001b[0m (use `wandb login --relogin` to force relogin)\n"
          ],
          "name": "stderr"
        },
        {
          "output_type": "display_data",
          "data": {
            "text/html": [
              "\n",
              "                Tracking run with wandb version 0.10.22<br/>\n",
              "                Syncing run <strong style=\"color:#cdcd00\">morning-sweep-2</strong> to <a href=\"https://wandb.ai\" target=\"_blank\">Weights & Biases</a> <a href=\"https://docs.wandb.com/integrations/jupyter.html\" target=\"_blank\">(Documentation)</a>.<br/>\n",
              "                Project page: <a href=\"https://wandb.ai/piyushac123/Feed_Forward_Neural_Network_modules\" target=\"_blank\">https://wandb.ai/piyushac123/Feed_Forward_Neural_Network_modules</a><br/>\n",
              "                Sweep page: <a href=\"https://wandb.ai/piyushac123/Feed_Forward_Neural_Network_modules/sweeps/k9bepg6m\" target=\"_blank\">https://wandb.ai/piyushac123/Feed_Forward_Neural_Network_modules/sweeps/k9bepg6m</a><br/>\n",
              "Run page: <a href=\"https://wandb.ai/piyushac123/Feed_Forward_Neural_Network_modules/runs/a927idx6\" target=\"_blank\">https://wandb.ai/piyushac123/Feed_Forward_Neural_Network_modules/runs/a927idx6</a><br/>\n",
              "                Run data is saved locally in <code>/content/wandb/run-20210314_074121-a927idx6</code><br/><br/>\n",
              "            "
            ],
            "text/plain": [
              "<IPython.core.display.HTML object>"
            ]
          },
          "metadata": {
            "tags": []
          }
        },
        {
          "output_type": "stream",
          "text": [
            "/usr/local/lib/python3.7/dist-packages/ipykernel_launcher.py:2: RuntimeWarning: overflow encountered in exp\n",
            "  \n",
            "/usr/local/lib/python3.7/dist-packages/ipykernel_launcher.py:2: RuntimeWarning: invalid value encountered in true_divide\n",
            "  \n",
            "/usr/local/lib/python3.7/dist-packages/ipykernel_launcher.py:36: VisibleDeprecationWarning: Creating an ndarray from ragged nested sequences (which is a list-or-tuple of lists-or-tuples-or ndarrays with different lengths or shapes) is deprecated. If you meant to do this, you must specify 'dtype=object' when creating the ndarray\n",
            "/usr/local/lib/python3.7/dist-packages/ipykernel_launcher.py:37: VisibleDeprecationWarning: Creating an ndarray from ragged nested sequences (which is a list-or-tuple of lists-or-tuples-or ndarrays with different lengths or shapes) is deprecated. If you meant to do this, you must specify 'dtype=object' when creating the ndarray\n",
            "/usr/local/lib/python3.7/dist-packages/ipykernel_launcher.py:38: VisibleDeprecationWarning: Creating an ndarray from ragged nested sequences (which is a list-or-tuple of lists-or-tuples-or ndarrays with different lengths or shapes) is deprecated. If you meant to do this, you must specify 'dtype=object' when creating the ndarray\n",
            "/usr/local/lib/python3.7/dist-packages/ipykernel_launcher.py:39: VisibleDeprecationWarning: Creating an ndarray from ragged nested sequences (which is a list-or-tuple of lists-or-tuples-or ndarrays with different lengths or shapes) is deprecated. If you meant to do this, you must specify 'dtype=object' when creating the ndarray\n"
          ],
          "name": "stderr"
        }
      ]
    }
  ]
}
