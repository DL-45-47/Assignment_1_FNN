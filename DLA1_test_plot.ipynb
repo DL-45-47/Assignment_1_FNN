{
  "nbformat": 4,
  "nbformat_minor": 0,
  "metadata": {
    "colab": {
      "name": "DLA1_test_plot.ipynb",
      "provenance": [],
      "collapsed_sections": []
    },
    "kernelspec": {
      "display_name": "Python 3",
      "language": "python",
      "name": "python3"
    },
    "language_info": {
      "codemirror_mode": {
        "name": "ipython",
        "version": 3
      },
      "file_extension": ".py",
      "mimetype": "text/x-python",
      "name": "python",
      "nbconvert_exporter": "python",
      "pygments_lexer": "ipython3",
      "version": "3.6.9"
    }
  },
  "cells": [
    {
      "cell_type": "code",
      "metadata": {
        "colab": {
          "base_uri": "https://localhost:8080/"
        },
        "id": "oJ1oNRg65Ofj",
        "outputId": "11a85e87-1ef3-480e-f594-ddadfad541c7"
      },
      "source": [
        "! pip install wandb"
      ],
      "execution_count": 61,
      "outputs": [
        {
          "output_type": "stream",
          "text": [
            "Requirement already satisfied: wandb in /usr/local/lib/python3.7/dist-packages (0.10.22)\n",
            "Requirement already satisfied: configparser>=3.8.1 in /usr/local/lib/python3.7/dist-packages (from wandb) (5.0.2)\n",
            "Requirement already satisfied: protobuf>=3.12.0 in /usr/local/lib/python3.7/dist-packages (from wandb) (3.12.4)\n",
            "Requirement already satisfied: six>=1.13.0 in /usr/local/lib/python3.7/dist-packages (from wandb) (1.15.0)\n",
            "Requirement already satisfied: requests<3,>=2.0.0 in /usr/local/lib/python3.7/dist-packages (from wandb) (2.23.0)\n",
            "Requirement already satisfied: psutil>=5.0.0 in /usr/local/lib/python3.7/dist-packages (from wandb) (5.4.8)\n",
            "Requirement already satisfied: pathtools in /usr/local/lib/python3.7/dist-packages (from wandb) (0.1.2)\n",
            "Requirement already satisfied: GitPython>=1.0.0 in /usr/local/lib/python3.7/dist-packages (from wandb) (3.1.14)\n",
            "Requirement already satisfied: shortuuid>=0.5.0 in /usr/local/lib/python3.7/dist-packages (from wandb) (1.0.1)\n",
            "Requirement already satisfied: PyYAML in /usr/local/lib/python3.7/dist-packages (from wandb) (3.13)\n",
            "Requirement already satisfied: docker-pycreds>=0.4.0 in /usr/local/lib/python3.7/dist-packages (from wandb) (0.4.0)\n",
            "Requirement already satisfied: Click>=7.0 in /usr/local/lib/python3.7/dist-packages (from wandb) (7.1.2)\n",
            "Requirement already satisfied: promise<3,>=2.0 in /usr/local/lib/python3.7/dist-packages (from wandb) (2.3)\n",
            "Requirement already satisfied: sentry-sdk>=0.4.0 in /usr/local/lib/python3.7/dist-packages (from wandb) (1.0.0)\n",
            "Requirement already satisfied: subprocess32>=3.5.3 in /usr/local/lib/python3.7/dist-packages (from wandb) (3.5.4)\n",
            "Requirement already satisfied: python-dateutil>=2.6.1 in /usr/local/lib/python3.7/dist-packages (from wandb) (2.8.1)\n",
            "Requirement already satisfied: setuptools in /usr/local/lib/python3.7/dist-packages (from protobuf>=3.12.0->wandb) (54.0.0)\n",
            "Requirement already satisfied: idna<3,>=2.5 in /usr/local/lib/python3.7/dist-packages (from requests<3,>=2.0.0->wandb) (2.10)\n",
            "Requirement already satisfied: certifi>=2017.4.17 in /usr/local/lib/python3.7/dist-packages (from requests<3,>=2.0.0->wandb) (2020.12.5)\n",
            "Requirement already satisfied: urllib3!=1.25.0,!=1.25.1,<1.26,>=1.21.1 in /usr/local/lib/python3.7/dist-packages (from requests<3,>=2.0.0->wandb) (1.24.3)\n",
            "Requirement already satisfied: chardet<4,>=3.0.2 in /usr/local/lib/python3.7/dist-packages (from requests<3,>=2.0.0->wandb) (3.0.4)\n",
            "Requirement already satisfied: gitdb<5,>=4.0.1 in /usr/local/lib/python3.7/dist-packages (from GitPython>=1.0.0->wandb) (4.0.5)\n",
            "Requirement already satisfied: smmap<4,>=3.0.1 in /usr/local/lib/python3.7/dist-packages (from gitdb<5,>=4.0.1->GitPython>=1.0.0->wandb) (3.0.5)\n"
          ],
          "name": "stdout"
        }
      ]
    },
    {
      "cell_type": "code",
      "metadata": {
        "id": "66qWcgyaSfT5"
      },
      "source": [
        "import wandb\n",
        "import numpy as np\n",
        "import matplotlib.pyplot as plt\n",
        "from PIL import Image as im\n",
        "from keras.datasets import fashion_mnist\n",
        "import seaborn as sn\n",
        "import pandas as pd"
      ],
      "execution_count": 62,
      "outputs": []
    },
    {
      "cell_type": "code",
      "metadata": {
        "id": "B0FkxFl-SvNF"
      },
      "source": [
        "(x_train,y_train),(x_test,y_test)=fashion_mnist.load_data()"
      ],
      "execution_count": 63,
      "outputs": []
    },
    {
      "cell_type": "code",
      "metadata": {
        "id": "6cH3NDAAQ6Mv"
      },
      "source": [
        "# showed=np.zeros(10)\n",
        "# i=0\n",
        "# images=[]\n",
        "# classes=[]\n",
        "# while (0 in showed):\n",
        "#   i=np.random.randint(0,len(y_train))\n",
        "#   if showed[y_train[i]]==0:\n",
        "#     images.append(im.fromarray(x_train[i]))\n",
        "#     classes.append(y_train[i])\n",
        "#     showed[y_train[i]]=1\n",
        "#   i=i+1"
      ],
      "execution_count": 64,
      "outputs": []
    },
    {
      "cell_type": "code",
      "metadata": {
        "id": "cheAs9wMS9Xv"
      },
      "source": [
        "# plt.figure(figsize=(10, 10))\n",
        "# for i, image in enumerate(images):\n",
        "#   img=plt.subplot(3, 5,i+1)\n",
        "#   img.set_title(classes[i])\n",
        "#   plt.imshow(image,cmap='gray')"
      ],
      "execution_count": 65,
      "outputs": []
    },
    {
      "cell_type": "markdown",
      "metadata": {
        "id": "RuklG5oREOfe"
      },
      "source": [
        "## FeedForward Neural Network"
      ]
    },
    {
      "cell_type": "code",
      "metadata": {
        "colab": {
          "base_uri": "https://localhost:8080/"
        },
        "id": "dCp6wQS-5OgE",
        "outputId": "aff326e5-93af-4312-e368-d1923c16d439"
      },
      "source": [
        "samples=int(len(x_train)-0.1*len(x_train))\n",
        "X_train=x_train[0:samples]\n",
        "Y_train=y_train[0:samples]\n",
        "X_val=x_train[samples:len(x_train)]\n",
        "Y_val=y_train[samples:len(x_train)]\n",
        "print(X_train.shape,X_val.shape)"
      ],
      "execution_count": 66,
      "outputs": [
        {
          "output_type": "stream",
          "text": [
            "(54000, 28, 28) (6000, 28, 28)\n"
          ],
          "name": "stdout"
        }
      ]
    },
    {
      "cell_type": "code",
      "metadata": {
        "id": "L4Vm-FdF7u6F"
      },
      "source": [
        "  epoch=5\n",
        "  layers=3\n",
        "  hid_size=64\n",
        "  eta=1e-4\n",
        "  batch_size=128\n",
        "  wt_init = 'Xavier'\n",
        "  act = 'ReLu'\n",
        "  wt_decay = 0"
      ],
      "execution_count": 67,
      "outputs": []
    },
    {
      "cell_type": "code",
      "metadata": {
        "id": "kEyCF9RZ5OgR"
      },
      "source": [
        "# sweep_id = wandb.sweep(sweep_config, entity=\"piyushac123\", project=\"Feed_Forward_Neural_Network_modules\")"
      ],
      "execution_count": 68,
      "outputs": []
    },
    {
      "cell_type": "code",
      "metadata": {
        "id": "dKtC5XVY5OgR"
      },
      "source": [
        "def init_w_and_b():\n",
        "  # print('b')\n",
        "  neurons=[len(X_train[0].reshape(784))]\n",
        "  for i in range(1,layers): neurons.append(hid_size)\n",
        "  neurons.append(10)\n",
        "  #print(neurons)\n",
        "  w=[]\n",
        "  b=[]\n",
        "  if(wt_init== 'random'):\n",
        "    for i in range(1,layers+1):\n",
        "      wx=np.random.rand(neurons[i],neurons[i-1])\n",
        "      w.append(wx)\n",
        "    for i in range(1,layers+1):\n",
        "      bx=np.random.rand(neurons[i])\n",
        "      b.append(bx)\n",
        "\n",
        "  if(wt_init== 'Xavier'):\n",
        "    var=2/(neurons[0]+neurons[layers])\n",
        "    mu=0\n",
        "    for i in range(1,layers+1):\n",
        "      wx=np.random.normal(mu,var,(neurons[i],neurons[i-1]))\n",
        "      w.append(wx)\n",
        "    for i in range(1,layers+1):\n",
        "      bx=np.random.normal(mu,var,neurons[i])\n",
        "      b.append(bx)\n",
        "  \n",
        "  return neurons, w, b"
      ],
      "execution_count": 69,
      "outputs": []
    },
    {
      "cell_type": "code",
      "metadata": {
        "id": "1knajtTN5OgS"
      },
      "source": [
        "def activation_func(a1, choice):\n",
        "    if(choice == 'sigmoid'):\n",
        "      return (1/(1+np.exp(-a1)))\n",
        "    if(choice=='tanh'):\n",
        "      return (2/(1+np.exp(-2*a1))-1)\n",
        "    if(choice=='ReLu'):\n",
        "      return np.multiply(1*(a1>=0),a1)"
      ],
      "execution_count": 70,
      "outputs": []
    },
    {
      "cell_type": "code",
      "metadata": {
        "id": "RH7W_xL15OgT"
      },
      "source": [
        "def activation_func_derivative(a,choice):\n",
        "  if(choice == 'sigmoid'):\n",
        "      return activation_func(a,choice)*(1-activation_func(a,choice))\n",
        "  if(choice=='tanh'):\n",
        "    return 1-np.square(activation_func(a,choice))\n",
        "  if(choice=='ReLu'):\n",
        "    return 1*(a>=0)"
      ],
      "execution_count": 71,
      "outputs": []
    },
    {
      "cell_type": "code",
      "metadata": {
        "id": "Y6MPaTgQ5OgU"
      },
      "source": [
        "def get_test_accuracy(w,b):\n",
        "  match=0\n",
        "  for i in range(len(y_test)):\n",
        "    yhat=predict(w,b,x_test[i].reshape(784))\n",
        "    if(np.argmax(yhat)==y_test[i]):\n",
        "      match+=1\n",
        "  return match/len(y_test)"
      ],
      "execution_count": 72,
      "outputs": []
    },
    {
      "cell_type": "code",
      "metadata": {
        "id": "P9IiffgLAaKY"
      },
      "source": [
        "def get_val_accuracy(w,b):\n",
        "  match=0\n",
        "  for i in range(len(Y_val)):\n",
        "    yhat=predict(w,b,X_val[i].reshape(784))\n",
        "    if(np.argmax(yhat)==Y_val[i]):\n",
        "      match+=1\n",
        "  return match/len(Y_val)"
      ],
      "execution_count": 73,
      "outputs": []
    },
    {
      "cell_type": "code",
      "metadata": {
        "id": "RHaYMdH15OgU"
      },
      "source": [
        "def get_accuracy(w,b):\n",
        "  match=0\n",
        "  for i in range(len(Y_train)):\n",
        "    yhat=predict(w,b,X_train[i].reshape(784))\n",
        "    if(np.argmax(yhat)==Y_train[i]):\n",
        "      match+=1\n",
        "  return match/len(Y_train)"
      ],
      "execution_count": 74,
      "outputs": []
    },
    {
      "cell_type": "code",
      "metadata": {
        "id": "M2ymb27g5OgW"
      },
      "source": [
        "def val_cross_entropy(w,b):\n",
        "  err=0\n",
        "  for i in range(len(Y_val)):\n",
        "    yhat=predict(w,b,X_val[i].reshape(784))\n",
        "    err+=-np.log(yhat[Y_val[i]])\n",
        "  l2norm=0\n",
        "  for i in range(len(w)):\n",
        "    l2norm+=np.linalg.norm(w[i])\n",
        "\n",
        "  return err/len(Y_val)+l2norm*wt_decay/(2*len(Y_val))"
      ],
      "execution_count": 75,
      "outputs": []
    },
    {
      "cell_type": "code",
      "metadata": {
        "id": "5CaF0wWm5OgX"
      },
      "source": [
        "def cross_entropy(w,b):\n",
        "  err=0\n",
        "  for i in range(len(Y_train)):\n",
        "    yhat=predict(w,b,X_train[i].reshape(784))\n",
        "    err+=-np.log(yhat[Y_train[i]])\n",
        "  l2norm=0\n",
        "  for i in range(len(w)):\n",
        "    l2norm+=np.linalg.norm(w[i])\n",
        "\n",
        "  return err/len(Y_train)+l2norm*wt_decay/(2*len(Y_train))"
      ],
      "execution_count": 76,
      "outputs": []
    },
    {
      "cell_type": "code",
      "metadata": {
        "id": "MUs2bozj5OgX"
      },
      "source": [
        "def predict(w,b,img):\n",
        "  a=b[0]+np.dot(w[0],img)\n",
        "  h=activation_func(a, act) \n",
        "\n",
        "  for i in range(1,layers-1):\n",
        "    a=b[i]+np.dot(w[i],h)\n",
        "    h=activation_func(a, act)   \n",
        "  lastLayer=b[layers-1]+np.dot(w[layers-1],h)\n",
        "  y=softmax(lastLayer)\n",
        "  return y"
      ],
      "execution_count": 77,
      "outputs": []
    },
    {
      "cell_type": "code",
      "metadata": {
        "id": "rZ_ohd-w5OgY"
      },
      "source": [
        "def softmax(a):\n",
        "  return np.exp(a)/sum(np.exp(a))"
      ],
      "execution_count": 78,
      "outputs": []
    },
    {
      "cell_type": "code",
      "metadata": {
        "id": "6UBZqdBKEN0N"
      },
      "source": [
        "def forward_prop(w,b,p):\n",
        "  # print('c')\n",
        "  h=[]\n",
        "  a=[]\n",
        "  a1=b[0]+np.dot(w[0],X_train[p].reshape(784))\n",
        "  a.append(a1)\n",
        "  h1 = activation_func(a1, act)\n",
        "  h.append(h1)\n",
        "  for i in range(1,layers-1):\n",
        "    a1=b[i]+np.dot(w[i],h[i-1])\n",
        "    a.append(a1)\n",
        "    h1=activation_func(a1, act) \n",
        "    h.append(h1)\n",
        "  a1=b[layers-1]+np.dot(w[layers-1],h[layers-2])######Repeat\n",
        "  a.append(a1)\n",
        "  y=softmax(a1)\n",
        "  return h,a,y"
      ],
      "execution_count": 79,
      "outputs": []
    },
    {
      "cell_type": "code",
      "metadata": {
        "id": "u6TncIKfEoAW"
      },
      "source": [
        "def backward_prop(h,a,y,p,w,b):\n",
        "  # print('e')\n",
        "  wdash=[]\n",
        "  bdash=[]\n",
        "  actualY=np.zeros(10)\n",
        "  actualY[Y_train[p]]=1\n",
        "  dela=y-actualY\n",
        "\n",
        "  for i in range(0,layers-1):\n",
        "    delw=np.outer(dela,h[layers-2-i])\n",
        "    wdash.append(delw)\n",
        "    bdash.append(dela)\n",
        "    delh=np.dot(w[layers-1-i].T,dela)\n",
        "    #g=(1/(1+np.exp(-a[layers-1-i-1])))   #chnge to actvatn derivative ???????????????????????\n",
        "    gdash=activation_func_derivative(a[layers-1-i-1],act)\n",
        "    dela=np.multiply(delh,gdash)\n",
        "  \n",
        "  delw=np.outer(dela,X_train[p])\n",
        "  wdash.append(delw)\n",
        "  bdash.append(dela)\n",
        "  wdash.reverse()\n",
        "  bdash.reverse()\n",
        "  return wdash,bdash\n"
      ],
      "execution_count": 80,
      "outputs": []
    },
    {
      "cell_type": "markdown",
      "metadata": {
        "id": "0w8DWU50iSON"
      },
      "source": [
        "### Stochastic Gradient Descent"
      ]
    },
    {
      "cell_type": "code",
      "metadata": {
        "id": "LUC_BpdzEr7o"
      },
      "source": [
        "def stocastic_gd():\n",
        "\n",
        "  neurons, w, b = init_w_and_b()\n",
        "\n",
        "  #s=len(x_train)\n",
        "  error=[]\n",
        "  val_error=[]\n",
        "  accuracy=[]\n",
        "  val_accuracy=[]\n",
        "  mse=[]\n",
        "  val_mse=[]\n",
        "  test_accuracy=[]\n",
        "  for i in range(0,epoch):\n",
        "    wgrad=[]\n",
        "    bgrad=[]\n",
        "    bs=0\n",
        "    for j in range(0,samples):\n",
        "      bs+=1\n",
        "      h,a,y=forward_prop(w,b,j)\n",
        "      wdash,bdash=backward_prop(h,a,y,j,w,b)\n",
        "      wgrad.append(wdash)\n",
        "      bgrad.append(bdash)\n",
        "      if bs%batch_size==0:\n",
        "        w=np.subtract(w,eta*np.sum(wgrad,axis=0))\n",
        "        b=np.subtract(b,eta*np.sum(bgrad,axis=0))\n",
        "        wgrad.clear()\n",
        "        bgrad.clear()\n",
        "    error.append(cross_entropy(w,b))\n",
        "    val_error.append(val_cross_entropy(w,b))\n",
        "    accuracy.append(get_accuracy(w,b))\n",
        "    val_accuracy.append(get_val_accuracy(w,b))\n",
        "    # mse.append(mean_squared_error(w,b))\n",
        "    # val_mse.append(val_mean_squared_error(w,b))\n",
        "    test_accuracy.append(get_test_accuracy(w,b))\n",
        "  return w,b,error,val_error,accuracy,val_accuracy,test_accuracy\n",
        "  # img_num=np.random.randint(0,len(y_test))\n",
        "  # y_hat=predict(w,b,x_test[img_num])\n",
        "  # print(\"probabilities of each class:\",y_hat)"
      ],
      "execution_count": 81,
      "outputs": []
    },
    {
      "cell_type": "code",
      "metadata": {
        "colab": {
          "base_uri": "https://localhost:8080/"
        },
        "id": "VEZ-Amj25Ogb",
        "outputId": "743b88b6-e903-4f9b-a6df-c8aefc411822"
      },
      "source": [
        "w,b,error,val_error,accuracy,val_accuracy,test_accuracy = stocastic_gd()\n",
        "print(\"error :\",error)\n",
        "print(\"val_error :\",val_error)\n",
        "print(\"accuracy :\",accuracy)\n",
        "print(\"val_accuracy :\",val_accuracy)\n",
        "print(\"test_accuracy :\",test_accuracy)\n",
        "\n",
        "    \n",
        "    #error=cross_entropy(w,b,wandb.config)\n",
        "    #wandb.log()\n",
        "    # print(w)\n",
        "    # print(b)\n",
        "    # wandb.finish()"
      ],
      "execution_count": 82,
      "outputs": [
        {
          "output_type": "stream",
          "text": [
            "/usr/local/lib/python3.7/dist-packages/numpy/core/fromnumeric.py:87: VisibleDeprecationWarning: Creating an ndarray from ragged nested sequences (which is a list-or-tuple of lists-or-tuples-or ndarrays with different lengths or shapes) is deprecated. If you meant to do this, you must specify 'dtype=object' when creating the ndarray\n",
            "  return ufunc.reduce(obj, axis, dtype, out, **passkwargs)\n",
            "/usr/local/lib/python3.7/dist-packages/ipykernel_launcher.py:25: VisibleDeprecationWarning: Creating an ndarray from ragged nested sequences (which is a list-or-tuple of lists-or-tuples-or ndarrays with different lengths or shapes) is deprecated. If you meant to do this, you must specify 'dtype=object' when creating the ndarray\n",
            "/usr/local/lib/python3.7/dist-packages/ipykernel_launcher.py:26: VisibleDeprecationWarning: Creating an ndarray from ragged nested sequences (which is a list-or-tuple of lists-or-tuples-or ndarrays with different lengths or shapes) is deprecated. If you meant to do this, you must specify 'dtype=object' when creating the ndarray\n"
          ],
          "name": "stderr"
        },
        {
          "output_type": "stream",
          "text": [
            "error : [0.6438988174230796, 0.49179255119780024, 0.42836466846721943, 0.4189342872488652, 0.4007872469913795]\n",
            "val_error : [0.6491240711986834, 0.5091940321584658, 0.4481063734305205, 0.4458673004282699, 0.4324026812507207]\n",
            "accuracy : [0.7712592592592593, 0.8108518518518518, 0.8437037037037037, 0.8417962962962963, 0.851037037037037]\n",
            "val_accuracy : [0.7666666666666667, 0.7973333333333333, 0.832, 0.8276666666666667, 0.8378333333333333]\n",
            "test_accuracy : [0.7569, 0.8001, 0.8291, 0.8272, 0.8317]\n"
          ],
          "name": "stdout"
        }
      ]
    },
    {
      "cell_type": "code",
      "metadata": {
        "colab": {
          "base_uri": "https://localhost:8080/"
        },
        "id": "u1yNwZqVEBcw",
        "outputId": "930c86d6-f5c8-4699-a608-4b5ad0de75de"
      },
      "source": [
        "arr_conf = np.array([[0 for _ in range(10)] for _ in range(10)])\n",
        "arr_conf.shape"
      ],
      "execution_count": 83,
      "outputs": [
        {
          "output_type": "execute_result",
          "data": {
            "text/plain": [
              "(10, 10)"
            ]
          },
          "metadata": {
            "tags": []
          },
          "execution_count": 83
        }
      ]
    },
    {
      "cell_type": "code",
      "metadata": {
        "colab": {
          "base_uri": "https://localhost:8080/"
        },
        "id": "Lh1FOaBF5Ogb",
        "outputId": "fd8a3dcd-e477-4f72-d212-3a3c21164868"
      },
      "source": [
        "    y_val_predict = []\n",
        "    for i in range(len(Y_val)):\n",
        "      y_val_predict.append(np.argmax(predict(w,b,X_val[i].reshape(784))))\n",
        "    print(y_val_predict)\n",
        "\n",
        "    for i in range(len(y_val_predict)):\n",
        "        arr_conf[Y_val[i]][y_val_predict[i]] +=1\n",
        "        # print(Y_val[i], y_val_predict[i])\n",
        "    print(arr_conf)\n",
        "    # y_val_probs = [0 for _ in range(0,10)]\n",
        "    # for i in range(len(Y_val)):\n",
        "    #   y_val_probs[y_val_predict[i]] +=1\n",
        "    # np.divide(y_val_probs,len(Y_val))"
      ],
      "execution_count": 84,
      "outputs": [
        {
          "output_type": "stream",
          "text": [
            "[7, 4, 3, 6, 4, 7, 3, 4, 3, 1, 0, 2, 0, 5, 2, 3, 7, 3, 8, 8, 2, 3, 5, 0, 0, 0, 9, 0, 9, 2, 2, 0, 3, 3, 2, 1, 7, 7, 0, 0, 8, 9, 8, 2, 9, 7, 1, 3, 8, 5, 9, 7, 0, 0, 2, 2, 9, 7, 0, 4, 7, 8, 3, 0, 5, 0, 3, 7, 9, 6, 0, 8, 1, 8, 2, 0, 0, 0, 3, 4, 7, 0, 7, 7, 7, 3, 8, 7, 2, 8, 8, 5, 0, 3, 2, 7, 4, 7, 1, 5, 5, 3, 7, 0, 9, 3, 5, 4, 2, 5, 0, 5, 2, 3, 0, 2, 0, 3, 0, 0, 7, 6, 0, 0, 8, 4, 5, 4, 9, 1, 9, 0, 2, 3, 3, 3, 9, 0, 2, 8, 0, 2, 8, 1, 1, 0, 3, 2, 0, 8, 8, 7, 4, 5, 9, 0, 0, 3, 7, 0, 5, 4, 7, 0, 0, 2, 7, 5, 2, 7, 4, 8, 9, 2, 4, 2, 2, 1, 8, 2, 2, 8, 0, 5, 2, 5, 4, 9, 2, 0, 4, 5, 4, 9, 2, 8, 7, 6, 3, 9, 8, 2, 8, 0, 0, 2, 2, 2, 2, 1, 2, 2, 2, 5, 4, 7, 2, 8, 6, 0, 2, 0, 2, 8, 2, 1, 0, 0, 3, 0, 5, 2, 2, 8, 0, 2, 4, 1, 9, 7, 8, 8, 5, 9, 9, 3, 5, 6, 4, 8, 5, 2, 7, 3, 5, 1, 4, 2, 2, 7, 9, 2, 0, 0, 9, 0, 1, 0, 1, 2, 9, 9, 0, 7, 0, 4, 3, 3, 0, 4, 5, 8, 0, 0, 8, 8, 5, 2, 5, 6, 0, 1, 6, 8, 9, 3, 5, 4, 8, 4, 4, 4, 3, 2, 4, 8, 4, 2, 7, 9, 4, 2, 1, 9, 0, 4, 4, 3, 0, 8, 7, 1, 0, 9, 3, 7, 8, 3, 0, 9, 6, 4, 0, 3, 2, 2, 0, 8, 3, 6, 5, 7, 7, 2, 9, 1, 0, 9, 9, 1, 7, 2, 6, 2, 5, 8, 3, 3, 8, 1, 0, 0, 4, 5, 7, 2, 3, 1, 2, 4, 7, 7, 7, 4, 7, 3, 5, 5, 5, 8, 1, 4, 1, 7, 0, 9, 9, 7, 0, 1, 9, 2, 1, 4, 4, 0, 0, 5, 0, 1, 6, 7, 5, 1, 4, 0, 2, 1, 2, 9, 2, 1, 2, 1, 7, 4, 4, 2, 2, 8, 3, 0, 7, 0, 4, 0, 2, 6, 6, 9, 0, 1, 4, 7, 8, 8, 9, 2, 0, 0, 4, 7, 2, 2, 8, 3, 3, 4, 3, 0, 5, 4, 1, 1, 0, 5, 4, 7, 9, 7, 3, 2, 7, 5, 8, 5, 1, 8, 3, 5, 9, 2, 0, 8, 1, 7, 8, 1, 2, 2, 2, 9, 5, 8, 1, 7, 2, 0, 2, 5, 0, 3, 7, 3, 2, 4, 7, 3, 7, 1, 5, 2, 2, 1, 3, 3, 4, 0, 0, 2, 2, 1, 4, 8, 9, 0, 0, 4, 2, 4, 0, 0, 9, 2, 2, 9, 2, 7, 1, 3, 7, 3, 1, 7, 7, 3, 4, 5, 3, 3, 3, 0, 5, 2, 6, 2, 5, 2, 7, 3, 4, 5, 4, 0, 2, 9, 1, 2, 8, 3, 7, 0, 5, 2, 5, 6, 8, 2, 5, 5, 5, 4, 4, 5, 7, 3, 5, 2, 4, 2, 1, 2, 2, 9, 2, 9, 5, 2, 0, 4, 5, 2, 9, 8, 8, 2, 2, 1, 8, 7, 6, 0, 3, 0, 9, 7, 9, 2, 3, 3, 4, 6, 1, 8, 2, 8, 9, 0, 8, 5, 9, 2, 1, 4, 2, 1, 3, 0, 4, 5, 5, 1, 1, 8, 7, 7, 2, 8, 0, 0, 2, 2, 4, 9, 2, 7, 6, 0, 1, 4, 4, 4, 5, 2, 7, 7, 9, 0, 3, 3, 9, 9, 8, 1, 3, 3, 4, 5, 6, 5, 9, 3, 2, 0, 6, 7, 4, 3, 1, 8, 2, 2, 0, 1, 2, 4, 9, 9, 1, 9, 2, 3, 7, 2, 0, 1, 5, 9, 8, 1, 6, 5, 0, 5, 1, 3, 6, 9, 8, 0, 0, 9, 8, 3, 4, 2, 1, 5, 9, 7, 8, 3, 1, 5, 1, 4, 0, 0, 0, 3, 2, 7, 5, 5, 8, 8, 9, 5, 4, 8, 9, 6, 1, 4, 4, 9, 9, 9, 6, 8, 7, 2, 7, 4, 7, 5, 1, 4, 5, 1, 6, 1, 4, 0, 1, 2, 9, 2, 7, 2, 5, 5, 0, 1, 5, 5, 2, 9, 0, 7, 9, 9, 4, 5, 9, 3, 3, 0, 1, 8, 8, 6, 5, 9, 7, 0, 8, 6, 4, 0, 3, 6, 0, 9, 7, 3, 0, 6, 9, 3, 1, 2, 5, 8, 7, 7, 9, 3, 0, 3, 5, 0, 2, 9, 2, 0, 2, 9, 8, 4, 8, 9, 2, 2, 3, 7, 2, 8, 8, 4, 6, 3, 3, 4, 5, 6, 5, 7, 3, 9, 8, 2, 3, 0, 9, 6, 8, 0, 4, 0, 0, 2, 6, 0, 2, 0, 1, 0, 1, 9, 3, 8, 2, 0, 0, 0, 0, 7, 1, 1, 0, 8, 8, 6, 2, 3, 7, 8, 7, 8, 9, 7, 4, 7, 0, 0, 5, 4, 7, 9, 1, 7, 4, 2, 3, 8, 5, 7, 8, 4, 2, 8, 5, 9, 0, 5, 1, 9, 4, 4, 2, 5, 7, 2, 2, 2, 5, 9, 5, 9, 4, 1, 6, 2, 3, 2, 4, 6, 0, 0, 7, 2, 1, 2, 0, 5, 9, 9, 2, 7, 8, 0, 0, 4, 5, 5, 2, 7, 7, 7, 0, 3, 7, 0, 9, 4, 1, 1, 9, 2, 3, 7, 4, 2, 5, 2, 7, 5, 5, 1, 0, 4, 0, 2, 3, 1, 8, 6, 1, 5, 8, 3, 2, 4, 3, 9, 1, 9, 0, 2, 2, 8, 0, 6, 5, 8, 0, 4, 7, 8, 4, 7, 0, 7, 7, 3, 5, 6, 0, 0, 7, 7, 1, 6, 0, 9, 2, 7, 4, 2, 1, 2, 1, 6, 3, 5, 2, 8, 7, 9, 7, 7, 5, 5, 2, 4, 1, 1, 3, 2, 1, 4, 2, 8, 9, 1, 8, 6, 7, 0, 9, 5, 9, 2, 6, 0, 3, 7, 9, 3, 3, 7, 0, 1, 4, 2, 0, 3, 0, 3, 1, 6, 7, 3, 2, 4, 8, 8, 1, 7, 1, 0, 8, 1, 5, 1, 0, 5, 0, 7, 2, 5, 2, 5, 8, 9, 7, 0, 1, 1, 1, 0, 0, 0, 7, 3, 0, 3, 7, 7, 5, 2, 2, 9, 7, 2, 4, 0, 0, 2, 9, 7, 1, 2, 3, 3, 0, 1, 1, 7, 8, 4, 9, 5, 1, 8, 9, 5, 7, 1, 0, 1, 6, 3, 8, 2, 3, 4, 9, 4, 9, 1, 9, 0, 7, 6, 4, 3, 5, 4, 2, 2, 8, 1, 4, 7, 3, 0, 7, 7, 7, 8, 2, 9, 2, 9, 3, 2, 2, 5, 2, 6, 1, 8, 5, 0, 0, 1, 9, 9, 1, 5, 1, 5, 3, 0, 0, 9, 5, 4, 8, 9, 5, 1, 2, 4, 8, 4, 3, 8, 8, 2, 9, 4, 3, 5, 6, 7, 9, 9, 3, 9, 2, 3, 0, 5, 0, 4, 5, 3, 2, 2, 0, 8, 5, 7, 2, 5, 3, 2, 1, 8, 3, 5, 4, 8, 2, 9, 7, 1, 7, 4, 9, 7, 0, 8, 8, 2, 5, 3, 8, 1, 8, 9, 2, 2, 4, 3, 2, 3, 3, 2, 3, 2, 4, 0, 8, 2, 8, 7, 6, 2, 0, 0, 6, 2, 3, 4, 0, 7, 9, 3, 9, 7, 8, 2, 8, 0, 4, 3, 9, 9, 2, 2, 9, 4, 0, 2, 7, 3, 5, 2, 7, 2, 7, 4, 3, 7, 5, 1, 2, 4, 2, 4, 4, 4, 4, 8, 5, 9, 1, 2, 6, 1, 5, 5, 0, 3, 0, 9, 0, 2, 6, 8, 5, 0, 2, 3, 1, 0, 4, 3, 2, 3, 7, 7, 2, 4, 2, 5, 0, 0, 3, 1, 3, 1, 2, 1, 7, 2, 2, 0, 2, 5, 7, 0, 3, 7, 9, 9, 7, 1, 0, 9, 0, 6, 8, 5, 9, 2, 8, 2, 2, 1, 3, 7, 1, 0, 3, 8, 2, 4, 2, 2, 1, 5, 4, 9, 8, 5, 2, 3, 5, 2, 9, 0, 9, 0, 1, 3, 2, 4, 8, 0, 9, 8, 9, 0, 0, 1, 1, 4, 6, 0, 4, 8, 4, 7, 3, 9, 0, 4, 0, 8, 3, 6, 3, 0, 7, 2, 7, 9, 5, 7, 2, 2, 0, 3, 7, 0, 4, 4, 4, 9, 2, 1, 3, 9, 1, 0, 1, 1, 5, 0, 0, 0, 3, 4, 5, 7, 5, 2, 2, 2, 4, 8, 2, 5, 0, 1, 9, 5, 8, 3, 3, 9, 0, 2, 2, 1, 8, 8, 0, 0, 8, 1, 2, 4, 0, 5, 3, 5, 2, 0, 3, 6, 2, 6, 3, 9, 1, 5, 8, 7, 7, 3, 3, 9, 1, 8, 3, 4, 1, 4, 5, 5, 2, 5, 2, 9, 2, 9, 8, 2, 2, 9, 2, 2, 0, 2, 2, 7, 8, 1, 8, 1, 0, 2, 9, 0, 0, 0, 2, 4, 1, 0, 2, 1, 6, 6, 7, 9, 1, 8, 8, 7, 2, 3, 6, 1, 4, 4, 8, 0, 6, 0, 2, 6, 2, 0, 3, 9, 8, 7, 1, 5, 8, 7, 0, 8, 1, 1, 5, 0, 7, 0, 8, 0, 7, 6, 0, 8, 4, 1, 2, 0, 0, 8, 9, 5, 3, 3, 4, 7, 0, 5, 4, 6, 1, 5, 0, 0, 2, 4, 4, 4, 8, 3, 8, 2, 3, 5, 6, 9, 2, 0, 6, 9, 4, 0, 2, 3, 1, 0, 2, 4, 2, 2, 3, 2, 4, 9, 7, 5, 2, 2, 6, 0, 2, 7, 7, 5, 4, 5, 1, 2, 7, 2, 9, 8, 0, 9, 1, 2, 7, 9, 5, 3, 1, 3, 3, 3, 2, 0, 9, 6, 3, 0, 8, 7, 7, 7, 9, 0, 4, 9, 9, 8, 8, 3, 5, 9, 2, 8, 2, 2, 7, 6, 0, 0, 1, 2, 8, 2, 1, 9, 1, 8, 7, 3, 0, 6, 9, 4, 3, 3, 6, 7, 9, 8, 7, 2, 3, 5, 0, 0, 2, 9, 4, 1, 1, 1, 2, 0, 8, 0, 7, 9, 3, 3, 8, 9, 7, 8, 8, 1, 0, 9, 6, 5, 8, 5, 8, 2, 0, 7, 7, 8, 5, 3, 8, 7, 2, 2, 9, 3, 2, 3, 7, 6, 2, 7, 2, 8, 9, 0, 9, 9, 2, 0, 8, 1, 2, 9, 3, 5, 8, 2, 3, 1, 3, 1, 1, 2, 0, 8, 2, 5, 1, 0, 9, 3, 3, 9, 2, 7, 2, 0, 8, 9, 9, 1, 9, 1, 2, 9, 3, 2, 3, 2, 2, 7, 4, 8, 2, 7, 1, 2, 7, 2, 4, 0, 2, 3, 5, 3, 3, 6, 0, 3, 0, 8, 1, 1, 5, 2, 0, 5, 1, 1, 1, 7, 3, 4, 2, 0, 3, 5, 3, 7, 3, 5, 8, 6, 4, 2, 3, 3, 5, 2, 7, 2, 9, 9, 3, 0, 6, 4, 7, 0, 5, 0, 7, 7, 4, 5, 9, 8, 1, 0, 7, 2, 5, 7, 8, 8, 1, 9, 5, 0, 3, 5, 4, 9, 9, 2, 2, 0, 4, 1, 0, 2, 4, 8, 4, 9, 9, 2, 8, 9, 3, 8, 6, 8, 8, 4, 2, 0, 0, 2, 9, 1, 5, 0, 9, 4, 8, 3, 3, 4, 7, 1, 9, 7, 7, 2, 3, 0, 6, 9, 2, 2, 4, 1, 0, 2, 9, 9, 3, 0, 5, 7, 9, 6, 9, 9, 0, 8, 0, 0, 3, 7, 0, 2, 0, 0, 2, 2, 3, 1, 7, 1, 5, 7, 1, 2, 3, 7, 0, 5, 8, 5, 7, 5, 4, 8, 8, 7, 3, 4, 9, 0, 2, 9, 4, 6, 1, 9, 6, 3, 8, 3, 2, 5, 6, 4, 2, 0, 7, 2, 1, 7, 2, 0, 9, 2, 5, 3, 8, 7, 3, 0, 3, 7, 1, 5, 0, 5, 8, 4, 0, 6, 7, 5, 5, 8, 3, 6, 1, 3, 8, 4, 3, 3, 5, 8, 2, 3, 0, 1, 2, 3, 2, 8, 2, 9, 0, 4, 5, 0, 5, 3, 8, 9, 8, 4, 9, 9, 1, 9, 1, 4, 8, 0, 2, 6, 4, 8, 0, 9, 1, 3, 3, 2, 2, 4, 7, 4, 1, 2, 1, 0, 7, 3, 1, 5, 9, 2, 4, 3, 9, 8, 9, 3, 4, 3, 3, 8, 0, 0, 0, 2, 0, 6, 4, 2, 9, 5, 5, 6, 9, 2, 3, 5, 1, 6, 3, 5, 6, 2, 2, 5, 3, 6, 5, 7, 5, 4, 1, 2, 8, 4, 6, 0, 3, 5, 3, 4, 5, 9, 3, 4, 2, 9, 9, 7, 5, 0, 8, 0, 6, 1, 2, 7, 4, 0, 4, 3, 3, 9, 0, 3, 8, 7, 7, 4, 6, 7, 7, 2, 9, 3, 8, 7, 4, 2, 8, 2, 1, 6, 5, 2, 4, 5, 4, 5, 1, 8, 9, 0, 8, 6, 2, 0, 8, 9, 0, 5, 6, 7, 3, 3, 9, 7, 5, 5, 9, 1, 7, 7, 4, 1, 6, 1, 2, 8, 1, 5, 7, 9, 0, 0, 1, 9, 4, 7, 5, 3, 8, 2, 7, 7, 0, 2, 0, 2, 7, 4, 5, 0, 9, 9, 2, 6, 0, 8, 8, 5, 3, 5, 5, 9, 8, 0, 0, 8, 2, 3, 0, 2, 9, 0, 2, 1, 2, 9, 5, 2, 2, 5, 5, 1, 8, 6, 3, 2, 9, 2, 5, 9, 0, 0, 0, 4, 8, 8, 5, 7, 2, 2, 7, 3, 8, 2, 1, 6, 1, 0, 8, 3, 8, 2, 4, 3, 0, 6, 7, 4, 9, 5, 7, 2, 8, 3, 2, 5, 9, 0, 0, 3, 2, 0, 1, 2, 3, 5, 3, 1, 2, 1, 8, 1, 5, 2, 6, 3, 9, 2, 4, 8, 1, 2, 4, 7, 2, 9, 8, 6, 3, 3, 8, 2, 3, 8, 7, 9, 2, 3, 0, 0, 7, 8, 3, 6, 5, 3, 8, 3, 7, 5, 5, 1, 1, 4, 1, 1, 1, 3, 2, 1, 1, 5, 9, 4, 0, 2, 7, 8, 9, 3, 7, 5, 9, 4, 5, 8, 1, 0, 4, 5, 6, 1, 9, 5, 6, 2, 4, 9, 8, 7, 9, 3, 5, 8, 2, 8, 0, 3, 2, 1, 1, 0, 6, 7, 5, 0, 5, 2, 4, 0, 0, 2, 9, 0, 8, 9, 5, 5, 9, 3, 0, 7, 8, 0, 0, 7, 9, 2, 3, 3, 6, 7, 4, 7, 6, 2, 6, 8, 1, 4, 9, 2, 7, 1, 8, 1, 2, 9, 3, 8, 0, 8, 4, 2, 0, 1, 0, 9, 9, 7, 8, 3, 4, 7, 1, 0, 2, 0, 4, 7, 7, 5, 0, 1, 0, 2, 5, 3, 5, 3, 1, 6, 7, 3, 8, 9, 8, 0, 4, 0, 9, 2, 4, 3, 2, 6, 3, 5, 9, 1, 9, 4, 9, 7, 8, 0, 8, 2, 5, 0, 1, 4, 1, 3, 2, 0, 8, 5, 3, 5, 3, 4, 1, 0, 4, 0, 5, 4, 3, 3, 8, 2, 0, 6, 7, 0, 3, 6, 8, 1, 0, 5, 4, 2, 9, 5, 2, 3, 9, 7, 6, 1, 0, 0, 9, 8, 2, 0, 0, 9, 5, 8, 3, 3, 4, 6, 0, 0, 0, 7, 0, 8, 9, 8, 3, 2, 4, 2, 2, 7, 3, 7, 8, 1, 1, 8, 9, 7, 5, 7, 0, 2, 4, 0, 0, 0, 6, 5, 8, 4, 0, 3, 4, 1, 0, 1, 2, 8, 9, 1, 2, 2, 5, 6, 4, 3, 8, 5, 5, 0, 0, 8, 5, 2, 2, 1, 0, 5, 3, 8, 3, 4, 4, 6, 3, 3, 2, 6, 3, 1, 2, 4, 4, 5, 3, 9, 1, 9, 5, 8, 7, 2, 4, 1, 0, 5, 6, 2, 9, 0, 0, 1, 4, 9, 0, 9, 8, 5, 9, 8, 1, 5, 9, 4, 6, 8, 5, 8, 4, 7, 1, 7, 0, 2, 8, 3, 2, 8, 5, 7, 1, 6, 2, 2, 2, 0, 9, 0, 0, 3, 0, 2, 9, 5, 3, 2, 9, 9, 0, 9, 9, 5, 2, 4, 2, 0, 1, 2, 1, 0, 5, 7, 2, 3, 8, 0, 5, 1, 4, 7, 1, 7, 0, 5, 5, 6, 5, 2, 2, 5, 3, 6, 0, 6, 9, 0, 1, 9, 0, 9, 4, 5, 0, 4, 5, 2, 5, 5, 5, 1, 8, 4, 1, 8, 0, 7, 4, 3, 1, 3, 3, 9, 0, 3, 0, 6, 9, 2, 0, 8, 0, 3, 0, 8, 9, 6, 7, 3, 3, 5, 2, 6, 5, 0, 7, 9, 7, 5, 5, 3, 0, 2, 1, 4, 3, 3, 6, 3, 2, 7, 2, 1, 9, 8, 1, 2, 1, 5, 1, 2, 7, 0, 9, 7, 4, 1, 3, 0, 1, 0, 0, 3, 1, 9, 0, 4, 6, 6, 8, 0, 2, 2, 9, 9, 5, 1, 2, 6, 4, 2, 5, 2, 2, 6, 9, 5, 4, 8, 7, 6, 4, 5, 2, 9, 9, 3, 7, 3, 1, 1, 4, 9, 6, 7, 3, 6, 0, 9, 3, 5, 9, 8, 3, 1, 4, 1, 9, 5, 2, 5, 9, 2, 5, 3, 2, 2, 1, 2, 4, 3, 0, 2, 7, 4, 7, 2, 8, 9, 3, 2, 2, 0, 2, 8, 5, 0, 8, 9, 7, 2, 0, 8, 1, 1, 3, 9, 3, 6, 4, 7, 0, 6, 4, 0, 0, 6, 1, 8, 0, 6, 9, 9, 3, 7, 6, 7, 0, 1, 3, 3, 0, 4, 1, 1, 6, 9, 5, 2, 7, 5, 6, 0, 8, 3, 8, 0, 7, 3, 2, 0, 4, 8, 3, 8, 7, 2, 6, 4, 3, 3, 0, 4, 5, 5, 5, 6, 7, 0, 2, 2, 9, 1, 4, 0, 0, 1, 8, 2, 7, 7, 2, 2, 0, 0, 9, 7, 9, 1, 5, 7, 7, 7, 0, 1, 8, 8, 3, 8, 0, 8, 7, 5, 3, 4, 1, 7, 3, 1, 0, 3, 3, 0, 7, 7, 0, 9, 2, 7, 3, 5, 0, 9, 7, 7, 0, 4, 4, 5, 4, 2, 0, 3, 0, 6, 8, 1, 1, 1, 2, 1, 9, 6, 2, 7, 8, 4, 1, 2, 3, 3, 4, 0, 8, 2, 7, 5, 4, 1, 4, 0, 8, 2, 8, 2, 8, 3, 3, 7, 7, 5, 8, 8, 0, 6, 7, 7, 4, 9, 1, 5, 3, 5, 0, 4, 7, 7, 8, 8, 2, 3, 0, 0, 7, 3, 4, 3, 0, 2, 5, 2, 8, 0, 4, 9, 0, 0, 1, 4, 9, 5, 2, 1, 2, 5, 3, 2, 2, 8, 0, 1, 7, 2, 4, 4, 5, 8, 0, 1, 2, 8, 0, 5, 5, 3, 7, 5, 1, 4, 2, 2, 4, 5, 2, 2, 7, 5, 8, 6, 0, 1, 8, 1, 1, 8, 8, 6, 5, 9, 5, 1, 1, 0, 1, 9, 2, 4, 7, 2, 7, 1, 5, 8, 9, 0, 2, 7, 1, 9, 2, 4, 8, 8, 2, 4, 7, 1, 6, 1, 4, 5, 3, 5, 9, 6, 6, 0, 5, 9, 2, 1, 8, 2, 2, 3, 8, 6, 7, 9, 2, 0, 1, 5, 0, 7, 1, 8, 8, 3, 7, 3, 2, 2, 7, 5, 3, 6, 9, 9, 5, 5, 2, 7, 7, 5, 9, 5, 7, 9, 8, 4, 7, 3, 8, 2, 8, 6, 5, 0, 0, 5, 0, 2, 5, 8, 2, 3, 4, 9, 2, 0, 1, 9, 4, 3, 2, 1, 4, 5, 2, 8, 8, 9, 7, 9, 5, 0, 8, 0, 7, 9, 2, 7, 5, 3, 0, 2, 1, 0, 3, 5, 6, 8, 2, 8, 6, 5, 3, 0, 2, 2, 3, 7, 3, 7, 7, 3, 2, 1, 9, 0, 9, 7, 5, 2, 8, 3, 2, 7, 7, 8, 1, 7, 0, 3, 5, 5, 5, 5, 0, 5, 0, 5, 9, 0, 4, 2, 8, 3, 7, 0, 1, 5, 0, 3, 0, 7, 6, 1, 0, 7, 4, 2, 9, 8, 8, 3, 8, 1, 0, 3, 2, 4, 1, 0, 7, 2, 7, 8, 5, 1, 3, 3, 2, 0, 7, 1, 2, 1, 2, 8, 1, 0, 1, 0, 1, 4, 3, 9, 7, 4, 5, 7, 0, 5, 4, 3, 0, 7, 1, 5, 8, 5, 8, 5, 9, 5, 8, 5, 8, 1, 3, 4, 5, 8, 8, 3, 4, 4, 4, 6, 1, 3, 8, 0, 6, 0, 2, 4, 8, 0, 1, 3, 0, 4, 0, 8, 0, 0, 9, 8, 8, 9, 0, 1, 0, 3, 9, 3, 3, 8, 1, 7, 4, 0, 2, 7, 1, 5, 6, 8, 7, 2, 9, 3, 4, 2, 5, 4, 3, 3, 9, 9, 5, 1, 6, 0, 8, 0, 0, 2, 3, 7, 4, 6, 4, 8, 2, 2, 5, 8, 4, 5, 2, 8, 3, 7, 9, 8, 2, 3, 4, 7, 2, 2, 1, 2, 1, 5, 2, 7, 3, 7, 4, 2, 2, 5, 2, 0, 9, 9, 8, 5, 7, 3, 4, 0, 4, 7, 8, 7, 5, 0, 0, 0, 7, 7, 2, 0, 0, 2, 9, 1, 1, 9, 2, 7, 7, 6, 7, 9, 2, 6, 4, 2, 9, 2, 1, 1, 0, 7, 4, 7, 8, 2, 2, 1, 4, 9, 1, 6, 5, 7, 1, 8, 3, 6, 1, 9, 8, 7, 7, 7, 7, 8, 8, 0, 7, 5, 4, 2, 5, 1, 1, 5, 8, 4, 1, 0, 9, 1, 2, 8, 0, 7, 0, 3, 6, 3, 0, 3, 2, 9, 0, 7, 8, 3, 0, 2, 2, 2, 8, 9, 1, 4, 4, 8, 3, 5, 7, 0, 8, 7, 3, 1, 6, 0, 9, 7, 5, 2, 6, 6, 5, 8, 0, 9, 8, 1, 2, 2, 2, 5, 9, 3, 7, 4, 2, 4, 1, 2, 0, 2, 4, 2, 5, 6, 8, 1, 6, 8, 8, 9, 2, 3, 3, 4, 0, 1, 1, 5, 9, 8, 3, 0, 6, 9, 7, 1, 1, 2, 5, 7, 2, 9, 0, 0, 9, 9, 9, 7, 2, 1, 4, 2, 3, 2, 5, 0, 1, 3, 9, 0, 1, 4, 3, 0, 9, 4, 9, 3, 0, 3, 8, 7, 5, 7, 9, 8, 8, 3, 3, 0, 2, 4, 1, 9, 9, 8, 2, 9, 6, 1, 6, 6, 2, 6, 0, 1, 2, 3, 5, 7, 5, 1, 3, 4, 8, 9, 5, 8, 8, 0, 8, 5, 0, 7, 9, 2, 9, 0, 9, 1, 8, 3, 3, 3, 5, 7, 7, 4, 3, 5, 8, 2, 6, 6, 2, 4, 1, 2, 2, 7, 0, 8, 3, 3, 2, 9, 3, 2, 2, 9, 0, 7, 2, 9, 8, 6, 0, 4, 1, 4, 9, 2, 3, 4, 3, 8, 4, 5, 0, 0, 1, 3, 4, 2, 1, 8, 2, 0, 9, 5, 4, 1, 5, 9, 9, 1, 1, 9, 7, 6, 4, 4, 0, 0, 9, 0, 1, 1, 8, 4, 0, 8, 8, 1, 1, 3, 0, 4, 9, 3, 1, 1, 3, 4, 7, 7, 3, 5, 8, 3, 9, 2, 8, 2, 0, 2, 8, 2, 9, 2, 0, 5, 3, 3, 0, 9, 1, 4, 7, 8, 4, 2, 8, 1, 0, 2, 7, 9, 4, 2, 9, 6, 2, 7, 6, 4, 4, 4, 3, 8, 8, 9, 4, 0, 2, 8, 2, 4, 7, 8, 2, 5, 8, 4, 7, 7, 6, 0, 7, 1, 0, 9, 3, 3, 2, 1, 5, 7, 4, 4, 4, 9, 0, 8, 4, 5, 0, 4, 4, 7, 0, 9, 9, 4, 0, 5, 4, 5, 7, 7, 7, 5, 4, 5, 4, 7, 2, 9, 8, 9, 2, 0, 4, 2, 9, 5, 4, 7, 9, 5, 5, 6, 7, 5, 8, 6, 3, 1, 8, 1, 1, 8, 7, 0, 0, 9, 6, 0, 7, 9, 2, 2, 3, 1, 3, 5, 0, 2, 1, 0, 7, 9, 4, 3, 4, 5, 7, 4, 3, 2, 8, 2, 0, 0, 5, 2, 0, 3, 2, 2, 2, 2, 5, 4, 4, 3, 9, 4, 6, 7, 1, 0, 8, 1, 7, 4, 9, 4, 0, 3, 9, 3, 0, 5, 8, 5, 9, 4, 2, 4, 0, 3, 2, 7, 6, 7, 4, 5, 2, 4, 0, 4, 3, 1, 8, 9, 2, 9, 9, 3, 5, 9, 4, 1, 2, 3, 8, 3, 7, 1, 0, 0, 0, 2, 3, 2, 5, 5, 7, 8, 3, 5, 2, 3, 1, 2, 8, 3, 7, 8, 4, 9, 3, 5, 0, 8, 2, 4, 3, 2, 3, 2, 8, 4, 4, 0, 2, 2, 3, 6, 8, 3, 0, 9, 6, 8, 7, 4, 6, 2, 7, 7, 1, 9, 2, 5, 0, 1, 3, 1, 5, 8, 4, 1, 3, 9, 3, 6, 3, 0, 9, 0, 2, 5, 9, 3, 8, 0, 2, 4, 2, 7, 2, 2, 0, 2, 5, 0, 8, 0, 5, 9, 1, 5, 7, 4, 9, 0, 2, 2, 5, 1, 9, 2, 2, 7, 7, 1, 8, 4, 0, 4, 0, 3, 1, 9, 0, 8, 8, 5, 5, 0, 7, 1, 4, 9, 2, 5, 7, 9, 1, 0, 0, 8, 0, 9, 0, 2, 3, 9, 4, 0, 8, 4, 6, 8, 9, 5, 0, 6, 9, 3, 0, 0, 5, 0, 9, 1, 0, 0, 3, 0, 2, 5, 2, 0, 2, 5, 5, 1, 3, 2, 2, 3, 2, 3, 2, 4, 9, 2, 1, 9, 2, 3, 5, 7, 3, 0, 1, 5, 3, 3, 2, 3, 7, 9, 1, 5, 6, 4, 1, 7, 7, 0, 7, 0, 9, 6, 5, 9, 7, 5, 0, 5, 9, 9, 0, 3, 5, 9, 2, 0, 4, 8, 8, 6, 5, 4, 0, 1, 8, 4, 0, 8, 2, 4, 2, 0, 4, 2, 3, 9, 2, 0, 1, 5, 1, 2, 8, 8, 0, 9, 1, 1, 3, 5, 6, 8, 0, 2, 6, 9, 1, 5, 5, 9, 5, 5, 3, 2, 5, 7, 5, 9, 0, 8, 3, 5, 7, 8, 8, 5, 0, 7, 2, 0, 7, 5, 4, 9, 0, 7, 7, 6, 4, 4, 6, 4, 7, 0, 2, 2, 2, 5, 3, 7, 0, 5, 3, 5, 2, 4, 5, 9, 0, 0, 0, 5, 8, 3, 3, 3, 2, 8, 7, 2, 3, 3, 2, 3, 6, 2, 0, 5, 5, 0, 7, 8, 0, 3, 0, 1, 7, 5, 7, 7, 1, 3, 7, 5, 8, 0, 2, 2, 6, 2, 5, 8, 7, 1, 9, 8, 9, 4, 5, 2, 8, 5, 3, 9, 9, 4, 1, 7, 7, 2, 7, 6, 9, 9, 4, 8, 8, 2, 0, 4, 5, 5, 9, 7, 4, 3, 2, 5, 5, 5, 1, 1, 2, 8, 7, 2, 9, 2, 9, 5, 8, 4, 7, 6, 6, 3, 3, 7, 8, 9, 6, 3, 3, 5, 9, 5, 2, 6, 3, 0, 0, 3, 0, 2, 1, 3, 0, 1, 2, 3, 2, 5, 9, 7, 1, 7, 0, 8, 2, 4, 5, 9, 8, 8, 9, 9, 1, 4, 4, 7, 7, 4, 9, 9, 5, 5, 5, 1, 2, 2, 7, 7, 3, 2, 2, 4, 9, 7, 7, 5, 5, 3, 7, 8, 2, 5, 7, 6, 1, 4, 5, 8, 8, 3, 2, 9, 3, 1, 5, 5, 3, 9, 1, 9, 8, 2, 0, 7, 3, 0, 1, 9, 3, 3, 1, 1, 7, 8, 7, 1, 8, 1, 3, 3, 2, 4, 4, 2, 5, 5, 8, 9, 7, 6, 2, 4, 9, 7, 8, 7, 4, 3, 5, 8, 1, 2, 9, 6, 2, 4, 8, 4, 4, 2, 0, 2, 3, 0, 9, 1, 5, 2, 1, 6, 6, 2, 8, 3, 2, 4, 7, 2, 2, 5, 9, 9, 4, 2, 0, 2, 7, 4, 9, 3, 0, 3, 0, 8, 4, 2, 0, 6, 2, 1, 2, 5, 8, 3, 8, 4, 2, 3, 8, 2, 3, 0, 9, 6, 8, 3, 2, 9, 9, 1, 9, 9, 9, 0, 7, 0, 3, 9, 4, 1, 5, 9, 0, 5, 0, 8, 0, 9, 4, 6, 9, 0, 4, 9, 7, 4, 1, 7, 5, 3, 8, 0, 4, 1, 3, 1, 9, 1, 9, 9, 4, 4, 8, 6, 2, 0, 8, 6, 5, 8, 5, 6, 0, 8, 7, 1, 1, 1, 2, 2, 2, 2, 1, 9, 1, 9, 6, 4, 8, 0, 2, 9, 9, 2, 5, 3, 0, 8, 0, 5, 1, 3, 0, 0, 0, 9, 7, 3, 7, 0, 7, 3, 1, 6, 3, 0, 9, 2, 5, 5, 3, 8, 9, 7, 3, 2, 2, 2, 4, 5, 4, 9, 4, 1, 8, 7, 8, 0, 0, 2, 4, 2, 6, 7, 8, 5, 5, 2, 1, 6, 3, 0, 3, 1, 1, 8, 6, 9, 6, 7, 4, 0, 2, 2, 2, 0, 5, 2, 3, 2, 3, 1, 3, 8, 7, 4, 0, 1, 3, 2, 7, 2, 7, 7, 9, 2, 4, 1, 3, 4, 9, 2, 6, 2, 8, 2, 8, 5, 0, 1, 3, 0, 5, 0, 8, 2, 7, 5, 3, 7, 9, 6, 9, 8, 9, 1, 1, 2, 8, 8, 7, 2, 2, 0, 9, 8, 3, 0, 8, 5, 2, 4, 7, 2, 1, 6, 2, 5, 5, 8, 6, 1, 0, 8, 5, 8, 2, 3, 0, 4, 7, 7, 1, 1, 9, 9, 9, 7, 9, 7, 6, 3, 6, 9, 6, 4, 3, 2, 2, 2, 7, 7, 4, 2, 1, 0, 2, 8, 1, 1, 8, 7, 8, 3, 7, 8, 9, 9, 2, 4, 3, 4, 7, 7, 5, 9, 2, 0, 6, 3, 4, 5, 0, 8, 7, 8, 3, 2, 2, 5, 2, 5, 0, 0, 3, 1, 9, 3, 5, 5, 2, 9, 5, 8, 2, 8, 0, 7, 1, 3, 9, 8, 5, 0, 4, 0, 2, 0, 1, 5, 0, 7, 0, 5, 0, 3, 8, 3, 6, 5, 2, 4, 6, 0, 7, 8, 5, 5, 8, 0, 9, 1, 9, 7, 2, 1, 2, 8, 0, 1, 2, 8, 0, 7, 8, 2, 0, 6, 0, 1, 8, 9, 6, 1, 3, 8, 4, 8, 4, 2, 3, 0, 1, 8, 7, 0, 0, 9, 7, 8, 5, 5, 5, 2, 0, 5, 5, 4, 5, 1, 3, 1, 2, 7, 2, 5, 5, 0, 8, 9, 7, 3, 2, 2, 4, 4, 5, 9, 4, 3, 8, 4, 0, 0, 9, 3, 7, 3, 7, 5, 9, 9, 8, 1, 0, 5, 9, 9, 8, 4, 1, 1, 0, 9, 4, 4, 9, 7, 2, 4, 0, 2, 2, 1, 0, 9, 5, 8, 2, 0, 0, 2, 7, 5, 6, 0, 2, 3, 9, 8, 2, 4, 2, 7, 6, 6, 1, 1, 3, 7, 0, 3, 2, 6, 3, 8, 4, 7, 6, 7, 2, 0, 2, 9, 1, 3, 5, 9, 5, 2, 4, 1, 2, 1, 3, 8, 8, 7, 9, 5, 9, 2, 5, 8, 3, 2, 1, 2, 2, 5, 0, 7, 2, 2, 2, 0, 5, 1, 7, 9, 3, 9, 8, 2, 0, 4, 3, 0, 0, 1, 4, 0, 0, 1, 7, 3, 9, 7, 5, 6, 0, 1, 4, 9, 5, 9, 1, 1, 5, 4, 7, 5, 1, 1, 1, 2, 5, 4, 5, 0, 5, 2, 1, 4, 6, 4, 9, 6, 3, 8, 8, 8, 6, 8, 2, 3, 6, 3, 3, 0, 2, 0, 7, 8, 2, 9, 8, 4, 9, 9, 1, 1, 6, 0, 2, 9, 5, 7, 5, 8, 5, 4, 4, 7, 9, 2, 5, 8, 6, 2, 3, 7, 1, 0, 5, 3, 1, 2, 9, 0, 0, 8, 6, 8, 3, 2, 9, 3, 4, 9, 2, 8, 1, 3, 2, 4, 1, 3, 2, 5, 2, 4, 0, 7, 5, 5, 0, 5, 8, 0, 2, 2, 2, 7, 5, 4, 8, 3, 4, 0, 9, 0, 2, 1, 9, 3, 9, 5, 2, 1, 4, 7, 0, 9, 5, 4, 9, 4, 4, 7, 8, 4, 2, 2, 0, 5, 8, 5, 8, 9, 7, 2, 1, 1, 4, 9, 8, 3, 3, 8, 8, 9, 2, 4, 3, 6, 8, 1, 2, 4, 3, 6, 9, 0, 1, 8, 8, 0, 5, 2, 7, 2, 9, 8, 5, 3, 9, 2, 4, 7, 7, 8, 0, 4, 0, 6, 1, 2, 8, 4, 9, 0, 2, 1, 6, 7, 5, 3, 7, 4, 5, 2, 0, 9, 6, 7, 5, 2, 1, 7, 6, 8, 7, 4, 2, 7, 0, 2, 4, 7, 8, 9, 4, 4, 2, 5, 0, 8, 0, 7, 3, 2, 8, 2, 2, 5, 4, 3, 4, 4, 5, 9, 7, 4, 7, 5, 3, 7, 0, 8, 0, 0, 5, 2, 9, 8, 2, 1, 5, 2, 0, 0, 1, 1, 2, 7, 9, 9, 2, 4, 2, 1, 3, 0, 8, 4, 8, 0, 4, 8, 7, 0, 4, 8, 2, 5, 5, 8, 2, 9, 8, 7, 4, 1, 0, 4, 1, 0, 7, 5, 2, 2, 4, 2, 5, 9, 1, 2, 9, 1, 5, 9, 0, 7, 3, 3, 8, 5, 4, 2, 1, 0, 2, 2, 4, 8, 7, 8, 2, 0, 2, 3, 3, 2, 2, 8, 9, 2, 1, 6, 1, 7, 2, 7, 1, 2, 1, 1, 9, 2, 0, 0, 7, 4, 0, 3, 7, 3, 5, 5, 8, 8, 7, 2, 1, 2, 1, 2, 8, 2, 6, 5, 9, 7, 5, 1, 2, 0, 3, 4, 5, 2, 5, 5, 5, 3, 1, 8, 8, 3, 5, 2, 9, 8, 1, 7, 4, 8, 4, 6, 8, 2, 7, 9, 2, 6, 8, 3, 6, 3, 2, 2, 1, 5, 6, 4, 1, 1, 3, 2, 4, 9, 4, 9, 8, 8, 0, 0, 0, 2, 0, 9, 2, 9, 9, 3, 0, 1, 5, 4, 9, 5, 9, 7, 2, 0, 1, 7, 8, 9, 0, 1, 9, 9, 7, 2, 8, 8, 5, 2, 0, 0, 4, 4, 5, 8, 7, 6, 8, 9, 7, 2, 7, 1, 7, 3, 5, 1, 2, 1, 7, 5, 2, 8, 1, 0, 9, 9, 8, 1, 1, 5, 7, 8, 7, 7, 8, 2, 0, 8, 8, 9, 1, 1, 0, 1, 7, 1, 7, 7, 7, 1, 1, 2, 7, 7, 8, 4, 8, 7, 3, 4, 2, 7, 2, 7, 5, 0, 0, 0, 5, 3, 9, 8, 4, 5, 9, 4, 2, 2, 2, 2, 5, 3, 6, 2, 2, 6, 4, 9, 3, 5, 8, 2, 6, 0, 3, 9, 0, 1, 1, 5, 0, 0, 0, 9, 2, 9, 3, 3, 2, 8, 1, 1, 4, 2, 1, 8, 9, 4, 0, 8, 0, 1, 3, 5, 3, 8, 4, 1, 9, 0, 0, 3, 1, 2, 1, 9, 7, 5, 2, 0, 2, 2, 1, 4, 8, 2, 6, 7, 2, 2, 3, 7, 1, 2, 2, 4, 3, 6, 8, 4, 2, 0, 3, 8, 2, 0, 9, 3, 5, 6, 0, 2, 4, 2, 9, 7, 3, 0, 4, 5, 4, 0, 4, 0, 6, 1, 2, 1, 7, 2, 8, 5, 1, 3, 0, 5]\n",
            "[[575   0  14  20   2   1  16   0   2   0]\n",
            " [  0 556   7  17   2   0   2   0   0   0]\n",
            " [ 10   1 538   5  30   0  14   0   4   0]\n",
            " [ 26   5   9 530  29   0   3   1   2   0]\n",
            " [  0   1 200  20 396   0  14   0   2   0]\n",
            " [  1   0   0   0   0 557   0  19   6   8]\n",
            " [161   1 105  15  67   0 210   0   6   0]\n",
            " [  0   0   0   0   0  17   0 522   0  16]\n",
            " [  3   0   7   1   6   5  16   5 573   0]\n",
            " [  0   0   0   0   0  12   0  37   0 570]]\n"
          ],
          "name": "stdout"
        }
      ]
    },
    {
      "cell_type": "code",
      "metadata": {
        "colab": {
          "base_uri": "https://localhost:8080/",
          "height": 394
        },
        "id": "Mb3WRxuLDMeN",
        "outputId": "0cff9631-6668-490f-bd9a-49cb467b2ce4"
      },
      "source": [
        "df_conf = pd.DataFrame(arr_conf, index = [\"T-shirt/top\",\"Trouser\",\"Pullover\",\"Dress\",\"Coat\", \"Sandal\",\"Shirt\",\"Sneaker\",\"Bag\",\"Ankle boot\"],\n",
        "                  columns = [\"T-shirt/top\",\"Trouser\",\"Pullover\",\"Dress\",\"Coat\", \"Sandal\",\"Shirt\",\"Sneaker\",\"Bag\",\"Ankle boot\"])\n",
        "df_conf.index.name = 'Actual'\n",
        "df_conf.columns.name = 'Predicted'\n",
        "df_conf"
      ],
      "execution_count": 85,
      "outputs": [
        {
          "output_type": "execute_result",
          "data": {
            "text/html": [
              "<div>\n",
              "<style scoped>\n",
              "    .dataframe tbody tr th:only-of-type {\n",
              "        vertical-align: middle;\n",
              "    }\n",
              "\n",
              "    .dataframe tbody tr th {\n",
              "        vertical-align: top;\n",
              "    }\n",
              "\n",
              "    .dataframe thead th {\n",
              "        text-align: right;\n",
              "    }\n",
              "</style>\n",
              "<table border=\"1\" class=\"dataframe\">\n",
              "  <thead>\n",
              "    <tr style=\"text-align: right;\">\n",
              "      <th>Predicted</th>\n",
              "      <th>T-shirt/top</th>\n",
              "      <th>Trouser</th>\n",
              "      <th>Pullover</th>\n",
              "      <th>Dress</th>\n",
              "      <th>Coat</th>\n",
              "      <th>Sandal</th>\n",
              "      <th>Shirt</th>\n",
              "      <th>Sneaker</th>\n",
              "      <th>Bag</th>\n",
              "      <th>Ankle boot</th>\n",
              "    </tr>\n",
              "    <tr>\n",
              "      <th>Actual</th>\n",
              "      <th></th>\n",
              "      <th></th>\n",
              "      <th></th>\n",
              "      <th></th>\n",
              "      <th></th>\n",
              "      <th></th>\n",
              "      <th></th>\n",
              "      <th></th>\n",
              "      <th></th>\n",
              "      <th></th>\n",
              "    </tr>\n",
              "  </thead>\n",
              "  <tbody>\n",
              "    <tr>\n",
              "      <th>T-shirt/top</th>\n",
              "      <td>575</td>\n",
              "      <td>0</td>\n",
              "      <td>14</td>\n",
              "      <td>20</td>\n",
              "      <td>2</td>\n",
              "      <td>1</td>\n",
              "      <td>16</td>\n",
              "      <td>0</td>\n",
              "      <td>2</td>\n",
              "      <td>0</td>\n",
              "    </tr>\n",
              "    <tr>\n",
              "      <th>Trouser</th>\n",
              "      <td>0</td>\n",
              "      <td>556</td>\n",
              "      <td>7</td>\n",
              "      <td>17</td>\n",
              "      <td>2</td>\n",
              "      <td>0</td>\n",
              "      <td>2</td>\n",
              "      <td>0</td>\n",
              "      <td>0</td>\n",
              "      <td>0</td>\n",
              "    </tr>\n",
              "    <tr>\n",
              "      <th>Pullover</th>\n",
              "      <td>10</td>\n",
              "      <td>1</td>\n",
              "      <td>538</td>\n",
              "      <td>5</td>\n",
              "      <td>30</td>\n",
              "      <td>0</td>\n",
              "      <td>14</td>\n",
              "      <td>0</td>\n",
              "      <td>4</td>\n",
              "      <td>0</td>\n",
              "    </tr>\n",
              "    <tr>\n",
              "      <th>Dress</th>\n",
              "      <td>26</td>\n",
              "      <td>5</td>\n",
              "      <td>9</td>\n",
              "      <td>530</td>\n",
              "      <td>29</td>\n",
              "      <td>0</td>\n",
              "      <td>3</td>\n",
              "      <td>1</td>\n",
              "      <td>2</td>\n",
              "      <td>0</td>\n",
              "    </tr>\n",
              "    <tr>\n",
              "      <th>Coat</th>\n",
              "      <td>0</td>\n",
              "      <td>1</td>\n",
              "      <td>200</td>\n",
              "      <td>20</td>\n",
              "      <td>396</td>\n",
              "      <td>0</td>\n",
              "      <td>14</td>\n",
              "      <td>0</td>\n",
              "      <td>2</td>\n",
              "      <td>0</td>\n",
              "    </tr>\n",
              "    <tr>\n",
              "      <th>Sandal</th>\n",
              "      <td>1</td>\n",
              "      <td>0</td>\n",
              "      <td>0</td>\n",
              "      <td>0</td>\n",
              "      <td>0</td>\n",
              "      <td>557</td>\n",
              "      <td>0</td>\n",
              "      <td>19</td>\n",
              "      <td>6</td>\n",
              "      <td>8</td>\n",
              "    </tr>\n",
              "    <tr>\n",
              "      <th>Shirt</th>\n",
              "      <td>161</td>\n",
              "      <td>1</td>\n",
              "      <td>105</td>\n",
              "      <td>15</td>\n",
              "      <td>67</td>\n",
              "      <td>0</td>\n",
              "      <td>210</td>\n",
              "      <td>0</td>\n",
              "      <td>6</td>\n",
              "      <td>0</td>\n",
              "    </tr>\n",
              "    <tr>\n",
              "      <th>Sneaker</th>\n",
              "      <td>0</td>\n",
              "      <td>0</td>\n",
              "      <td>0</td>\n",
              "      <td>0</td>\n",
              "      <td>0</td>\n",
              "      <td>17</td>\n",
              "      <td>0</td>\n",
              "      <td>522</td>\n",
              "      <td>0</td>\n",
              "      <td>16</td>\n",
              "    </tr>\n",
              "    <tr>\n",
              "      <th>Bag</th>\n",
              "      <td>3</td>\n",
              "      <td>0</td>\n",
              "      <td>7</td>\n",
              "      <td>1</td>\n",
              "      <td>6</td>\n",
              "      <td>5</td>\n",
              "      <td>16</td>\n",
              "      <td>5</td>\n",
              "      <td>573</td>\n",
              "      <td>0</td>\n",
              "    </tr>\n",
              "    <tr>\n",
              "      <th>Ankle boot</th>\n",
              "      <td>0</td>\n",
              "      <td>0</td>\n",
              "      <td>0</td>\n",
              "      <td>0</td>\n",
              "      <td>0</td>\n",
              "      <td>12</td>\n",
              "      <td>0</td>\n",
              "      <td>37</td>\n",
              "      <td>0</td>\n",
              "      <td>570</td>\n",
              "    </tr>\n",
              "  </tbody>\n",
              "</table>\n",
              "</div>"
            ],
            "text/plain": [
              "Predicted    T-shirt/top  Trouser  Pullover  ...  Sneaker  Bag  Ankle boot\n",
              "Actual                                       ...                          \n",
              "T-shirt/top          575        0        14  ...        0    2           0\n",
              "Trouser                0      556         7  ...        0    0           0\n",
              "Pullover              10        1       538  ...        0    4           0\n",
              "Dress                 26        5         9  ...        1    2           0\n",
              "Coat                   0        1       200  ...        0    2           0\n",
              "Sandal                 1        0         0  ...       19    6           8\n",
              "Shirt                161        1       105  ...        0    6           0\n",
              "Sneaker                0        0         0  ...      522    0          16\n",
              "Bag                    3        0         7  ...        5  573           0\n",
              "Ankle boot             0        0         0  ...       37    0         570\n",
              "\n",
              "[10 rows x 10 columns]"
            ]
          },
          "metadata": {
            "tags": []
          },
          "execution_count": 85
        }
      ]
    },
    {
      "cell_type": "code",
      "metadata": {
        "colab": {
          "base_uri": "https://localhost:8080/",
          "height": 741
        },
        "id": "-fihttoxDPWN",
        "outputId": "dee6d925-fe96-49ff-9208-d67b6146f4bb"
      },
      "source": [
        "plt.subplots(figsize = (18,12))\n",
        "sn.set(font_scale=1.2)#for label size\n",
        "sn.heatmap(df_conf, cmap=\"YlGnBu\", annot=True,annot_kws={\"size\": 13}, square=True)# font size"
      ],
      "execution_count": 86,
      "outputs": [
        {
          "output_type": "execute_result",
          "data": {
            "text/plain": [
              "<matplotlib.axes._subplots.AxesSubplot at 0x7fc4088bec50>"
            ]
          },
          "metadata": {
            "tags": []
          },
          "execution_count": 86
        },
        {
          "output_type": "display_data",
          "data": {
            "image/png": "[encoded data removed]",
            "text/plain": [
              "<Figure size 1296x864 with 2 Axes>"
            ]
          },
          "metadata": {
            "tags": []
          }
        }
      ]
    },
    {
      "cell_type": "code",
      "metadata": {
        "colab": {
          "base_uri": "https://localhost:8080/"
        },
        "id": "1aBSzgfyERBf",
        "outputId": "6deaa9e3-5897-4aec-b0e1-175fb4f6809e"
      },
      "source": [
        "data = {'accuracy' : test_accuracy}\n",
        "df = pd.DataFrame(data)\n",
        "print(df)"
      ],
      "execution_count": 87,
      "outputs": [
        {
          "output_type": "stream",
          "text": [
            "   accuracy\n",
            "0    0.7569\n",
            "1    0.8001\n",
            "2    0.8291\n",
            "3    0.8272\n",
            "4    0.8317\n"
          ],
          "name": "stdout"
        }
      ]
    },
    {
      "cell_type": "code",
      "metadata": {
        "colab": {
          "base_uri": "https://localhost:8080/",
          "height": 310
        },
        "id": "t_47LRZIFQOk",
        "outputId": "bd67f705-fcf5-45fc-d5d0-7e781d51d566"
      },
      "source": [
        "# sn.lineplot(x=\"h\", y=\"i\", data=df)\n",
        "plt.plot(df, color='black', marker='o', linestyle='dashed',linewidth=2, markersize=12)\n",
        "plt.xlabel('epoch', fontsize=18)\n",
        "plt.ylabel('Test Accuracy', fontsize=16)"
      ],
      "execution_count": 88,
      "outputs": [
        {
          "output_type": "execute_result",
          "data": {
            "text/plain": [
              "Text(0, 0.5, 'Test Accuracy')"
            ]
          },
          "metadata": {
            "tags": []
          },
          "execution_count": 88
        },
        {
          "output_type": "display_data",
          "data": {
            "image/png": "[encoded data removed]",
            "text/plain": [
              "<Figure size 432x288 with 1 Axes>"
            ]
          },
          "metadata": {
            "tags": []
          }
        }
      ]
    },
    {
      "cell_type": "code",
      "metadata": {
        "id": "F5TjKq8RFaNl"
      },
      "source": [
        ""
      ],
      "execution_count": 88,
      "outputs": []
    }
  ]
}